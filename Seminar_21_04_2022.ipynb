{
 "cells": [
  {
   "cell_type": "code",
   "execution_count": 6,
   "id": "antique-stephen",
   "metadata": {},
   "outputs": [],
   "source": [
    "from sqlalchemy import MetaData, Table, create_engine, select, and_, or_, not_, text\n",
    "from sqlalchemy.sql import func, distinct, exists\n",
    "engine = create_engine('sqlite+pysqlite:////Users/vladislavvorosilov/Desktop/Python_SQL/Python_SQL_PI_2021_22_s2/Data/Students.db')\n",
    "metadata_obj = MetaData()\n",
    "metadata_obj.reflect(bind=engine) \n",
    "exam_marks=Table(\"exam_marks\", metadata_obj, autoload=True, autoload_with=\"engine\")\n",
    "lecturer=Table(\"lecturer\", metadata_obj, autoload=True, autoload_with=\"engine\")\n",
    "student=Table(\"student\", metadata_obj, autoload=True, autoload_with=\"engine\")\n",
    "subj_lect=Table(\"subj_lect\", metadata_obj, autoload=True, autoload_with=\"engine\")\n",
    "subject=Table(\"subject\", metadata_obj, autoload=True, autoload_with=\"engine\")\n",
    "university=Table(\"university\", metadata_obj, autolad=True, autolad_with=\"engine\")\n",
    "conn=engine.connect()\n"
   ]
  },
  {
   "cell_type": "markdown",
   "id": "toxic-brief",
   "metadata": {},
   "source": [
    "### 1. Напишите запрос, который выполняет вывод фамилий студентов, сдававших экзамены, вместе с идентификаторами каждого сданного ими предмета обучения."
   ]
  },
  {
   "cell_type": "code",
   "execution_count": 6,
   "id": "mechanical-documentary",
   "metadata": {},
   "outputs": [
    {
     "name": "stdout",
     "output_type": "stream",
     "text": [
      "47\n"
     ]
    },
    {
     "data": {
      "text/plain": [
       "[('Вишнякова', 'Анжела', 10),\n",
       " ('Казакова', 'Мария', 73),\n",
       " ('Жук', 'Оксана', 73),\n",
       " ('Жуков', 'Пров', 56),\n",
       " ('Кондрат', 'Синицин', 10),\n",
       " ('Лазарев', 'Константин', 56),\n",
       " ('Афанасьева', 'Анжелика', 12),\n",
       " ('Федоров', 'Гостомысл', 12),\n",
       " ('Блохина', 'Ираида', 22),\n",
       " ('Суханов', 'Константин', 22)]"
      ]
     },
     "execution_count": 6,
     "metadata": {},
     "output_type": "execute_result"
    }
   ],
   "source": [
    "stmt = select(student.c.surname, student.c.name, exam_marks.c.subj_id)\n",
    "stmt = stmt.select_from(student)\n",
    "stmt = stmt.join(exam_marks, exam_marks.c.student_id == student.c.student_id)\n",
    "\n",
    "\n",
    "result = conn.execute(stmt).fetchall()\n",
    "print(len(result))\n",
    "result[:10]"
   ]
  },
  {
   "cell_type": "markdown",
   "id": "accessible-windsor",
   "metadata": {},
   "source": [
    "### 2. Напишите запрос, который выполняет выборку фамилий всех студентов, с указанием для студентов, сдававших экзамены, идентификаторов сданных ими предметов обучения."
   ]
  },
  {
   "cell_type": "code",
   "execution_count": 7,
   "id": "loving-clothing",
   "metadata": {},
   "outputs": [
    {
     "name": "stdout",
     "output_type": "stream",
     "text": [
      "100\n"
     ]
    },
    {
     "data": {
      "text/plain": [
       "[('Иванов', 'Иван', 43),\n",
       " ('Петров', 'Петр', None),\n",
       " ('Сидоров', 'Вадим', 22),\n",
       " ('Кузнецов', 'Борис', 12),\n",
       " ('Зайцева', 'Ольга', 10),\n",
       " ('Зайцева', 'Ольга', 10),\n",
       " ('Ордуханян', 'Рафаэль', 10),\n",
       " ('Котов', 'Павел', 10),\n",
       " ('Белкин', 'Вадим', 10),\n",
       " ('Белкин', 'Вадим', 10)]"
      ]
     },
     "execution_count": 7,
     "metadata": {},
     "output_type": "execute_result"
    }
   ],
   "source": [
    "stmt = select(student.c.surname, student.c.name, exam_marks.c.subj_id)\n",
    "stmt = stmt.select_from(student)\n",
    "stmt = stmt.join(exam_marks, exam_marks.c.student_id == student.c.student_id, isouter=True)\n",
    "\n",
    "\n",
    "result = conn.execute(stmt).fetchall()\n",
    "print(len(result))\n",
    "result[:10]"
   ]
  },
  {
   "cell_type": "markdown",
   "id": "liable-extension",
   "metadata": {},
   "source": [
    "### 3. Напишите запрос, который выполняет вывод фамилий студентов, сдававших экзамены, вместе с наименованиями каждого сданного ими предмета обучения."
   ]
  },
  {
   "cell_type": "code",
   "execution_count": 12,
   "id": "advance-butter",
   "metadata": {},
   "outputs": [
    {
     "name": "stdout",
     "output_type": "stream",
     "text": [
      "47\n"
     ]
    },
    {
     "data": {
      "text/plain": [
       "[('Вишнякова', 'Анжела', 10, 'Информатика'),\n",
       " ('Казакова', 'Мария', 73, 'Физкультура'),\n",
       " ('Жук', 'Оксана', 73, 'Физкультура'),\n",
       " ('Жуков', 'Пров', 56, 'История'),\n",
       " ('Кондрат', 'Синицин', 10, 'Информатика'),\n",
       " ('Лазарев', 'Константин', 56, 'История'),\n",
       " ('Афанасьева', 'Анжелика', 12, 'Анализ данных'),\n",
       " ('Федоров', 'Гостомысл', 12, 'Анализ данных'),\n",
       " ('Блохина', 'Ираида', 22, 'Физика'),\n",
       " ('Суханов', 'Константин', 22, 'Физика')]"
      ]
     },
     "execution_count": 12,
     "metadata": {},
     "output_type": "execute_result"
    }
   ],
   "source": [
    "stmt = select(student.c.surname, student.c.name, exam_marks.c.subj_id, subject.c.subj_name)\n",
    "stmt = stmt.select_from(student)\n",
    "stmt = stmt.join(exam_marks, exam_marks.c.student_id == student.c.student_id)\n",
    "stmt = stmt.join(subject, subject.c.subj_id == exam_marks.c.subj_id)\n",
    "\n",
    "\n",
    "result = conn.execute(stmt).fetchall()\n",
    "print(len(result))\n",
    "result[:10]"
   ]
  },
  {
   "cell_type": "markdown",
   "id": "legislative-webmaster",
   "metadata": {},
   "source": [
    "### 4. Напишите запрос на выдачу списка всех студентов. Для студентов, сдававших экзамены, укажите названия соответствующих предметов обучения."
   ]
  },
  {
   "cell_type": "code",
   "execution_count": 13,
   "id": "located-wonder",
   "metadata": {},
   "outputs": [
    {
     "name": "stdout",
     "output_type": "stream",
     "text": [
      "100\n"
     ]
    },
    {
     "data": {
      "text/plain": [
       "[('Иванов', 'Иван', 43, 'Математика'),\n",
       " ('Петров', 'Петр', None, None),\n",
       " ('Сидоров', 'Вадим', 22, 'Физика'),\n",
       " ('Кузнецов', 'Борис', 12, 'Анализ данных'),\n",
       " ('Зайцева', 'Ольга', 10, 'Информатика'),\n",
       " ('Зайцева', 'Ольга', 10, 'Информатика'),\n",
       " ('Ордуханян', 'Рафаэль', 10, 'Информатика'),\n",
       " ('Котов', 'Павел', 10, 'Информатика'),\n",
       " ('Белкин', 'Вадим', 10, 'Информатика'),\n",
       " ('Белкин', 'Вадим', 10, 'Информатика')]"
      ]
     },
     "execution_count": 13,
     "metadata": {},
     "output_type": "execute_result"
    }
   ],
   "source": [
    "stmt = select(student.c.surname, student.c.name, exam_marks.c.subj_id, subject.c.subj_name)\n",
    "stmt = stmt.select_from(student)\n",
    "stmt = stmt.join(exam_marks, exam_marks.c.student_id == student.c.student_id, isouter=True)\n",
    "stmt = stmt.join(subject, subject.c.subj_id == exam_marks.c.subj_id, isouter=True)\n",
    "\n",
    "\n",
    "result = conn.execute(stmt).fetchall()\n",
    "print(len(result))\n",
    "result[:10]"
   ]
  },
  {
   "cell_type": "markdown",
   "id": "contemporary-entertainment",
   "metadata": {},
   "source": [
    "### 5. Напишите запрос на выдачу названий всех предметов, по которым студенты получили только хорошие (4 и 5) оценки. В выходных данных должны быть приведены фамилии студентов, названия предметов и оценка.\n"
   ]
  },
  {
   "cell_type": "code",
   "execution_count": 29,
   "id": "virgin-homeless",
   "metadata": {},
   "outputs": [
    {
     "name": "stdout",
     "output_type": "stream",
     "text": [
      "SELECT subject.subj_name, student.surname, student.name, em1.mark \n",
      "FROM exam_marks AS em1 JOIN student ON em1.student_id = student.student_id JOIN subject ON subject.subj_id = em1.subj_id \n",
      "WHERE NOT (EXISTS (SELECT * \n",
      "FROM exam_marks AS em2 \n",
      "WHERE em2.mark < :mark_1 AND em2.subj_id = em1.subj_id))\n",
      "1\n"
     ]
    },
    {
     "data": {
      "text/plain": [
       "[('Обработка данных и моделирование в Excel', 'Мельникова', 'Светлана', 4)]"
      ]
     },
     "execution_count": 29,
     "metadata": {},
     "output_type": "execute_result"
    }
   ],
   "source": [
    "em1 = exam_marks.alias(\"em1\")\n",
    "em2 = exam_marks.alias(\"em2\")\n",
    "\n",
    "subq = ~exists().where(and_(em2.c.mark < 4, em2.c.subj_id == em1.c.subj_id))\n",
    "\n",
    "stmt = select(subject.c.subj_name, student.c.surname, student.c.name, em1.c.mark)\n",
    "stmt = stmt.select_from(em1)\n",
    "stmt = stmt.join(student, em1.c.student_id == student.c.student_id)\n",
    "stmt = stmt.join(subject, subject.c.subj_id == em1.c.subj_id)\n",
    "stmt = stmt.where(subq)\n",
    "\n",
    "print(stmt)\n",
    "result = conn.execute(stmt).fetchall()\n",
    "print(len(result))\n",
    "result[:10]"
   ]
  },
  {
   "cell_type": "markdown",
   "id": "annoying-wilson",
   "metadata": {},
   "source": [
    "### 6. Напишите запрос, который выполняет вывод списка университетов с рейтингом, превышающим 300, вместе со значением максимального размера стипендии, получаемой студентами в этих университетах.\n"
   ]
  },
  {
   "cell_type": "code",
   "execution_count": 47,
   "id": "trying-panel",
   "metadata": {},
   "outputs": [
    {
     "name": "stdout",
     "output_type": "stream",
     "text": [
      "SELECT university.univ_name, university.rating, max(student.stipend) AS max_1 \n",
      "FROM university LEFT OUTER JOIN student ON university.univ_id = student.univ_id \n",
      "WHERE university.rating > :rating_1 GROUP BY university.univ_id ORDER BY university.rating\n",
      "10\n"
     ]
    },
    {
     "data": {
      "text/plain": [
       "[('ФГБОУ \"Политех\"', 304, 200),\n",
       " ('БГУ', 326, 250),\n",
       " ('ВГМА', 327, 200),\n",
       " ('ФинУ', 330, 250),\n",
       " ('НГУ', 345, 250),\n",
       " ('ТГУ', 368, 250),\n",
       " ('МГТУ им. Баумана', 372, 200),\n",
       " ('РГУ', 416, 250),\n",
       " ('МФТИ', 500, None),\n",
       " ('МГУ', 606, 250)]"
      ]
     },
     "execution_count": 47,
     "metadata": {},
     "output_type": "execute_result"
    }
   ],
   "source": [
    "stmt = select(university.c.univ_name, university.c.rating, func.max(student.c.stipend))\n",
    "stmt = stmt.select_from(university)\n",
    "stmt = stmt.join(student, university.c.univ_id == student.c.univ_id, isouter = True)\n",
    "stmt = stmt.where(university.c.rating > 300)\n",
    "stmt = stmt.group_by(university.c.univ_id)\n",
    "stmt = stmt.order_by(university.c.rating)\n",
    "\n",
    "print(stmt)\n",
    "result = conn.execute(stmt).fetchall()\n",
    "print(len(result))\n",
    "result[:10]"
   ]
  },
  {
   "cell_type": "markdown",
   "id": "korean-disabled",
   "metadata": {},
   "source": [
    "### 7. Напишите запрос на выдачу списка студентов (в алфавитном порядке фамилий) вместе со значением рейтинга университета, где каждый из них учится, включив в список и тех студентов, место учебы которых в базе данных не указано."
   ]
  },
  {
   "cell_type": "code",
   "execution_count": 51,
   "id": "pregnant-guard",
   "metadata": {},
   "outputs": [
    {
     "name": "stdout",
     "output_type": "stream",
     "text": [
      "SELECT student.surname, student.name, university.univ_name, university.rating \n",
      "FROM student LEFT OUTER JOIN university ON university.univ_id = student.univ_id ORDER BY student.surname\n",
      "90\n"
     ]
    },
    {
     "data": {
      "text/plain": [
       "[('Агафонов', 'Василий', 'ВГУ', 296),\n",
       " ('Аксенов', 'Валерий', 'ВГУ', 296),\n",
       " ('Антонов', 'Анатолий', 'МГУ', 606),\n",
       " ('Архипов', 'Андрей', 'МГУ', 606),\n",
       " ('Афанасьева', 'Анжелика', 'РГУ', 416),\n",
       " ('Баранов', 'Александр', 'ФинУ', 330),\n",
       " ('Белкин', 'Вадим', 'ВГУ', 296),\n",
       " ('Бирюков', 'Герасим', 'ФинУ', 330),\n",
       " ('Бирюков', 'Мартин', 'КФУ', None),\n",
       " ('Блохина', 'Ираида', 'МГУ', 606)]"
      ]
     },
     "execution_count": 51,
     "metadata": {},
     "output_type": "execute_result"
    }
   ],
   "source": [
    "stmt = select(student.c.surname, student.c.name, university.c.univ_name, university.c.rating)\n",
    "stmt = stmt.select_from(student)\n",
    "stmt = stmt.join(university, university.c.univ_id == student.c.univ_id, isouter=True)\n",
    "stmt = stmt.order_by(student.c.surname)\n",
    "\n",
    "print(stmt)\n",
    "result = conn.execute(stmt).fetchall()\n",
    "print(len(result))\n",
    "result[:10]"
   ]
  },
  {
   "cell_type": "markdown",
   "id": "another-collector",
   "metadata": {},
   "source": [
    "### 8. Напишите запрос для получения списка всех студентов вместе с названиями университетов, в которых они учатся. Отдельным запросом получите записи, расширяющие данный список по сравнению с тем, который был бы получен внутренним соединением."
   ]
  },
  {
   "cell_type": "code",
   "execution_count": 52,
   "id": "stone-advancement",
   "metadata": {},
   "outputs": [
    {
     "name": "stdout",
     "output_type": "stream",
     "text": [
      "SELECT student.surname, student.name, university.univ_name \n",
      "FROM student LEFT OUTER JOIN university ON university.univ_id = student.univ_id ORDER BY student.surname\n",
      "90\n"
     ]
    },
    {
     "data": {
      "text/plain": [
       "[('Агафонов', 'Василий', 'ВГУ'),\n",
       " ('Аксенов', 'Валерий', 'ВГУ'),\n",
       " ('Антонов', 'Анатолий', 'МГУ'),\n",
       " ('Архипов', 'Андрей', 'МГУ'),\n",
       " ('Афанасьева', 'Анжелика', 'РГУ'),\n",
       " ('Баранов', 'Александр', 'ФинУ'),\n",
       " ('Белкин', 'Вадим', 'ВГУ'),\n",
       " ('Бирюков', 'Герасим', 'ФинУ'),\n",
       " ('Бирюков', 'Мартин', 'КФУ'),\n",
       " ('Блохина', 'Ираида', 'МГУ')]"
      ]
     },
     "execution_count": 52,
     "metadata": {},
     "output_type": "execute_result"
    }
   ],
   "source": [
    "stmt = select(student.c.surname, student.c.name, university.c.univ_name)\n",
    "stmt = stmt.select_from(student)\n",
    "stmt = stmt.join(university, university.c.univ_id == student.c.univ_id, isouter=True)\n",
    "stmt = stmt.order_by(student.c.surname)\n",
    "\n",
    "print(stmt)\n",
    "result = conn.execute(stmt).fetchall()\n",
    "print(len(result))\n",
    "result[:10]"
   ]
  },
  {
   "cell_type": "markdown",
   "id": "favorite-motor",
   "metadata": {},
   "source": [
    "### 9. Напишите запрос для получения списка всех университетов вместе с фамилиями студентов, в них обучающихся. Отдельным запросом получите записи, расширяющие данный список по сравнению с тем, который был бы получен внутренним соединением."
   ]
  },
  {
   "cell_type": "code",
   "execution_count": 74,
   "id": "naval-arrangement",
   "metadata": {},
   "outputs": [
    {
     "name": "stdout",
     "output_type": "stream",
     "text": [
      "SELECT student.surname, student.name, u1.univ_name \n",
      "FROM university AS u1 LEFT OUTER JOIN student ON u1.univ_id = student.univ_id \n",
      "WHERE NOT (EXISTS (SELECT * \n",
      "FROM university AS u2 \n",
      "WHERE u2.univ_id = student.univ_id)) ORDER BY student.surname\n",
      "1\n"
     ]
    },
    {
     "data": {
      "text/plain": [
       "[(None, None, 'МФТИ')]"
      ]
     },
     "execution_count": 74,
     "metadata": {},
     "output_type": "execute_result"
    }
   ],
   "source": [
    "u1 = university.alias(\"u1\")\n",
    "u2 = university.alias(\"u2\")\n",
    "\n",
    "subq = ~exists().where(u2.c.univ_id == student.c.univ_id)\n",
    "\n",
    "\n",
    "stmt = select(student.c.surname, student.c.name, u1.c.univ_name)\n",
    "stmt = stmt.select_from(u1)\n",
    "stmt = stmt.join(student, u1.c.univ_id == student.c.univ_id, isouter=True)\n",
    "stmt = stmt.where(subq)\n",
    "stmt = stmt.order_by(student.c.surname)\n",
    "\n",
    "print(stmt)\n",
    "result = conn.execute(stmt).fetchall()\n",
    "print(len(result))\n",
    "result[:10]"
   ]
  },
  {
   "cell_type": "markdown",
   "id": "fuzzy-electricity",
   "metadata": {},
   "source": [
    "### 10. Напишите запрос для получения списка всех университетов вместе с фамилиями преподавателей, в них работающих. Отдельным запросом получите записи, расширяющие данный список по сравнению с тем, который был бы получен внутренним соединением."
   ]
  },
  {
   "cell_type": "code",
   "execution_count": 77,
   "id": "hired-aerospace",
   "metadata": {},
   "outputs": [
    {
     "name": "stdout",
     "output_type": "stream",
     "text": [
      "SELECT lecturer.surname, lecturer.name, university.univ_name \n",
      "FROM university JOIN lecturer ON university.univ_id = lecturer.univ_id\n",
      "29\n"
     ]
    },
    {
     "data": {
      "text/plain": [
       "[('Сафонова', 'Лукия', 'ФГБОУ \"Политех\"'),\n",
       " ('Зайцева', 'Юлия', 'ВГУ'),\n",
       " ('Мамонтова', 'Акулина', 'НГУ'),\n",
       " ('Богданова', 'Оксана', 'ВГМА'),\n",
       " ('Брагина', 'Нинель', 'УЛГУ'),\n",
       " ('Максимова', 'Иванна', 'ВГУ'),\n",
       " ('Дмитриева', 'Оксана', 'УЛГУ'),\n",
       " ('Ситникова', 'Светлана', 'ВГМА'),\n",
       " ('Крюкова', 'Людмила', 'ВГМА'),\n",
       " ('Артемьева', 'Майя', 'ВГМА')]"
      ]
     },
     "execution_count": 77,
     "metadata": {},
     "output_type": "execute_result"
    }
   ],
   "source": [
    "stmt = select(lecturer.c.surname, lecturer.c.name, university.c.univ_name)\n",
    "stmt = stmt.select_from(university)\n",
    "stmt = stmt.join(lecturer, university.c.univ_id == lecturer.c.univ_id)\n",
    "\n",
    "\n",
    "print(stmt)\n",
    "result = conn.execute(stmt).fetchall()\n",
    "print(len(result))\n",
    "result[:10]"
   ]
  },
  {
   "cell_type": "code",
   "execution_count": 84,
   "id": "planned-technique",
   "metadata": {},
   "outputs": [
    {
     "name": "stdout",
     "output_type": "stream",
     "text": [
      "SELECT lecturer.surname, lecturer.name, university.univ_name \n",
      "FROM university LEFT OUTER JOIN lecturer ON university.univ_id = lecturer.univ_id\n",
      "32\n"
     ]
    },
    {
     "data": {
      "text/plain": [
       "[('Алексеев', 'Елисей', 'ВГУ'),\n",
       " ('Зайцева', 'Юлия', 'ВГУ'),\n",
       " ('Зыкова', 'Оксана', 'ВГУ'),\n",
       " ('Колесников', 'Борис', 'ВГУ'),\n",
       " ('Максимова', 'Иванна', 'ВГУ'),\n",
       " ('Николаев', 'Виктор', 'ВГУ'),\n",
       " ('Никонов', 'Иван', 'ВГУ'),\n",
       " ('Сорокин', 'Андрей', 'ВГУ'),\n",
       " ('Мамонтова', 'Акулина', 'НГУ'),\n",
       " (None, None, 'МФТИ')]"
      ]
     },
     "execution_count": 84,
     "metadata": {},
     "output_type": "execute_result"
    }
   ],
   "source": [
    "stmt = select(lecturer.c.surname, lecturer.c.name, university.c.univ_name)\n",
    "stmt = stmt.select_from(university)\n",
    "stmt = stmt.join(lecturer, university.c.univ_id == lecturer.c.univ_id, isouter = True)\n",
    "\n",
    "\n",
    "print(stmt)\n",
    "result = conn.execute(stmt).fetchall()\n",
    "print(len(result))\n",
    "result[:10]"
   ]
  },
  {
   "cell_type": "code",
   "execution_count": 83,
   "id": "failing-mathematics",
   "metadata": {},
   "outputs": [
    {
     "name": "stdout",
     "output_type": "stream",
     "text": [
      "SELECT lecturer.surname, lecturer.name, u1.univ_name \n",
      "FROM university AS u1 LEFT OUTER JOIN lecturer ON u1.univ_id = lecturer.univ_id \n",
      "WHERE NOT (EXISTS (SELECT * \n",
      "FROM university AS u2 \n",
      "WHERE u2.univ_id = lecturer.univ_id)) ORDER BY lecturer.surname\n",
      "3\n"
     ]
    },
    {
     "data": {
      "text/plain": [
       "[(None, None, 'МФТИ'), (None, None, 'БГУ'), (None, None, 'ФинУ')]"
      ]
     },
     "execution_count": 83,
     "metadata": {},
     "output_type": "execute_result"
    }
   ],
   "source": [
    "u1 = university.alias(\"u1\")\n",
    "u2 = university.alias(\"u2\")\n",
    "\n",
    "subq = ~exists().where(u2.c.univ_id == lecturer.c.univ_id)\n",
    "\n",
    "\n",
    "stmt = select(lecturer.c.surname, lecturer.c.name, u1.c.univ_name)\n",
    "stmt = stmt.select_from(u1)\n",
    "stmt = stmt.join(lecturer, u1.c.univ_id == lecturer.c.univ_id, isouter=True)\n",
    "stmt = stmt.where(subq)\n",
    "stmt = stmt.order_by(lecturer.c.surname)\n",
    "\n",
    "print(stmt)\n",
    "result = conn.execute(stmt).fetchall()\n",
    "print(len(result))\n",
    "result[:10]"
   ]
  },
  {
   "cell_type": "markdown",
   "id": "restricted-memorabilia",
   "metadata": {},
   "source": [
    "### 11. Напишите запрос для получения списка всех преподавателей вместе с университетами, в которых они работают. Есть ли отличие списка от того, который был бы получен внутренним соединением? Подтвердите отдельным запросом ваш вывод."
   ]
  },
  {
   "cell_type": "code",
   "execution_count": 85,
   "id": "determined-cycling",
   "metadata": {},
   "outputs": [
    {
     "name": "stdout",
     "output_type": "stream",
     "text": [
      "SELECT lecturer.surname, lecturer.name, university.univ_name \n",
      "FROM lecturer JOIN university ON university.univ_id = lecturer.univ_id\n",
      "29\n"
     ]
    },
    {
     "data": {
      "text/plain": [
       "[('Сафонова', 'Лукия', 'ФГБОУ \"Политех\"'),\n",
       " ('Зайцева', 'Юлия', 'ВГУ'),\n",
       " ('Мамонтова', 'Акулина', 'НГУ'),\n",
       " ('Богданова', 'Оксана', 'ВГМА'),\n",
       " ('Брагина', 'Нинель', 'УЛГУ'),\n",
       " ('Максимова', 'Иванна', 'ВГУ'),\n",
       " ('Дмитриева', 'Оксана', 'УЛГУ'),\n",
       " ('Ситникова', 'Светлана', 'ВГМА'),\n",
       " ('Крюкова', 'Людмила', 'ВГМА'),\n",
       " ('Артемьева', 'Майя', 'ВГМА')]"
      ]
     },
     "execution_count": 85,
     "metadata": {},
     "output_type": "execute_result"
    }
   ],
   "source": [
    "stmt = select(lecturer.c.surname, lecturer.c.name, university.c.univ_name)\n",
    "stmt = stmt.select_from(lecturer)\n",
    "stmt = stmt.join(university, university.c.univ_id == lecturer.c.univ_id)\n",
    "\n",
    "\n",
    "print(stmt)\n",
    "result = conn.execute(stmt).fetchall()\n",
    "print(len(result))\n",
    "result[:10]"
   ]
  },
  {
   "cell_type": "code",
   "execution_count": 86,
   "id": "apparent-provision",
   "metadata": {},
   "outputs": [
    {
     "name": "stdout",
     "output_type": "stream",
     "text": [
      "SELECT lecturer.surname, lecturer.name, university.univ_name \n",
      "FROM lecturer LEFT OUTER JOIN university ON university.univ_id = lecturer.univ_id\n",
      "29\n"
     ]
    },
    {
     "data": {
      "text/plain": [
       "[('Сафонова', 'Лукия', 'ФГБОУ \"Политех\"'),\n",
       " ('Зайцева', 'Юлия', 'ВГУ'),\n",
       " ('Мамонтова', 'Акулина', 'НГУ'),\n",
       " ('Богданова', 'Оксана', 'ВГМА'),\n",
       " ('Брагина', 'Нинель', 'УЛГУ'),\n",
       " ('Максимова', 'Иванна', 'ВГУ'),\n",
       " ('Дмитриева', 'Оксана', 'УЛГУ'),\n",
       " ('Ситникова', 'Светлана', 'ВГМА'),\n",
       " ('Крюкова', 'Людмила', 'ВГМА'),\n",
       " ('Артемьева', 'Майя', 'ВГМА')]"
      ]
     },
     "execution_count": 86,
     "metadata": {},
     "output_type": "execute_result"
    }
   ],
   "source": [
    "stmt = select(lecturer.c.surname, lecturer.c.name, university.c.univ_name)\n",
    "stmt = stmt.select_from(lecturer)\n",
    "stmt = stmt.join(university, university.c.univ_id == lecturer.c.univ_id, isouter = True)\n",
    "\n",
    "\n",
    "print(stmt)\n",
    "result = conn.execute(stmt).fetchall()\n",
    "print(len(result))\n",
    "result[:10]"
   ]
  },
  {
   "cell_type": "markdown",
   "id": "raising-evans",
   "metadata": {},
   "source": [
    "#### Разницы нет. Значит нет строк в таблице lecturers, где столбец univ_id имеет значение NULL"
   ]
  },
  {
   "cell_type": "markdown",
   "id": "varied-seller",
   "metadata": {},
   "source": [
    "### 12. Напишите запрос для получения списка всех студентов и оценок, полученных ими на экзаменах. Отдельным запросом получите записи, расширяющие данный список по сравнению с тем, который был бы получен внутренним соединением."
   ]
  },
  {
   "cell_type": "code",
   "execution_count": 3,
   "id": "stopped-fighter",
   "metadata": {},
   "outputs": [
    {
     "name": "stdout",
     "output_type": "stream",
     "text": [
      "SELECT student.surname, student.name, exam_marks.mark \n",
      "FROM student JOIN exam_marks ON exam_marks.student_id = student.student_id\n",
      "47\n"
     ]
    },
    {
     "data": {
      "text/plain": [
       "[('Вишнякова', 'Анжела', 1),\n",
       " ('Казакова', 'Мария', 4),\n",
       " ('Жук', 'Оксана', 4),\n",
       " ('Жуков', 'Пров', 1),\n",
       " ('Кондрат', 'Синицин', 3),\n",
       " ('Лазарев', 'Константин', 4),\n",
       " ('Афанасьева', 'Анжелика', 1),\n",
       " ('Федоров', 'Гостомысл', 1),\n",
       " ('Блохина', 'Ираида', 5),\n",
       " ('Суханов', 'Константин', 1)]"
      ]
     },
     "execution_count": 3,
     "metadata": {},
     "output_type": "execute_result"
    }
   ],
   "source": [
    "stmt = select(student.c.surname, student.c.name, exam_marks.c.mark)\n",
    "stmt = stmt.select_from(student)\n",
    "stmt = stmt.join(exam_marks, exam_marks.c.student_id == student.c.student_id)\n",
    "\n",
    "\n",
    "print(stmt)\n",
    "result = conn.execute(stmt).fetchall()\n",
    "print(len(result))\n",
    "result[:10]"
   ]
  },
  {
   "cell_type": "code",
   "execution_count": 4,
   "id": "mysterious-blame",
   "metadata": {},
   "outputs": [
    {
     "name": "stdout",
     "output_type": "stream",
     "text": [
      "SELECT student.surname, student.name, exam_marks.mark \n",
      "FROM student LEFT OUTER JOIN exam_marks ON exam_marks.student_id = student.student_id\n",
      "100\n"
     ]
    },
    {
     "data": {
      "text/plain": [
       "[('Иванов', 'Иван', 1),\n",
       " ('Петров', 'Петр', None),\n",
       " ('Сидоров', 'Вадим', 4),\n",
       " ('Кузнецов', 'Борис', 5),\n",
       " ('Зайцева', 'Ольга', 2),\n",
       " ('Зайцева', 'Ольга', 5),\n",
       " ('Ордуханян', 'Рафаэль', 2),\n",
       " ('Котов', 'Павел', 4),\n",
       " ('Белкин', 'Вадим', None),\n",
       " ('Белкин', 'Вадим', 5)]"
      ]
     },
     "execution_count": 4,
     "metadata": {},
     "output_type": "execute_result"
    }
   ],
   "source": [
    "stmt = select(student.c.surname, student.c.name,exam_marks.c.mark)\n",
    "stmt = stmt.select_from(student)\n",
    "stmt = stmt.join(exam_marks, exam_marks.c.student_id == student.c.student_id, isouter=True)\n",
    "\n",
    "\n",
    "print(stmt)\n",
    "result = conn.execute(stmt).fetchall()\n",
    "print(len(result))\n",
    "result[:10]"
   ]
  },
  {
   "cell_type": "markdown",
   "id": "afraid-insight",
   "metadata": {},
   "source": [
    "#### Разница между запросами"
   ]
  },
  {
   "cell_type": "code",
   "execution_count": 16,
   "id": "gothic-education",
   "metadata": {},
   "outputs": [
    {
     "name": "stdout",
     "output_type": "stream",
     "text": [
      "SELECT s1.surname, s1.name, exam_marks.mark \n",
      "FROM student AS s1 LEFT OUTER JOIN exam_marks ON s1.student_id = exam_marks.student_id \n",
      "WHERE NOT (EXISTS (SELECT * \n",
      "FROM student AS s2 \n",
      "WHERE s2.student_id = exam_marks.student_id))\n",
      "53\n"
     ]
    },
    {
     "data": {
      "text/plain": [
       "[('Петров', 'Петр', None),\n",
       " ('Дуб', 'Елизавета', None),\n",
       " ('Кудряшова', 'Вера', None),\n",
       " ('Журавлева', 'Вера', None),\n",
       " ('Рожкова', 'Пелагея', None),\n",
       " ('Соколова', 'Ия', None),\n",
       " ('Некрасова', 'Вероника', None),\n",
       " ('Казакова', 'Ольга', None),\n",
       " ('Шубина', 'Елена', None),\n",
       " ('Миронова', 'Анна', None)]"
      ]
     },
     "execution_count": 16,
     "metadata": {},
     "output_type": "execute_result"
    }
   ],
   "source": [
    "s1 = student.alias(\"s1\")\n",
    "s2 = student.alias(\"s2\")\n",
    "\n",
    "subq = ~exists().where(s2.c.student_id == exam_marks.c.student_id)\n",
    "\n",
    "\n",
    "stmt = select(s1.c.surname, s1.c.name, exam_marks.c.mark)\n",
    "stmt = stmt.select_from(s1)\n",
    "stmt = stmt.join(exam_marks, s1.c.student_id == exam_marks.c.student_id, isouter=True)\n",
    "stmt = stmt.where(subq)\n",
    "\n",
    "print(stmt)\n",
    "result = conn.execute(stmt).fetchall()\n",
    "print(len(result))\n",
    "result[:10]"
   ]
  },
  {
   "cell_type": "markdown",
   "id": "desirable-symposium",
   "metadata": {},
   "source": [
    "### 13. Напишите запрос для получения списка всех экзаменационных оценок вместе с фамилиями получивших их студентов. Есть ли отличие списка от того, который был бы получен внутренним соединением? Подтвердите отдельным запросом ваш вывод."
   ]
  },
  {
   "cell_type": "code",
   "execution_count": 25,
   "id": "forward-sound",
   "metadata": {},
   "outputs": [
    {
     "name": "stdout",
     "output_type": "stream",
     "text": [
      "SELECT student.surname, student.name, exam_marks.mark \n",
      "FROM exam_marks JOIN student ON exam_marks.student_id = student.student_id\n",
      "47\n"
     ]
    },
    {
     "data": {
      "text/plain": [
       "[('Вишнякова', 'Анжела', 1),\n",
       " ('Казакова', 'Мария', 4),\n",
       " ('Жук', 'Оксана', 4),\n",
       " ('Жуков', 'Пров', 1),\n",
       " ('Кондрат', 'Синицин', 3),\n",
       " ('Лазарев', 'Константин', 4),\n",
       " ('Афанасьева', 'Анжелика', 1),\n",
       " ('Федоров', 'Гостомысл', 1),\n",
       " ('Блохина', 'Ираида', 5),\n",
       " ('Суханов', 'Константин', 1)]"
      ]
     },
     "execution_count": 25,
     "metadata": {},
     "output_type": "execute_result"
    }
   ],
   "source": [
    "stmt = select(student.c.surname, student.c.name, exam_marks.c.mark)\n",
    "stmt = stmt.select_from(exam_marks)\n",
    "stmt = stmt.join(student, exam_marks.c.student_id == student.c.student_id)\n",
    "\n",
    "\n",
    "print(stmt)\n",
    "result = conn.execute(stmt).fetchall()\n",
    "print(len(result))\n",
    "result[:10]"
   ]
  },
  {
   "cell_type": "code",
   "execution_count": 26,
   "id": "extreme-ceramic",
   "metadata": {},
   "outputs": [
    {
     "name": "stdout",
     "output_type": "stream",
     "text": [
      "SELECT student.surname, student.name, exam_marks.mark \n",
      "FROM exam_marks LEFT OUTER JOIN student ON exam_marks.student_id = student.student_id\n",
      "47\n"
     ]
    },
    {
     "data": {
      "text/plain": [
       "[('Вишнякова', 'Анжела', 1),\n",
       " ('Казакова', 'Мария', 4),\n",
       " ('Жук', 'Оксана', 4),\n",
       " ('Жуков', 'Пров', 1),\n",
       " ('Кондрат', 'Синицин', 3),\n",
       " ('Лазарев', 'Константин', 4),\n",
       " ('Афанасьева', 'Анжелика', 1),\n",
       " ('Федоров', 'Гостомысл', 1),\n",
       " ('Блохина', 'Ираида', 5),\n",
       " ('Суханов', 'Константин', 1)]"
      ]
     },
     "execution_count": 26,
     "metadata": {},
     "output_type": "execute_result"
    }
   ],
   "source": [
    "stmt = select(student.c.surname, student.c.name, exam_marks.c.mark)\n",
    "stmt = stmt.select_from(exam_marks)\n",
    "stmt = stmt.join(student, exam_marks.c.student_id == student.c.student_id, isouter=True)\n",
    "\n",
    "\n",
    "print(stmt)\n",
    "result = conn.execute(stmt).fetchall()\n",
    "print(len(result))\n",
    "result[:10]"
   ]
  },
  {
   "cell_type": "markdown",
   "id": "pressed-resource",
   "metadata": {},
   "source": [
    "### 14. Напишите запрос для получения полного списка предметов с соответствующими экзаменационными оценками. Есть ли отличие списка от того, который был бы получен внутренним соединением? Подтвердите отдельным запросом ваш вывод."
   ]
  },
  {
   "cell_type": "code",
   "execution_count": 28,
   "id": "retained-messenger",
   "metadata": {},
   "outputs": [
    {
     "name": "stdout",
     "output_type": "stream",
     "text": [
      "SELECT subject.subj_name, exam_marks.mark \n",
      "FROM subject JOIN exam_marks ON exam_marks.subj_id = subject.subj_id\n",
      "47\n"
     ]
    },
    {
     "data": {
      "text/plain": [
       "[('Информатика', 1),\n",
       " ('Физкультура', 4),\n",
       " ('Физкультура', 4),\n",
       " ('История', 1),\n",
       " ('Информатика', 3),\n",
       " ('История', 4),\n",
       " ('Анализ данных', 1),\n",
       " ('Анализ данных', 1),\n",
       " ('Физика', 5),\n",
       " ('Физика', 1)]"
      ]
     },
     "execution_count": 28,
     "metadata": {},
     "output_type": "execute_result"
    }
   ],
   "source": [
    "stmt = select(subject.c.subj_name, exam_marks.c.mark)\n",
    "stmt = stmt.select_from(subject)\n",
    "stmt = stmt.join(exam_marks, exam_marks.c.subj_id == subject.c.subj_id)\n",
    "\n",
    "\n",
    "print(stmt)\n",
    "result = conn.execute(stmt).fetchall()\n",
    "print(len(result))\n",
    "result[:10]"
   ]
  },
  {
   "cell_type": "code",
   "execution_count": 29,
   "id": "attempted-census",
   "metadata": {},
   "outputs": [
    {
     "name": "stdout",
     "output_type": "stream",
     "text": [
      "SELECT subject.subj_name, exam_marks.mark \n",
      "FROM subject LEFT OUTER JOIN exam_marks ON exam_marks.subj_id = subject.subj_id\n",
      "49\n"
     ]
    },
    {
     "data": {
      "text/plain": [
       "[('Анализ данных', 1),\n",
       " ('Анализ данных', 1),\n",
       " ('Анализ данных', 1),\n",
       " ('Анализ данных', 2),\n",
       " ('Анализ данных', 5),\n",
       " ('Английский язык', 2),\n",
       " ('Английский язык', 4),\n",
       " ('Английский язык', 4),\n",
       " ('Английский язык', 5),\n",
       " ('Информатика', None)]"
      ]
     },
     "execution_count": 29,
     "metadata": {},
     "output_type": "execute_result"
    }
   ],
   "source": [
    "stmt = select(subject.c.subj_name, exam_marks.c.mark)\n",
    "stmt = stmt.select_from(subject)\n",
    "stmt = stmt.join(exam_marks, exam_marks.c.subj_id == subject.c.subj_id, isouter=True)\n",
    "\n",
    "\n",
    "print(stmt)\n",
    "result = conn.execute(stmt).fetchall()\n",
    "print(len(result))\n",
    "result[:10]"
   ]
  },
  {
   "cell_type": "markdown",
   "id": "usual-height",
   "metadata": {},
   "source": [
    "### 15. Напишите запрос для получения полного списка оценок вместе с названиями предметов, по которым они получены. Есть ли отличие списка от того, который был бы получен внутренним соединением? Подтвердите отдельным запросом ваш вывод."
   ]
  },
  {
   "cell_type": "code",
   "execution_count": 30,
   "id": "hazardous-partition",
   "metadata": {},
   "outputs": [
    {
     "name": "stdout",
     "output_type": "stream",
     "text": [
      "SELECT subject.subj_name, exam_marks.mark \n",
      "FROM exam_marks JOIN subject ON exam_marks.subj_id = subject.subj_id\n",
      "47\n"
     ]
    },
    {
     "data": {
      "text/plain": [
       "[('Информатика', 1),\n",
       " ('Физкультура', 4),\n",
       " ('Физкультура', 4),\n",
       " ('История', 1),\n",
       " ('Информатика', 3),\n",
       " ('История', 4),\n",
       " ('Анализ данных', 1),\n",
       " ('Анализ данных', 1),\n",
       " ('Физика', 5),\n",
       " ('Физика', 1)]"
      ]
     },
     "execution_count": 30,
     "metadata": {},
     "output_type": "execute_result"
    }
   ],
   "source": [
    "stmt = select(subject.c.subj_name, exam_marks.c.mark)\n",
    "stmt = stmt.select_from(exam_marks)\n",
    "stmt = stmt.join(subject, exam_marks.c.subj_id == subject.c.subj_id)\n",
    "\n",
    "\n",
    "print(stmt)\n",
    "result = conn.execute(stmt).fetchall()\n",
    "print(len(result))\n",
    "result[:10]"
   ]
  },
  {
   "cell_type": "code",
   "execution_count": 31,
   "id": "rolled-subscription",
   "metadata": {},
   "outputs": [
    {
     "name": "stdout",
     "output_type": "stream",
     "text": [
      "SELECT subject.subj_name, exam_marks.mark \n",
      "FROM exam_marks LEFT OUTER JOIN subject ON exam_marks.subj_id = subject.subj_id\n",
      "47\n"
     ]
    },
    {
     "data": {
      "text/plain": [
       "[('Информатика', 1),\n",
       " ('Физкультура', 4),\n",
       " ('Физкультура', 4),\n",
       " ('История', 1),\n",
       " ('Информатика', 3),\n",
       " ('История', 4),\n",
       " ('Анализ данных', 1),\n",
       " ('Анализ данных', 1),\n",
       " ('Физика', 5),\n",
       " ('Физика', 1)]"
      ]
     },
     "execution_count": 31,
     "metadata": {},
     "output_type": "execute_result"
    }
   ],
   "source": [
    "stmt = select(subject.c.subj_name, exam_marks.c.mark)\n",
    "stmt = stmt.select_from(exam_marks)\n",
    "stmt = stmt.join(subject, exam_marks.c.subj_id == subject.c.subj_id, isouter=True)\n",
    "\n",
    "\n",
    "print(stmt)\n",
    "result = conn.execute(stmt).fetchall()\n",
    "print(len(result))\n",
    "result[:10]"
   ]
  }
 ],
 "metadata": {
  "kernelspec": {
   "display_name": "Python 3",
   "language": "python",
   "name": "python3"
  },
  "language_info": {
   "codemirror_mode": {
    "name": "ipython",
    "version": 3
   },
   "file_extension": ".py",
   "mimetype": "text/x-python",
   "name": "python",
   "nbconvert_exporter": "python",
   "pygments_lexer": "ipython3",
   "version": "3.9.0"
  }
 },
 "nbformat": 4,
 "nbformat_minor": 5
}
