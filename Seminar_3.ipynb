{
 "cells": [
  {
   "cell_type": "code",
   "execution_count": 14,
   "id": "informational-concept",
   "metadata": {},
   "outputs": [],
   "source": [
    "import sqlite3\n",
    "from sqlite3 import Error\n",
    "import pandas as pd"
   ]
  },
  {
   "cell_type": "code",
   "execution_count": 15,
   "id": "meaningful-transaction",
   "metadata": {},
   "outputs": [],
   "source": [
    "conn = sqlite3.connect(\"/Users/vladislavvorosilov/Desktop/Python_SQL/Python_SQL_PI_2021_22_s2/Data/Students.db\")"
   ]
  },
  {
   "cell_type": "code",
   "execution_count": 16,
   "id": "rapid-bookmark",
   "metadata": {},
   "outputs": [],
   "source": [
    "cur = conn.cursor()"
   ]
  },
  {
   "cell_type": "code",
   "execution_count": 31,
   "id": "healthy-strike",
   "metadata": {},
   "outputs": [
    {
     "data": {
      "text/html": [
       "<div>\n",
       "<style scoped>\n",
       "    .dataframe tbody tr th:only-of-type {\n",
       "        vertical-align: middle;\n",
       "    }\n",
       "\n",
       "    .dataframe tbody tr th {\n",
       "        vertical-align: top;\n",
       "    }\n",
       "\n",
       "    .dataframe thead th {\n",
       "        text-align: right;\n",
       "    }\n",
       "</style>\n",
       "<table border=\"1\" class=\"dataframe\">\n",
       "  <thead>\n",
       "    <tr style=\"text-align: right;\">\n",
       "      <th></th>\n",
       "      <th>univ_id</th>\n",
       "      <th>univ_name</th>\n",
       "      <th>rating</th>\n",
       "      <th>city</th>\n",
       "    </tr>\n",
       "  </thead>\n",
       "  <tbody>\n",
       "  </tbody>\n",
       "</table>\n",
       "</div>"
      ],
      "text/plain": [
       "Empty DataFrame\n",
       "Columns: [univ_id, univ_name, rating, city]\n",
       "Index: []"
      ]
     },
     "execution_count": 31,
     "metadata": {},
     "output_type": "execute_result"
    }
   ],
   "source": [
    "# 10\n",
    "sql = \"\"\"\n",
    "SELECT UNIVERSITY.* \n",
    "FROM UNIVERSITY \n",
    "WHERE UNIVERSITY.UNIV_NAME LIKE \"%ниверситет%\" \"\"\"\n",
    "df = pd.read_sql(sql, conn)\n",
    "df"
   ]
  },
  {
   "cell_type": "code",
   "execution_count": null,
   "id": "front-tower",
   "metadata": {},
   "outputs": [],
   "source": [
    "# 11 \n",
    "sql = \"\"\"\n",
    "SELECT STUDENT.* \n",
    "FROM STUDENT \n",
    "WHERE STUDENT.SURNAME LIKE \"Ков%\" \n",
    "OR STUDENT.SURNAME LIKE \"Куз%\" \"\"\"\n",
    "df = pd.read_sql(sql, conn)\n",
    "df"
   ]
  },
  {
   "cell_type": "code",
   "execution_count": 34,
   "id": "downtown-installation",
   "metadata": {},
   "outputs": [
    {
     "data": {
      "text/html": [
       "<div>\n",
       "<style scoped>\n",
       "    .dataframe tbody tr th:only-of-type {\n",
       "        vertical-align: middle;\n",
       "    }\n",
       "\n",
       "    .dataframe tbody tr th {\n",
       "        vertical-align: top;\n",
       "    }\n",
       "\n",
       "    .dataframe thead th {\n",
       "        text-align: right;\n",
       "    }\n",
       "</style>\n",
       "<table border=\"1\" class=\"dataframe\">\n",
       "  <thead>\n",
       "    <tr style=\"text-align: right;\">\n",
       "      <th></th>\n",
       "      <th>subj_id</th>\n",
       "      <th>subj_name</th>\n",
       "      <th>hour</th>\n",
       "      <th>semester</th>\n",
       "    </tr>\n",
       "  </thead>\n",
       "  <tbody>\n",
       "    <tr>\n",
       "      <th>0</th>\n",
       "      <td>11</td>\n",
       "      <td>Программирование на языках Python и SQL</td>\n",
       "      <td>34</td>\n",
       "      <td>2</td>\n",
       "    </tr>\n",
       "    <tr>\n",
       "      <th>1</th>\n",
       "      <td>12</td>\n",
       "      <td>Анализ данных</td>\n",
       "      <td>42</td>\n",
       "      <td>1</td>\n",
       "    </tr>\n",
       "    <tr>\n",
       "      <th>2</th>\n",
       "      <td>14</td>\n",
       "      <td>Обработка данных и моделирование в Excel</td>\n",
       "      <td>36</td>\n",
       "      <td>3</td>\n",
       "    </tr>\n",
       "    <tr>\n",
       "      <th>3</th>\n",
       "      <td>23</td>\n",
       "      <td>Теория вероятностей и математическая статистика</td>\n",
       "      <td>72</td>\n",
       "      <td>4</td>\n",
       "    </tr>\n",
       "    <tr>\n",
       "      <th>4</th>\n",
       "      <td>94</td>\n",
       "      <td>Английский язык</td>\n",
       "      <td>56</td>\n",
       "      <td>3</td>\n",
       "    </tr>\n",
       "  </tbody>\n",
       "</table>\n",
       "</div>"
      ],
      "text/plain": [
       "   subj_id                                        subj_name  hour  semester\n",
       "0       11          Программирование на языках Python и SQL    34         2\n",
       "1       12                                    Анализ данных    42         1\n",
       "2       14         Обработка данных и моделирование в Excel    36         3\n",
       "3       23  Теория вероятностей и математическая статистика    72         4\n",
       "4       94                                  Английский язык    56         3"
      ]
     },
     "execution_count": 34,
     "metadata": {},
     "output_type": "execute_result"
    }
   ],
   "source": [
    "# 12 \n",
    "sql = \"\"\"\n",
    "SELECT SUBJECT.* \n",
    "FROM SUBJECT \n",
    "WHERE SUBJECT.SUBJ_NAME LIKE \"% %\"  \"\"\"\n",
    "df = pd.read_sql(sql, conn)\n",
    "df"
   ]
  },
  {
   "cell_type": "code",
   "execution_count": 74,
   "id": "valued-violence",
   "metadata": {},
   "outputs": [
    {
     "data": {
      "text/html": [
       "<div>\n",
       "<style scoped>\n",
       "    .dataframe tbody tr th:only-of-type {\n",
       "        vertical-align: middle;\n",
       "    }\n",
       "\n",
       "    .dataframe tbody tr th {\n",
       "        vertical-align: top;\n",
       "    }\n",
       "\n",
       "    .dataframe thead th {\n",
       "        text-align: right;\n",
       "    }\n",
       "</style>\n",
       "<table border=\"1\" class=\"dataframe\">\n",
       "  <thead>\n",
       "    <tr style=\"text-align: right;\">\n",
       "      <th></th>\n",
       "      <th>AVG_MARK</th>\n",
       "      <th>COUNT_EXAM</th>\n",
       "      <th>NAME</th>\n",
       "      <th>SURNAME</th>\n",
       "    </tr>\n",
       "  </thead>\n",
       "  <tbody>\n",
       "    <tr>\n",
       "      <th>0</th>\n",
       "      <td>4.0</td>\n",
       "      <td>1</td>\n",
       "      <td>Вадим</td>\n",
       "      <td>Сидоров</td>\n",
       "    </tr>\n",
       "    <tr>\n",
       "      <th>1</th>\n",
       "      <td>3.5</td>\n",
       "      <td>2</td>\n",
       "      <td>Ольга</td>\n",
       "      <td>Зайцева</td>\n",
       "    </tr>\n",
       "    <tr>\n",
       "      <th>2</th>\n",
       "      <td>4.0</td>\n",
       "      <td>1</td>\n",
       "      <td>Павел</td>\n",
       "      <td>Котов</td>\n",
       "    </tr>\n",
       "    <tr>\n",
       "      <th>3</th>\n",
       "      <td>4.0</td>\n",
       "      <td>1</td>\n",
       "      <td>Вероника</td>\n",
       "      <td>Семенова</td>\n",
       "    </tr>\n",
       "    <tr>\n",
       "      <th>4</th>\n",
       "      <td>4.0</td>\n",
       "      <td>1</td>\n",
       "      <td>Оксана</td>\n",
       "      <td>Жук</td>\n",
       "    </tr>\n",
       "    <tr>\n",
       "      <th>5</th>\n",
       "      <td>3.0</td>\n",
       "      <td>1</td>\n",
       "      <td>Синицин</td>\n",
       "      <td>Кондрат</td>\n",
       "    </tr>\n",
       "    <tr>\n",
       "      <th>6</th>\n",
       "      <td>2.0</td>\n",
       "      <td>2</td>\n",
       "      <td>Дарья</td>\n",
       "      <td>Мельникова</td>\n",
       "    </tr>\n",
       "    <tr>\n",
       "      <th>7</th>\n",
       "      <td>2.5</td>\n",
       "      <td>2</td>\n",
       "      <td>Мария</td>\n",
       "      <td>Казакова</td>\n",
       "    </tr>\n",
       "    <tr>\n",
       "      <th>8</th>\n",
       "      <td>4.0</td>\n",
       "      <td>1</td>\n",
       "      <td>Кира</td>\n",
       "      <td>Костина</td>\n",
       "    </tr>\n",
       "    <tr>\n",
       "      <th>9</th>\n",
       "      <td>2.0</td>\n",
       "      <td>2</td>\n",
       "      <td>Евгений</td>\n",
       "      <td>Калашников</td>\n",
       "    </tr>\n",
       "    <tr>\n",
       "      <th>10</th>\n",
       "      <td>2.0</td>\n",
       "      <td>1</td>\n",
       "      <td>Владислав</td>\n",
       "      <td>Трофимов</td>\n",
       "    </tr>\n",
       "    <tr>\n",
       "      <th>11</th>\n",
       "      <td>3.0</td>\n",
       "      <td>1</td>\n",
       "      <td>Анатолий</td>\n",
       "      <td>Антонов</td>\n",
       "    </tr>\n",
       "    <tr>\n",
       "      <th>12</th>\n",
       "      <td>4.0</td>\n",
       "      <td>1</td>\n",
       "      <td>Константин</td>\n",
       "      <td>Лазарев</td>\n",
       "    </tr>\n",
       "    <tr>\n",
       "      <th>13</th>\n",
       "      <td>2.0</td>\n",
       "      <td>1</td>\n",
       "      <td>Тимур</td>\n",
       "      <td>Веселов</td>\n",
       "    </tr>\n",
       "    <tr>\n",
       "      <th>14</th>\n",
       "      <td>4.0</td>\n",
       "      <td>2</td>\n",
       "      <td>Матвей</td>\n",
       "      <td>Васильев</td>\n",
       "    </tr>\n",
       "    <tr>\n",
       "      <th>15</th>\n",
       "      <td>2.0</td>\n",
       "      <td>1</td>\n",
       "      <td>Пахомов</td>\n",
       "      <td>Вячеслав</td>\n",
       "    </tr>\n",
       "    <tr>\n",
       "      <th>16</th>\n",
       "      <td>3.0</td>\n",
       "      <td>1</td>\n",
       "      <td>Екатерина</td>\n",
       "      <td>Петрова</td>\n",
       "    </tr>\n",
       "  </tbody>\n",
       "</table>\n",
       "</div>"
      ],
      "text/plain": [
       "    AVG_MARK  COUNT_EXAM        NAME     SURNAME\n",
       "0        4.0           1       Вадим     Сидоров\n",
       "1        3.5           2       Ольга     Зайцева\n",
       "2        4.0           1       Павел       Котов\n",
       "3        4.0           1    Вероника    Семенова\n",
       "4        4.0           1      Оксана         Жук\n",
       "5        3.0           1     Синицин     Кондрат\n",
       "6        2.0           2       Дарья  Мельникова\n",
       "7        2.5           2       Мария    Казакова\n",
       "8        4.0           1        Кира     Костина\n",
       "9        2.0           2     Евгений  Калашников\n",
       "10       2.0           1   Владислав    Трофимов\n",
       "11       3.0           1    Анатолий     Антонов\n",
       "12       4.0           1  Константин     Лазарев\n",
       "13       2.0           1       Тимур     Веселов\n",
       "14       4.0           2      Матвей    Васильев\n",
       "15       2.0           1     Пахомов    Вячеслав\n",
       "16       3.0           1   Екатерина     Петрова"
      ]
     },
     "execution_count": 74,
     "metadata": {},
     "output_type": "execute_result"
    }
   ],
   "source": [
    "# 13\n",
    "n = 3\n",
    "sql = f\"\"\"\n",
    "SELECT *\n",
    "FROM (\n",
    "    SELECT AVG(EXAM_MARKS.MARK) AVG_MARK, COUNT(EXAM_MARKS.MARK) COUNT_EXAM, STUDENT.NAME, STUDENT.SURNAME\n",
    "    FROM EXAM_MARKS INNER JOIN\n",
    "    STUDENT\n",
    "    ON (STUDENT.STUDENT_ID = EXAM_MARKS.STUDENT_ID)\n",
    "    GROUP BY STUDENT.STUDENT_ID)\n",
    "WHERE AVG_MARK BETWEEN 2 AND 4\n",
    "\"\"\"\n",
    "df = pd.read_sql(sql, conn)\n",
    "df"
   ]
  },
  {
   "cell_type": "code",
   "execution_count": 13,
   "id": "concrete-mining",
   "metadata": {},
   "outputs": [],
   "source": [
    "create_student = \"\"\"\n",
    "    CREATE TABLE IF NOT EXISTS STUDENT (\n",
    "STUDENT_ID integer PRIMARY KEY,\n",
    "SURNAME text,\n",
    "NAME text,\n",
    "STIPEND integer,\n",
    "KURS integer,\n",
    "CITY text,\n",
    "BIRTHDAY text,\n",
    "UNIV_ID integer not null,\n",
    "FOREIGN KEY (univ_id) references university (univ_id)\n",
    ");\n",
    "\"\"\""
   ]
  },
  {
   "cell_type": "code",
   "execution_count": 26,
   "id": "surface-hunter",
   "metadata": {},
   "outputs": [],
   "source": [
    "create_lecturer = \"\"\"\n",
    "CREATE TABLE IF NOT EXISTS LECTURER (\n",
    "LECTURER_ID integer PRIMARY KEY,\n",
    "SURNAME text,\n",
    "NAME text,\n",
    "CITY text,\n",
    "UNIV_ID integer,\n",
    "foreign key (univ_id) references university (univ_id)\n",
    ");\n",
    "\"\"\""
   ]
  },
  {
   "cell_type": "code",
   "execution_count": 28,
   "id": "desperate-strip",
   "metadata": {},
   "outputs": [],
   "source": [
    "create_subject = \"\"\"\n",
    "CREATE TABLE IF NOT EXISTS SUBJECT (\n",
    "SUBJ_ID integer PRIMARY KEY,\n",
    "SUBJ_NAME text,\n",
    "HOUR integer,\n",
    "SEMESTER integer\n",
    ");\n",
    "\"\"\""
   ]
  },
  {
   "cell_type": "code",
   "execution_count": 30,
   "id": "clean-billy",
   "metadata": {},
   "outputs": [],
   "source": [
    "create_university = \"\"\"\n",
    "CREATE TABLE IF NOT EXISTS UNIVERSITY (\n",
    "UNIV_ID integer PRIMARY KEY,\n",
    "UNIV_NAME text,\n",
    "RATING integer,\n",
    "CITY text\n",
    ");\n",
    "\"\"\""
   ]
  },
  {
   "cell_type": "code",
   "execution_count": 24,
   "id": "aggressive-wages",
   "metadata": {},
   "outputs": [],
   "source": [
    "create_exam_marks =\"\"\"\n",
    "CREATE TABLE IF NOT EXISTS EXAM_MARKS (\n",
    "EXAM_ID integer PRIMARY KEY,\n",
    "STUDENT_ID integer,\n",
    "SUBJ_ID integer,\n",
    "MARK integer,\n",
    "EXAM_DATE text,\n",
    "FOREIGN KEY (STUDENT_ID) REFERENCES STUDENT (STUDENT_ID),\n",
    "FOREIGN KEY (SUBJ_ID) REFERENCES SUBJECT (SUBJ_ID)\n",
    ");\n",
    "\n",
    "\"\"\""
   ]
  },
  {
   "cell_type": "code",
   "execution_count": 20,
   "id": "polished-yeast",
   "metadata": {},
   "outputs": [],
   "source": [
    "create_subj_lect = \"\"\"\n",
    "CREATE TABLE IF NOT EXISTS SUBJ_LECT (\n",
    "LECTURER_ID integer,\n",
    "SUBJ_ID integer,\n",
    "primary key (lecturer_id, subj_id),\n",
    "foreign key (lecturer_id) references lecturer (lecturer_id),\n",
    "foreign key (subj_id) references subject (subj_id)\n",
    ");\n",
    "\"\"\""
   ]
  },
  {
   "cell_type": "code",
   "execution_count": 22,
   "id": "subsequent-biology",
   "metadata": {},
   "outputs": [
    {
     "data": {
      "text/plain": [
       "<sqlite3.Cursor at 0x7fb31bc5dab0>"
      ]
     },
     "execution_count": 22,
     "metadata": {},
     "output_type": "execute_result"
    }
   ],
   "source": [
    "cur.execute(create_student)"
   ]
  },
  {
   "cell_type": "code",
   "execution_count": 27,
   "id": "civil-reminder",
   "metadata": {},
   "outputs": [
    {
     "data": {
      "text/plain": [
       "<sqlite3.Cursor at 0x7fb31bc5dab0>"
      ]
     },
     "execution_count": 27,
     "metadata": {},
     "output_type": "execute_result"
    }
   ],
   "source": [
    "cur.execute(create_lecturer)"
   ]
  },
  {
   "cell_type": "code",
   "execution_count": 29,
   "id": "successful-decade",
   "metadata": {},
   "outputs": [
    {
     "data": {
      "text/plain": [
       "<sqlite3.Cursor at 0x7fb31bc5dab0>"
      ]
     },
     "execution_count": 29,
     "metadata": {},
     "output_type": "execute_result"
    }
   ],
   "source": [
    "cur.execute(create_subject)"
   ]
  },
  {
   "cell_type": "code",
   "execution_count": 31,
   "id": "maritime-bikini",
   "metadata": {},
   "outputs": [
    {
     "data": {
      "text/plain": [
       "<sqlite3.Cursor at 0x7fb31bc5dab0>"
      ]
     },
     "execution_count": 31,
     "metadata": {},
     "output_type": "execute_result"
    }
   ],
   "source": [
    "cur.execute(create_university)"
   ]
  },
  {
   "cell_type": "code",
   "execution_count": 25,
   "id": "handled-falls",
   "metadata": {},
   "outputs": [
    {
     "data": {
      "text/plain": [
       "<sqlite3.Cursor at 0x7fb31bc5dab0>"
      ]
     },
     "execution_count": 25,
     "metadata": {},
     "output_type": "execute_result"
    }
   ],
   "source": [
    "cur.execute(create_exam_marks)"
   ]
  },
  {
   "cell_type": "code",
   "execution_count": 21,
   "id": "spatial-framing",
   "metadata": {},
   "outputs": [
    {
     "data": {
      "text/plain": [
       "<sqlite3.Cursor at 0x7fb31bc5dab0>"
      ]
     },
     "execution_count": 21,
     "metadata": {},
     "output_type": "execute_result"
    }
   ],
   "source": [
    "cur.execute(create_subj_lect)"
   ]
  },
  {
   "cell_type": "markdown",
   "id": "blank-bidding",
   "metadata": {},
   "source": [
    "# Заполнение данными"
   ]
  },
  {
   "cell_type": "code",
   "execution_count": 46,
   "id": "breathing-cooking",
   "metadata": {},
   "outputs": [],
   "source": [
    "def insert_data(table_name, data):\n",
    "    sql = f'INSERT INTO {table_name} VALUES ({\",\".join([\"?\"] * len(data))})'\n",
    "    cur.execute(sql, data)\n",
    "    conn.commit()\n"
   ]
  },
  {
   "cell_type": "code",
   "execution_count": 35,
   "id": "commercial-chorus",
   "metadata": {},
   "outputs": [],
   "source": [
    "insert_data(\"exam_marks\", (145, 12, 10, 5, \"2006-01-12\"))"
   ]
  },
  {
   "cell_type": "code",
   "execution_count": null,
   "id": "elder-settlement",
   "metadata": {},
   "outputs": [],
   "source": []
  },
  {
   "cell_type": "code",
   "execution_count": null,
   "id": "hazardous-pharmacology",
   "metadata": {},
   "outputs": [],
   "source": []
  },
  {
   "cell_type": "code",
   "execution_count": 42,
   "id": "nutritional-commercial",
   "metadata": {},
   "outputs": [
    {
     "name": "stdout",
     "output_type": "stream",
     "text": [
      "[(145, 12, 10, 5, '2006-01-12')]\n"
     ]
    }
   ],
   "source": [
    "select_all(\"exam_marks\")"
   ]
  },
  {
   "cell_type": "code",
   "execution_count": 41,
   "id": "lesser-chemical",
   "metadata": {},
   "outputs": [],
   "source": [
    "def select_all(table):\n",
    "    cur.execute(f\"SELECT * FROM {table}\")\n",
    "    records = cur.fetchall()\n",
    "    print(records)"
   ]
  }
 ],
 "metadata": {
  "kernelspec": {
   "display_name": "Python 3",
   "language": "python",
   "name": "python3"
  },
  "language_info": {
   "codemirror_mode": {
    "name": "ipython",
    "version": 3
   },
   "file_extension": ".py",
   "mimetype": "text/x-python",
   "name": "python",
   "nbconvert_exporter": "python",
   "pygments_lexer": "ipython3",
   "version": "3.9.0"
  }
 },
 "nbformat": 4,
 "nbformat_minor": 5
}
