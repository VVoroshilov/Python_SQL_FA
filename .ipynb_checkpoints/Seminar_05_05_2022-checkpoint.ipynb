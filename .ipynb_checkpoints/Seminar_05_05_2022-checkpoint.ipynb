{
 "cells": [
  {
   "cell_type": "code",
   "execution_count": 1,
   "id": "furnished-dating",
   "metadata": {},
   "outputs": [],
   "source": [
    "from sqlalchemy import MetaData, Table, create_engine, select, and_, or_, not_, text\n",
    "from sqlalchemy.sql import func, distinct, exists\n",
    "from sqlalchemy import union, union_all\n",
    "\n",
    "engine = create_engine('sqlite+pysqlite:////Users/vladislavvorosilov/Desktop/Python_SQL/Python_SQL_PI_2021_22_s2/Data/Students.db')\n",
    "metadata_obj = MetaData()\n",
    "metadata_obj.reflect(bind=engine) \n",
    "exam_marks=Table(\"exam_marks\", metadata_obj, autoload=True, autoload_with=\"engine\")\n",
    "lecturer=Table(\"lecturer\", metadata_obj, autoload=True, autoload_with=\"engine\")\n",
    "student=Table(\"student\", metadata_obj, autoload=True, autoload_with=\"engine\")\n",
    "subj_lect=Table(\"subj_lect\", metadata_obj, autoload=True, autoload_with=\"engine\")\n",
    "subject=Table(\"subject\", metadata_obj, autoload=True, autoload_with=\"engine\")\n",
    "university=Table(\"university\", metadata_obj, autolad=True, autolad_with=\"engine\")\n",
    "conn=engine.connect()\n"
   ]
  },
  {
   "cell_type": "markdown",
   "id": "enclosed-decimal",
   "metadata": {},
   "source": [
    "## 1. Создайте объединение двух запросов, которые выдают значения полей *univ_name*, *city*, *rating* для всех университетов. Те из них, у которых рейтинг равен или выше 300, должны иметь комментарий ‘высокий’, все остальные — ‘низкий’."
   ]
  },
  {
   "cell_type": "code",
   "execution_count": 12,
   "id": "addressed-upgrade",
   "metadata": {},
   "outputs": [
    {
     "name": "stdout",
     "output_type": "stream",
     "text": [
      "SELECT university.univ_name, university.city, 'Высокий' AS Category, university.rating \n",
      "FROM university \n",
      "WHERE university.rating >= :rating_1 UNION SELECT university.univ_name, university.city, 'Низкий' AS Category, university.rating \n",
      "FROM university \n",
      "WHERE university.rating < :rating_2\n",
      "12\n"
     ]
    },
    {
     "data": {
      "text/plain": [
       "[('БГУ', 'Белгород', 'Высокий', 326),\n",
       " ('ВГМА', 'Воронеж', 'Высокий', 327),\n",
       " ('ВГУ', 'Воронеж', 'Низкий', 296),\n",
       " ('МГТУ им. Баумана', 'Москва', 'Высокий', 372),\n",
       " ('МГУ', 'Москва', 'Высокий', 606),\n",
       " ('МФТИ', 'Москва', 'Высокий', 500),\n",
       " ('НГУ', 'Новосибирск', 'Высокий', 345),\n",
       " ('РГУ', 'Ростов', 'Высокий', 416),\n",
       " ('ТГУ', 'Томск', 'Высокий', 368),\n",
       " ('УЛГУ', 'Ульяновск', 'Низкий', 231)]"
      ]
     },
     "execution_count": 12,
     "metadata": {},
     "output_type": "execute_result"
    }
   ],
   "source": [
    "s1 = select(university.c.univ_name, university.c.city,text(\"'Высокий' AS Category\"), university.c.rating)\n",
    "s1 = s1.where(university.c.rating >= 300)\n",
    "\n",
    "s2 = select(university.c.univ_name, university.c.city,text(\"'Низкий' AS Category\"), university.c.rating)\n",
    "s2 = s2.where(university.c.rating < 300)\n",
    "\n",
    "stmt = union(s1, s2)\n",
    "print(stmt)\n",
    "result = conn.execute(stmt).fetchall()\n",
    "print(len(result))\n",
    "result[:10]"
   ]
  },
  {
   "cell_type": "markdown",
   "id": "whole-recording",
   "metadata": {},
   "source": [
    "## 2. Напишите команду, которая выдает список фамилий студентов с комментарием: 'успевает' у студентов, имеющих все положительные оценки; 'не успевает' для сдававших экзамены, но имеющих хотя бы одну неудовлетворительную оценку; 'не сдавал' — для всех остальных. В выводимом результате фамилии студентов упорядочите по алфавиту.\n"
   ]
  },
  {
   "cell_type": "markdown",
   "id": "developmental-treasure",
   "metadata": {},
   "source": [
    "#### Я переделал запрос так, чтобы он выводил ожидаемое количество студентов: 90"
   ]
  },
  {
   "cell_type": "code",
   "execution_count": 24,
   "id": "professional-explanation",
   "metadata": {},
   "outputs": [
    {
     "name": "stdout",
     "output_type": "stream",
     "text": [
      "SELECT student.student_id, student.surname, 'Успевает' AS Rate, min(exam_marks.mark) AS \"Worst_rate\" \n",
      "FROM student JOIN exam_marks ON exam_marks.student_id = student.student_id GROUP BY student.student_id \n",
      "HAVING Worst_rate >3 UNION SELECT student.student_id, student.surname, 'Не успевает', min(exam_marks.mark) AS \"Worst_rate\" \n",
      "FROM student JOIN exam_marks ON exam_marks.student_id = student.student_id GROUP BY student.student_id \n",
      "HAVING Worst_rate <= 3 UNION SELECT student.student_id, student.surname, 'Не сдавал', 'Не сдавал' \n",
      "FROM student LEFT OUTER JOIN exam_marks ON exam_marks.student_id = student.student_id \n",
      "WHERE exam_marks.exam_id IS NULL\n",
      "90\n"
     ]
    },
    {
     "data": {
      "text/plain": [
       "[(1, 'Иванов', 'Не успевает', 1),\n",
       " (3, 'Петров', 'Не сдавал', 'Не сдавал'),\n",
       " (6, 'Сидоров', 'Успевает', 4),\n",
       " (10, 'Кузнецов', 'Успевает', 5),\n",
       " (12, 'Зайцева', 'Не успевает', 2),\n",
       " (15, 'Ордуханян', 'Не успевает', 2),\n",
       " (32, 'Котов', 'Успевает', 4),\n",
       " (55, 'Белкин', 'Успевает', 5),\n",
       " (56, 'Дуб', 'Не сдавал', 'Не сдавал'),\n",
       " (57, 'Кудряшова', 'Не сдавал', 'Не сдавал')]"
      ]
     },
     "execution_count": 24,
     "metadata": {},
     "output_type": "execute_result"
    }
   ],
   "source": [
    "s1 = select(student.c.student_id, student.c.surname, text(\"'Успевает' AS Rate\"), func.min(exam_marks.c.mark).label(\"Worst_rate\"))\n",
    "s1 = s1.join_from(student, exam_marks, exam_marks.c.student_id == student.c.student_id)\n",
    "s1 = s1.group_by(student.c.student_id)\n",
    "s1 = s1.having(text(\"Worst_rate >3\"))\n",
    "\n",
    "s2 = select(student.c.student_id,student.c.surname, text(\"'Не успевает'\"), func.min(exam_marks.c.mark).label(\"Worst_rate\"))\n",
    "s2 = s2.join_from(student, exam_marks, exam_marks.c.student_id == student.c.student_id)\n",
    "s2 = s2.group_by(student.c.student_id)\n",
    "s2 = s2.having(text(\"Worst_rate <= 3\"))\n",
    "\n",
    "s3 = select(student.c.student_id,student.c.surname, text(\"'Не сдавал'\"), text(\"'Не сдавал'\"))\n",
    "s3 = s3.join_from(student, exam_marks, exam_marks.c.student_id == student.c.student_id, isouter=True)\n",
    "s3 = s3.where(exam_marks.c.exam_id == None)\n",
    "\n",
    "stmt = union(s1, s2, s3)\n",
    "print(stmt)\n",
    "result = conn.execute(stmt).fetchall()\n",
    "print(len(result))\n",
    "result[:10]"
   ]
  },
  {
   "cell_type": "markdown",
   "id": "blocked-mason",
   "metadata": {},
   "source": [
    "## 3. Выведите объединенный список студентов и преподавателей, живущих в Москве, с соответствующими комментариями 'студент' или 'преподаватель'."
   ]
  },
  {
   "cell_type": "code",
   "execution_count": 44,
   "id": "taken-reply",
   "metadata": {},
   "outputs": [
    {
     "name": "stdout",
     "output_type": "stream",
     "text": [
      "SELECT student.surname, student.name, 'Студент' AS Category \n",
      "FROM student \n",
      "WHERE student.city = :city_1 UNION SELECT lecturer.surname, lecturer.name, 'Преподаватель' AS Category \n",
      "FROM lecturer \n",
      "WHERE lecturer.city = :city_2\n",
      "5\n"
     ]
    },
    {
     "data": {
      "text/plain": [
       "[('Баранов', 'Александр', 'Студент'),\n",
       " ('Лагутин', 'Павел', 'Преподаватель'),\n",
       " ('Миронова', 'Федор', 'Студент'),\n",
       " ('Сидоров', 'Вадим', 'Студент'),\n",
       " ('Струков', 'Николай', 'Преподаватель')]"
      ]
     },
     "execution_count": 44,
     "metadata": {},
     "output_type": "execute_result"
    }
   ],
   "source": [
    "s1 = select(student.c.surname, student.c.name, text(\"'Студент' AS Category\"))\n",
    "s1 = s1.where(student.c.city == \"Москва\")\n",
    "\n",
    "s2 = select(lecturer.c.surname, lecturer.c.name,text(\"'Преподаватель' AS Category\"))\n",
    "s2 = s2.where(lecturer.c.city == \"Москва\")\n",
    "\n",
    "stmt = union(s1, s2)\n",
    "print(stmt)\n",
    "result = conn.execute(stmt).fetchall()\n",
    "print(len(result))\n",
    "result[:10]"
   ]
  },
  {
   "cell_type": "markdown",
   "id": "silver-payroll",
   "metadata": {},
   "source": [
    "## 4. Выведите объединенный список студентов и преподавателей ВГУ с соответствующими комментариями 'студент' или 'преподаватель'."
   ]
  },
  {
   "cell_type": "code",
   "execution_count": 83,
   "id": "infrared-charlotte",
   "metadata": {},
   "outputs": [
    {
     "name": "stdout",
     "output_type": "stream",
     "text": [
      "SELECT 'Студент', student.surname, student.name, student.city \n",
      "FROM student JOIN university ON university.univ_id = student.univ_id \n",
      "WHERE university.univ_name = :univ_name_1 UNION SELECT 'Преподаватель', lecturer.surname, lecturer.name, lecturer.city \n",
      "FROM lecturer JOIN university ON university.univ_id = lecturer.univ_id \n",
      "WHERE university.univ_name = :univ_name_2\n",
      "24\n"
     ]
    },
    {
     "data": {
      "text/plain": [
       "[('Преподаватель', 'Алексеев', 'Елисей', 'Мценск'),\n",
       " ('Преподаватель', 'Зайцева', 'Юлия', 'Белгород'),\n",
       " ('Преподаватель', 'Зыкова', 'Оксана', 'Калач'),\n",
       " ('Преподаватель', 'Колесников', 'Борис', 'Воронеж'),\n",
       " ('Преподаватель', 'Максимова', 'Иванна', 'Сковородино'),\n",
       " ('Преподаватель', 'Николаев', 'Виктор', 'Воронеж'),\n",
       " ('Преподаватель', 'Никонов', 'Иван', 'Воронеж'),\n",
       " ('Преподаватель', 'Сорокин', 'Андрей', 'Орел'),\n",
       " ('Студент', 'Агафонов', 'Василий', 'Грозный'),\n",
       " ('Студент', 'Аксенов', 'Валерий', 'Мурманск')]"
      ]
     },
     "execution_count": 83,
     "metadata": {},
     "output_type": "execute_result"
    }
   ],
   "source": [
    "s1 = select(text(\"'Студент'\"), student.c.surname, student.c.name, student.c.city)\n",
    "s1 = s1.select_from(student)\n",
    "s1 = s1.join(university)\n",
    "s1 = s1.where(university.c.univ_name == \"ВГУ\")\n",
    "\n",
    "s2 = select(text(\"'Преподаватель'\"), lecturer.c.surname, lecturer.c.name, lecturer.c.city)\n",
    "s2 = s2.select_from(lecturer)\n",
    "s2 = s2.join(university)\n",
    "s2 = s2.where(university.c.univ_name == \"ВГУ\")\n",
    "\n",
    "stmt = union(s1, s2)\n",
    "\n",
    "print(stmt)\n",
    "result = conn.execute(stmt).fetchall()\n",
    "print(len(result))\n",
    "result[:10]"
   ]
  },
  {
   "cell_type": "markdown",
   "id": "standing-drinking",
   "metadata": {},
   "source": [
    "## 5. Для каждого города выведите названия университетов с минимальным и максимальным для данного города рейтингом. Пометьте строки списка словами ‘min’ и ‘max’, поместив их в дополнительном столбце. Резулььтат должен содержать название города, название университета, рейтинг. Упорядочите результат по городу.\n"
   ]
  },
  {
   "cell_type": "code",
   "execution_count": 65,
   "id": "exotic-truck",
   "metadata": {},
   "outputs": [
    {
     "name": "stdout",
     "output_type": "stream",
     "text": [
      "SELECT u1.city, u1.univ_name, u1.rating, 'Максимальный' AS Category \n",
      "FROM university AS u1 \n",
      "WHERE u1.rating = (SELECT max(u2.rating) AS max_1 \n",
      "FROM university AS u2 GROUP BY u2.city \n",
      "HAVING u2.city = u1.city) UNION SELECT u1.city, u1.univ_name, u1.rating, 'Минимальный' AS Category \n",
      "FROM university AS u1 \n",
      "WHERE u1.rating = (SELECT min(u2.rating) AS min_1 \n",
      "FROM university AS u2 GROUP BY u2.city \n",
      "HAVING u2.city = u1.city)\n",
      "16\n"
     ]
    },
    {
     "data": {
      "text/plain": [
       "[('Белгород', 'БГУ', 326, 'Максимальный'),\n",
       " ('Белгород', 'БГУ', 326, 'Минимальный'),\n",
       " ('Воронеж', 'ВГМА', 327, 'Максимальный'),\n",
       " ('Воронеж', 'ВГУ', 296, 'Минимальный'),\n",
       " ('Москва', 'МГУ', 606, 'Максимальный'),\n",
       " ('Москва', 'ФинУ', 330, 'Минимальный'),\n",
       " ('Новосибирск', 'НГУ', 345, 'Максимальный'),\n",
       " ('Новосибирск', 'НГУ', 345, 'Минимальный'),\n",
       " ('Ростов', 'РГУ', 416, 'Максимальный'),\n",
       " ('Ростов', 'РГУ', 416, 'Минимальный'),\n",
       " ('Санкт-Петербург', 'ФГБОУ \"Политех\"', 304, 'Максимальный'),\n",
       " ('Санкт-Петербург', 'ФГБОУ \"Политех\"', 304, 'Минимальный'),\n",
       " ('Томск', 'ТГУ', 368, 'Максимальный'),\n",
       " ('Томск', 'ТГУ', 368, 'Минимальный'),\n",
       " ('Ульяновск', 'УЛГУ', 231, 'Максимальный'),\n",
       " ('Ульяновск', 'УЛГУ', 231, 'Минимальный')]"
      ]
     },
     "execution_count": 65,
     "metadata": {},
     "output_type": "execute_result"
    }
   ],
   "source": [
    "u1 = university.alias(\"u1\")\n",
    "u2 = university.alias(\"u2\")\n",
    "\n",
    "subq1 = select(func.max(u2.c.rating))\n",
    "subq1 = subq1.group_by(u2.c.city)\n",
    "subq1 = subq1.having(u2.c.city == u1.c.city).scalar_subquery()\n",
    "\n",
    "\n",
    "subq2 = select(func.min(u2.c.rating))\n",
    "subq2 = subq2.group_by(u2.c.city)\n",
    "subq2 = subq2.having(u2.c.city == u1.c.city).scalar_subquery()\n",
    "\n",
    "\n",
    "s1 = select(u1.c.city, u1.c.univ_name, u1.c.rating, text(\"'Максимальный' AS Category\"))\n",
    "s1 = s1.where( u1.c.rating == subq1)\n",
    "\n",
    "s2 = select(u1.c.city, u1.c.univ_name, u1.c.rating, text(\"'Минимальный' AS Category\"))\n",
    "s2 = s2.where( u1.c.rating == subq2)\n",
    "\n",
    "stmt = union(s1, s2)\n",
    "print(stmt)\n",
    "result = conn.execute(stmt).fetchall()\n",
    "print(len(result))\n",
    "result"
   ]
  },
  {
   "cell_type": "markdown",
   "id": "artistic-world",
   "metadata": {},
   "source": [
    "## 6. Для каждого курса выведите фамилии студентов, получающих минимальные и максимальные на их курсе стипендии. Пометьте строки списка словами ‘min’ и ‘max’, поместив их в дополнительном столбце."
   ]
  },
  {
   "cell_type": "code",
   "execution_count": 77,
   "id": "diverse-camcorder",
   "metadata": {},
   "outputs": [
    {
     "name": "stdout",
     "output_type": "stream",
     "text": [
      "SELECT s1.student_id, s1.surname, s1.name, s1.stipend, s1.kurs, 'Максимальная' AS Category \n",
      "FROM student AS s1 \n",
      "WHERE s1.stipend = (SELECT max(s2.stipend) AS max_1 \n",
      "FROM student AS s2 GROUP BY s2.kurs \n",
      "HAVING s2.kurs = s1.kurs) UNION SELECT s1.student_id, s1.surname, s1.name, s1.stipend, s1.kurs, 'Минимальная' AS Category \n",
      "FROM student AS s1 \n",
      "WHERE s1.stipend = (SELECT min(s2.stipend) AS min_1 \n",
      "FROM student AS s2 GROUP BY s2.kurs \n",
      "HAVING s2.kurs = s1.kurs) ORDER BY student_id\n",
      "39\n"
     ]
    },
    {
     "data": {
      "text/plain": [
       "[(10, 'Кузнецов', 'Борис', 0, 2, 'Минимальная'),\n",
       " (12, 'Зайцева', 'Ольга', 250, 2, 'Максимальная'),\n",
       " (55, 'Белкин', 'Вадим', 250, 5, 'Максимальная'),\n",
       " (57, 'Кудряшова', 'Вера', 100, 5, 'Минимальная'),\n",
       " (58, 'Журавлева', 'Вера', 0, 4, 'Минимальная'),\n",
       " (60, 'Рожкова', 'Пелагея', 0, 3, 'Минимальная'),\n",
       " (62, 'Семенова', 'Вероника', 0, 3, 'Минимальная'),\n",
       " (64, 'Жук', 'Оксана', 250, 1, 'Максимальная'),\n",
       " (65, 'Сергеева', 'Фёкла', 100, 5, 'Минимальная'),\n",
       " (66, 'Некрасова', 'Вероника', 250, 2, 'Максимальная'),\n",
       " (68, 'Казакова', 'Ольга', 250, 4, 'Максимальная'),\n",
       " (69, 'Шубина', 'Елена', 0, 2, 'Минимальная'),\n",
       " (72, 'Пономарева', 'Алина', 250, 2, 'Максимальная'),\n",
       " (73, 'Одинцова', 'Лидия', 100, 5, 'Минимальная'),\n",
       " (74, 'Гуляева', 'Рукижат', 0, 3, 'Минимальная'),\n",
       " (75, 'Игнатова', 'Зинаида', 100, 5, 'Минимальная'),\n",
       " (76, 'Мельникова', 'Дарья', 100, 5, 'Минимальная'),\n",
       " (79, 'Афанасьева', 'Анжелика', 0, 2, 'Минимальная'),\n",
       " (90, 'Костина', 'Кира', 0, 4, 'Минимальная'),\n",
       " (91, 'Блохина', 'Ираида', 250, 3, 'Максимальная'),\n",
       " (92, 'Мельникова', 'Светлана', 250, 4, 'Максимальная'),\n",
       " (94, 'Васильева', 'Оксана', 0, 1, 'Минимальная'),\n",
       " (103, 'Трофимов', 'Владислав', 250, 5, 'Максимальная'),\n",
       " (104, 'Бирюков', 'Герасим', 0, 4, 'Минимальная'),\n",
       " (107, 'Морозов', 'Кирилл', 250, 2, 'Максимальная'),\n",
       " (110, 'Суханов', 'Константин', 250, 3, 'Максимальная'),\n",
       " (114, 'Панов', 'Арсений', 250, 1, 'Максимальная'),\n",
       " (121, 'Воронова', 'Антонина', 0, 4, 'Минимальная'),\n",
       " (124, 'Юдин', 'Савва', 0, 2, 'Минимальная'),\n",
       " (126, 'Жуков', 'Пров', 0, 3, 'Минимальная'),\n",
       " (130, 'Кудряшов', 'Роман', 250, 4, 'Максимальная'),\n",
       " (135, 'Комаров', 'Ипат', 0, 1, 'Минимальная'),\n",
       " (141, 'Ершов', 'Митрофан', 250, 5, 'Максимальная'),\n",
       " (146, 'Русаков', 'Давид', 250, 2, 'Максимальная'),\n",
       " (147, 'Симонов', 'Семен', 100, 5, 'Минимальная'),\n",
       " (149, 'Вячеслав', 'Пахомов', 250, 3, 'Максимальная'),\n",
       " (203, 'Петрова', 'Екатерина', 250, 4, 'Максимальная'),\n",
       " (204, 'Петров', 'Вадим', 250, 2, 'Максимальная'),\n",
       " (265, 'Павлов', 'Андрей', 0, 3, 'Минимальная')]"
      ]
     },
     "execution_count": 77,
     "metadata": {},
     "output_type": "execute_result"
    }
   ],
   "source": [
    "s1 = student.alias(\"s1\")\n",
    "s2 = student.alias(\"s2\")\n",
    "\n",
    "subq1 = select(func.max(s2.c.stipend))\n",
    "subq1 = subq1.group_by(s2.c.kurs)\n",
    "subq1 = subq1.having(s2.c.kurs == s1.c.kurs).scalar_subquery()\n",
    "\n",
    "\n",
    "subq2 = select(func.min(s2.c.stipend))\n",
    "subq2 = subq2.group_by(s2.c.kurs)\n",
    "subq2 = subq2.having(s2.c.kurs == s1.c.kurs).scalar_subquery()\n",
    "\n",
    "\n",
    "stmt1 = select(s1.c.student_id, s1.c.surname, s1.c.name, s1.c.stipend, s1.c.kurs,  text(\"'Максимальная' AS Category\"))\n",
    "stmt1 = stmt1.where( s1.c.stipend == subq1)\n",
    "\n",
    "stmt2 = select(s1.c.student_id, s1.c.surname, s1.c.name, s1.c.stipend, s1.c.kurs, text(\"'Минимальная' AS Category\"))\n",
    "stmt2 = stmt2.where( s1.c.stipend == subq2)\n",
    "\n",
    "stmt = union(stmt1, stmt2).order_by(s1.c.student_id)\n",
    "print(stmt)\n",
    "result = conn.execute(stmt).fetchall()\n",
    "print(len(result))\n",
    "result"
   ]
  },
  {
   "cell_type": "markdown",
   "id": "unlikely-interface",
   "metadata": {},
   "source": [
    "## 7. Для каждого курса выведите фамилии самого старшего и самого младшего студентов. Пометьте строки списка словами 'младший' и 'старший', поместив их в дополнительном столбце."
   ]
  },
  {
   "cell_type": "code",
   "execution_count": 81,
   "id": "labeled-retreat",
   "metadata": {},
   "outputs": [
    {
     "name": "stdout",
     "output_type": "stream",
     "text": [
      "SELECT s1.kurs, s1.surname, s1.name, s1.birthday, 'Взрослейший' AS Category \n",
      "FROM student AS s1 \n",
      "WHERE s1.birthday = (SELECT min(s2.birthday) AS min_1 \n",
      "FROM student AS s2 GROUP BY s2.kurs \n",
      "HAVING s2.kurs = s1.kurs) UNION SELECT s1.kurs, s1.surname, s1.name, s1.birthday, 'Младший' AS Category \n",
      "FROM student AS s1 \n",
      "WHERE s1.birthday = (SELECT max(s2.birthday) AS max_1 \n",
      "FROM student AS s2 GROUP BY s2.kurs \n",
      "HAVING s2.kurs = s1.kurs) ORDER BY kurs\n",
      "10\n"
     ]
    },
    {
     "data": {
      "text/plain": [
       "[(1, 'Васильева', 'Оксана', datetime.datetime(1994, 5, 14, 0, 0), 'Взрослейший'),\n",
       " (1, 'Ордуханян', 'Рафаэль', datetime.datetime(2003, 6, 1, 0, 0), 'Младший'),\n",
       " (2, 'Ковалев', 'Ефим', datetime.datetime(1995, 11, 28, 0, 0), 'Взрослейший'),\n",
       " (2, 'Некрасова', 'Вероника', datetime.datetime(2004, 8, 23, 0, 0), 'Младший'),\n",
       " (3, 'Семенова', 'Вероника', datetime.datetime(2003, 10, 4, 0, 0), 'Младший'),\n",
       " (3, 'Сорокина', 'Ирина', datetime.datetime(1993, 9, 28, 0, 0), 'Взрослейший'),\n",
       " (4, 'Журавлева', 'Вера', datetime.datetime(2003, 6, 14, 0, 0), 'Младший'),\n",
       " (4, 'Казакова', 'Мария', datetime.datetime(1994, 2, 18, 0, 0), 'Взрослейший'),\n",
       " (5, 'Ситников', 'Викентий', datetime.datetime(2003, 10, 5, 0, 0), 'Младший'),\n",
       " (5, 'Трофимов', 'Владислав', datetime.datetime(1995, 3, 24, 0, 0), 'Взрослейший')]"
      ]
     },
     "execution_count": 81,
     "metadata": {},
     "output_type": "execute_result"
    }
   ],
   "source": [
    "s1 = student.alias(\"s1\")\n",
    "s2 = student.alias(\"s2\")\n",
    "\n",
    "subq1 = select(func.max(s2.c.birthday))\n",
    "subq1 = subq1.group_by(s2.c.kurs)\n",
    "subq1 = subq1.having(s2.c.kurs == s1.c.kurs).scalar_subquery()\n",
    "\n",
    "\n",
    "subq2 = select(func.min(s2.c.birthday))\n",
    "subq2 = subq2.group_by(s2.c.kurs)\n",
    "subq2 = subq2.having(s2.c.kurs == s1.c.kurs).scalar_subquery()\n",
    "\n",
    "\n",
    "stmt1 = select(s1.c.kurs, s1.c.surname, s1.c.name, s1.c.birthday, text(\"'Взрослейший' AS Category\"))\n",
    "stmt1 = stmt1.where( s1.c.birthday == subq2)\n",
    "\n",
    "stmt2 = select(s1.c.kurs, s1.c.surname, s1.c.name, s1.c.birthday, text(\"'Младший' AS Category\"))\n",
    "stmt2 = stmt2.where( s1.c.birthday == subq1)\n",
    "\n",
    "stmt = union(stmt1, stmt2).order_by(s1.c.kurs)\n",
    "print(stmt)\n",
    "result = conn.execute(stmt).fetchall()\n",
    "print(len(result))\n",
    "result"
   ]
  },
  {
   "cell_type": "markdown",
   "id": "opponent-analysis",
   "metadata": {},
   "source": [
    "## 8. Напишите запрос для получения полного списка университетов вместе с количеством студентов, которые в них учатся. Для университетов, не имеющих студентов, поместите в список фразу ‘Студентов нет’. отсортируйте результат по убыванию числа студентов."
   ]
  },
  {
   "cell_type": "code",
   "execution_count": 100,
   "id": "micro-myanmar",
   "metadata": {},
   "outputs": [
    {
     "name": "stdout",
     "output_type": "stream",
     "text": [
      "SELECT u1.univ_name, (SELECT count(student.student_id) AS count_1 \n",
      "FROM student \n",
      "WHERE student.univ_id = u1.univ_id) AS \"Amount\", 'Есть!' AS Category \n",
      "FROM university AS u1 \n",
      "WHERE (SELECT count(student.student_id) AS count_1 \n",
      "FROM student \n",
      "WHERE student.univ_id = u1.univ_id) > :param_1 UNION SELECT u1.univ_name, (SELECT count(student.student_id) AS count_1 \n",
      "FROM student \n",
      "WHERE student.univ_id = u1.univ_id) AS anon_1, 'Студентов нет' AS Category \n",
      "FROM university AS u1 \n",
      "WHERE (SELECT count(student.student_id) AS count_1 \n",
      "FROM student \n",
      "WHERE student.univ_id = u1.univ_id) = :param_2 ORDER BY Amount\n",
      "13\n"
     ]
    },
    {
     "data": {
      "text/plain": [
       "[('МФТИ', 0, 'Студентов нет'),\n",
       " ('ТГУ', 2, 'Есть!'),\n",
       " ('НГУ', 4, 'Есть!'),\n",
       " ('МГТУ им. Баумана', 5, 'Есть!'),\n",
       " ('УЛГУ', 5, 'Есть!'),\n",
       " ('КФУ', 6, 'Есть!'),\n",
       " ('ВГМА', 7, 'Есть!'),\n",
       " ('РГУ', 7, 'Есть!'),\n",
       " ('БГУ', 9, 'Есть!'),\n",
       " ('ФГБОУ \"Политех\"', 9, 'Есть!'),\n",
       " ('МГУ', 10, 'Есть!'),\n",
       " ('ФинУ', 10, 'Есть!'),\n",
       " ('ВГУ', 16, 'Есть!')]"
      ]
     },
     "execution_count": 100,
     "metadata": {},
     "output_type": "execute_result"
    }
   ],
   "source": [
    "u1 = university.alias(\"u1\")\n",
    "u2 = university.alias(\"u2\")\n",
    "\n",
    "subq = select(func.count(student.c.student_id))\n",
    "subq = subq.where(student.c.univ_id == u1.c.univ_id).scalar_subquery()\n",
    "\n",
    "\n",
    "s1 = select(u1.c.univ_name, subq.label(\"Amount\"), text(\"'Есть!' AS Category\"))\n",
    "s1 = s1.where(subq > 0)\n",
    "\n",
    "s2 = select(u1.c.univ_name, subq, text(\"'Студентов нет' AS Category\"))\n",
    "s2 = s2.where(subq == 0)\n",
    "\n",
    "stmt = union(s1, s2).order_by(text(\"Amount\"))\n",
    "print(stmt)\n",
    "result = conn.execute(stmt).fetchall()\n",
    "print(len(result))\n",
    "result"
   ]
  },
  {
   "cell_type": "markdown",
   "id": "technical-worker",
   "metadata": {},
   "source": [
    "## 9. Напишите запрос для получения полного списка университетов вместе с фамилиями преподавателей, в них работающих. Для университетов, не имеющих преподавателей, поместите в список фразу ‘Преподавателей нет’. результат должен содержать название университета, фамилию и имя преподавателя. отсортируйте результат по фамилии и имени преподавателя.\n"
   ]
  },
  {
   "cell_type": "code",
   "execution_count": 120,
   "id": "developing-judge",
   "metadata": {},
   "outputs": [
    {
     "name": "stdout",
     "output_type": "stream",
     "text": [
      "SELECT u1.univ_name, lecturer.surname, lecturer.name \n",
      "FROM university AS u1 JOIN lecturer ON lecturer.univ_id = u1.univ_id UNION SELECT 'Преподавателей нет' AS Category, u1.univ_name, ' ' AS Category \n",
      "FROM university AS u1 LEFT OUTER JOIN lecturer ON lecturer.univ_id = u1.univ_id \n",
      "WHERE lecturer.lecturer_id IS NULL ORDER BY surname, name\n",
      "32\n"
     ]
    },
    {
     "data": {
      "text/plain": [
       "[('ВГУ', 'Алексеев', 'Елисей'),\n",
       " ('ВГМА', 'Артемьева', 'Майя'),\n",
       " ('Преподавателей нет', 'БГУ', ' '),\n",
       " ('РГУ', 'Беляков', 'Мефодий'),\n",
       " ('ТГУ', 'Беспалов', 'Юлиан'),\n",
       " ('ВГМА', 'Богданова', 'Оксана'),\n",
       " ('УЛГУ', 'Брагина', 'Нинель'),\n",
       " ('МГТУ им. Баумана', 'Волков', 'Михаил'),\n",
       " ('УЛГУ', 'Дмитриева', 'Оксана'),\n",
       " ('РГУ', 'Дорофеев', 'Прокофий'),\n",
       " ('УЛГУ', 'Елисеев', 'Виссарион'),\n",
       " ('ВГУ', 'Зайцева', 'Юлия'),\n",
       " ('ФГБОУ \"Политех\"', 'Зимин', 'Юлиан'),\n",
       " ('ВГУ', 'Зыкова', 'Оксана'),\n",
       " ('ВГУ', 'Колесников', 'Борис'),\n",
       " ('ВГМА', 'Крюкова', 'Людмила'),\n",
       " ('КФУ', 'Кудрявцева', 'Анна'),\n",
       " ('КФУ', 'Куликова', 'Ираида'),\n",
       " ('МГУ', 'Лагутин', 'Павел'),\n",
       " ('Преподавателей нет', 'МФТИ', ' '),\n",
       " ('ВГУ', 'Максимова', 'Иванна'),\n",
       " ('НГУ', 'Мамонтова', 'Акулина'),\n",
       " ('ВГУ', 'Николаев', 'Виктор'),\n",
       " ('ВГУ', 'Никонов', 'Иван'),\n",
       " ('ВГМА', 'Сафонов', 'Будимир'),\n",
       " ('ФГБОУ \"Политех\"', 'Сафонова', 'Лукия'),\n",
       " ('ВГМА', 'Ситникова', 'Светлана'),\n",
       " ('ВГУ', 'Сорокин', 'Андрей'),\n",
       " ('ФГБОУ \"Политех\"', 'Стрелков', 'Руслан'),\n",
       " ('МГУ', 'Струков', 'Николай'),\n",
       " ('ТГУ', 'Тихонов', 'Ладомир'),\n",
       " ('Преподавателей нет', 'ФинУ', ' ')]"
      ]
     },
     "execution_count": 120,
     "metadata": {},
     "output_type": "execute_result"
    }
   ],
   "source": [
    "u1 = university.alias(\"u1\")\n",
    "u2 = university.alias(\"u2\")\n",
    "\n",
    "s1 = select(u1.c.univ_name, lecturer.c.surname, lecturer.c.name)\n",
    "s1 = s1.select_from(u1).join(lecturer, lecturer.c.univ_id == u1.c.univ_id)\n",
    "\n",
    "s2 = select( text(\"'Преподавателей нет' AS Category\"), u1.c.univ_name,  text(\"' ' AS Category\"))\n",
    "s2 = s2.select_from(u1).join(lecturer, lecturer.c.univ_id == u1.c.univ_id, isouter=True)\n",
    "s2 = s2.where(lecturer.c.lecturer_id == None)\n",
    "\n",
    "stmt = union(s1, s2).order_by(lecturer.c.surname, lecturer.c.name)\n",
    "print(stmt)\n",
    "result = conn.execute(stmt).fetchall()\n",
    "print(len(result))\n",
    "result"
   ]
  },
  {
   "cell_type": "markdown",
   "id": "smoking-chester",
   "metadata": {},
   "source": [
    "## 10. Выведите полный список студентов вместе с оценками, полученными ими на экзаменах. Для студентов, не сдававших экзамены, в поле оценки поместите 0."
   ]
  },
  {
   "cell_type": "markdown",
   "id": "geological-colombia",
   "metadata": {},
   "source": [
    "#### Ожидаемый результат"
   ]
  },
  {
   "cell_type": "code",
   "execution_count": 7,
   "id": "nominated-butterfly",
   "metadata": {},
   "outputs": [
    {
     "name": "stdout",
     "output_type": "stream",
     "text": [
      "100\n"
     ]
    },
    {
     "data": {
      "text/plain": [
       "[(1, 'Иванов', 'Иван', 1),\n",
       " (3, 'Петров', 'Петр', 0),\n",
       " (6, 'Сидоров', 'Вадим', 4),\n",
       " (10, 'Кузнецов', 'Борис', 5),\n",
       " (12, 'Зайцева', 'Ольга', 2),\n",
       " (12, 'Зайцева', 'Ольга', 5),\n",
       " (15, 'Ордуханян', 'Рафаэль', 2),\n",
       " (32, 'Котов', 'Павел', 4),\n",
       " (55, 'Белкин', 'Вадим', 0),\n",
       " (55, 'Белкин', 'Вадим', 5),\n",
       " (56, 'Дуб', 'Елизавета', 0),\n",
       " (57, 'Кудряшова', 'Вера', 0),\n",
       " (58, 'Журавлева', 'Вера', 0),\n",
       " (60, 'Рожкова', 'Пелагея', 0),\n",
       " (61, 'Соколова', 'Ия', 0),\n",
       " (62, 'Семенова', 'Вероника', 4),\n",
       " (63, 'Пак', 'Ирина', 3),\n",
       " (63, 'Пак', 'Ирина', 4),\n",
       " (63, 'Пак', 'Ирина', 5),\n",
       " (64, 'Жук', 'Оксана', 4)]"
      ]
     },
     "execution_count": 7,
     "metadata": {},
     "output_type": "execute_result"
    }
   ],
   "source": [
    "s2 = select(student.c.student_id, student.c.surname, student.c.name, func.coalesce(exam_marks.c.mark, 0))\n",
    "s2 = s2.select_from(student).join(exam_marks, exam_marks.c.student_id == student.c.student_id, isouter=True)\n",
    "\n",
    "result = conn.execute(s2).fetchall()\n",
    "print(len(result))\n",
    "result[:20]"
   ]
  },
  {
   "cell_type": "markdown",
   "id": "laden-longer",
   "metadata": {},
   "source": [
    "#### Выполнение с помощью union. Пришлось расширить количество столбцов, т.к. две строки терялись"
   ]
  },
  {
   "cell_type": "code",
   "execution_count": 19,
   "id": "alleged-nothing",
   "metadata": {},
   "outputs": [
    {
     "name": "stdout",
     "output_type": "stream",
     "text": [
      "SELECT student.surname, student.name, em1.exam_id, em1.mark \n",
      "FROM student JOIN exam_marks AS em1 ON em1.student_id = student.student_id \n",
      "WHERE EXISTS (SELECT em2.exam_id \n",
      "FROM exam_marks AS em2 \n",
      "WHERE em2.student_id = student.student_id) UNION SELECT student.surname, student.name, 'Экзаменов не сдавал', 0 \n",
      "FROM student LEFT OUTER JOIN exam_marks AS em1 ON em1.student_id = student.student_id \n",
      "WHERE NOT (EXISTS (SELECT em2.exam_id \n",
      "FROM exam_marks AS em2 \n",
      "WHERE em2.student_id = student.student_id))\n",
      "100\n"
     ]
    },
    {
     "data": {
      "text/plain": [
       "[('Агафонов', 'Василий', 'Экзаменов не сдавал', 0),\n",
       " ('Аксенов', 'Валерий', 'Экзаменов не сдавал', 0),\n",
       " ('Антонов', 'Анатолий', 22, 3),\n",
       " ('Архипов', 'Андрей', 'Экзаменов не сдавал', 0),\n",
       " ('Афанасьева', 'Анжелика', 7, 1),\n",
       " ('Баранов', 'Александр', 'Экзаменов не сдавал', 0),\n",
       " ('Белкин', 'Вадим', 75, 5),\n",
       " ('Белкин', 'Вадим', 639, None),\n",
       " ('Бирюков', 'Герасим', 'Экзаменов не сдавал', 0),\n",
       " ('Бирюков', 'Мартин', 'Экзаменов не сдавал', 0)]"
      ]
     },
     "execution_count": 19,
     "metadata": {},
     "output_type": "execute_result"
    }
   ],
   "source": [
    "em1 = exam_marks.alias(\"em1\")\n",
    "em2 = exam_marks.alias(\"em2\")\n",
    "\n",
    "subq = select(em2.c.exam_id)\n",
    "subq = subq.where(em2.c.student_id == student.c.student_id)\n",
    "\n",
    "\n",
    "s1 = select(student.c.surname, student.c.name, em1.c.exam_id, em1.c.mark)\n",
    "s1 = s1.select_from(student).join(em1, em1.c.student_id == student.c.student_id)\n",
    "s1 = s1.where(exists(subq))\n",
    "\n",
    "s2 = select(student.c.surname, student.c.name, text(\"'Экзаменов не сдавал'\"), 0)\n",
    "s2 = s2.select_from(student).join(em1, em1.c.student_id == student.c.student_id, isouter=True)\n",
    "s2 = s2.where(~exists(subq))\n",
    "\n",
    "stmt = union(s1, s2)\n",
    "print(stmt)\n",
    "result = conn.execute(stmt).fetchall()\n",
    "print(len(result))\n",
    "result[:10]"
   ]
  },
  {
   "cell_type": "markdown",
   "id": "cultural-nepal",
   "metadata": {},
   "source": [
    "### У Белкина Вадима есть экзамен, по которому у него оценка None, но есть данные о сдаче экзамена. Будем считать, что он сдавал, но его работа не проверена"
   ]
  },
  {
   "cell_type": "markdown",
   "id": "given-award",
   "metadata": {},
   "source": [
    "#### В задании 2 я переделал запрос, чтобы количество студентов было равно 90"
   ]
  }
 ],
 "metadata": {
  "kernelspec": {
   "display_name": "Python 3",
   "language": "python",
   "name": "python3"
  },
  "language_info": {
   "codemirror_mode": {
    "name": "ipython",
    "version": 3
   },
   "file_extension": ".py",
   "mimetype": "text/x-python",
   "name": "python",
   "nbconvert_exporter": "python",
   "pygments_lexer": "ipython3",
   "version": "3.9.0"
  }
 },
 "nbformat": 4,
 "nbformat_minor": 5
}
