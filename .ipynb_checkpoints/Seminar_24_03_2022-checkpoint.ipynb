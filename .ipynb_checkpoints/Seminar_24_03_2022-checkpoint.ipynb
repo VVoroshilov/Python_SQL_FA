{
 "cells": [
  {
   "cell_type": "code",
   "execution_count": 2,
   "id": "silent-copper",
   "metadata": {},
   "outputs": [
    {
     "data": {
      "text/plain": [
       "'1.4.32'"
      ]
     },
     "execution_count": 2,
     "metadata": {},
     "output_type": "execute_result"
    }
   ],
   "source": [
    "import sqlalchemy \n",
    "sqlalchemy.__version__"
   ]
  },
  {
   "cell_type": "code",
   "execution_count": 43,
   "id": "forced-madrid",
   "metadata": {},
   "outputs": [],
   "source": [
    "from sqlalchemy import MetaData, Table, create_engine, select, and_, or_, not_\n",
    "from sqlalchemy.sql import func, exists"
   ]
  },
  {
   "cell_type": "code",
   "execution_count": 4,
   "id": "established-julian",
   "metadata": {},
   "outputs": [],
   "source": [
    "engine = create_engine('sqlite+pysqlite:////Users/vladislavvorosilov/Desktop/Python_SQL/Python_SQL_PI_2021_22_s2/Data/Students.db')\n",
    "conn = engine.connect()"
   ]
  },
  {
   "cell_type": "code",
   "execution_count": 5,
   "id": "static-literature",
   "metadata": {},
   "outputs": [],
   "source": [
    "metadata = MetaData() \n",
    "metadata.reflect(bind=engine)"
   ]
  },
  {
   "cell_type": "code",
   "execution_count": 6,
   "id": "loved-utilization",
   "metadata": {},
   "outputs": [],
   "source": [
    "exam_marks=Table(\"exam_marks\", metadata, autoload=True, autoload_with=\"engine\")\n",
    "lecturer=Table(\"lecturer\", metadata, autoload=True, autoload_with=\"engine\")\n",
    "student=Table(\"student\", metadata, autoload=True, autoload_with=\"engine\")\n",
    "subj_lect=Table(\"subj_lect\", metadata, autoload=True, autoload_with=\"engine\")\n",
    "subject=Table(\"subject\", metadata, autoload=True, autoload_with=\"engine\")\n",
    "university=Table(\"university\", metadata, autolad=True, autolad_with=\"engine\")"
   ]
  },
  {
   "cell_type": "code",
   "execution_count": 10,
   "id": "harmful-boards",
   "metadata": {},
   "outputs": [
    {
     "name": "stdout",
     "output_type": "stream",
     "text": [
      "SELECT exam_marks.mark \n",
      "FROM exam_marks \n",
      "WHERE exam_marks.student_id = (SELECT student.student_id \n",
      "FROM student \n",
      "WHERE student.surname = :surname_1)\n",
      "{'surname_1': 'Васильев'}\n"
     ]
    },
    {
     "data": {
      "text/plain": [
       "[(3,), (5,)]"
      ]
     },
     "execution_count": 10,
     "metadata": {},
     "output_type": "execute_result"
    }
   ],
   "source": [
    "# Извлечь данные об оценках сутента Васильева.\n",
    "\n",
    "subq = select(student.c.student_id)\n",
    "subq = subq.where(student.c.surname=='Васильев').scalar_subquery()\n",
    "\n",
    "s = select(exam_marks.c.mark)\n",
    "s = s.where(exam_marks.c.student_id==subq)\n",
    "\n",
    "print(s)\n",
    "print(s.compile().params)\n",
    "result = conn.execute(s).fetchall()\n",
    "result"
   ]
  },
  {
   "cell_type": "code",
   "execution_count": 11,
   "id": "solid-tract",
   "metadata": {},
   "outputs": [
    {
     "name": "stdout",
     "output_type": "stream",
     "text": [
      "SELECT student.student_id, student.name, student.surname \n",
      "FROM student \n",
      "WHERE (EXISTS (SELECT * \n",
      "FROM exam_marks \n",
      "WHERE exam_marks.mark IS NOT NULL AND exam_marks.student_id = student.student_id)) AND NOT (EXISTS (SELECT * \n",
      "FROM exam_marks \n",
      "WHERE exam_marks.mark < :mark_1 AND exam_marks.student_id = student.student_id)) {'mark_1': 5}\n"
     ]
    },
    {
     "data": {
      "text/plain": [
       "[(10, 'Борис', 'Кузнецов'),\n",
       " (55, 'Вадим', 'Белкин'),\n",
       " (82, 'Элеонора', 'Лапина'),\n",
       " (88, 'Ирина', 'Жданова'),\n",
       " (91, 'Ираида', 'Блохина'),\n",
       " (92, 'Светлана', 'Мельникова'),\n",
       " (99, 'Марина', 'Борисова')]"
      ]
     },
     "execution_count": 11,
     "metadata": {},
     "output_type": "execute_result"
    }
   ],
   "source": [
    "# Найти студентов, у которых только отличные оценки.\n",
    "\n",
    "# Студенты, сдававшие экзамен\n",
    "subq1 = exists().where(and_(exam_marks.c.mark != None, exam_marks.c.student_id == student.c.student_id))\n",
    "\n",
    "# Студенты, не имеющие оценок, кроме отличных\n",
    "subq2 = ~exists().where(and_(exam_marks.c.mark < 5, exam_marks.c.student_id == student.c.student_id))\n",
    "# ~ это для того, чтобы сделать NOT EXIST\n",
    "s = select(student.c.student_id, student.c.name, student.c.surname)\n",
    "s = s.where(subq1).where(subq2)\n",
    "\n",
    "print(s, s.compile().params)\n",
    "\n",
    "result = conn.execute(s).fetchall()\n",
    "result"
   ]
  },
  {
   "cell_type": "markdown",
   "id": "christian-biodiversity",
   "metadata": {},
   "source": [
    "## 1. Напишите запрос для получения списка студентов, которые учатся в своем городе."
   ]
  },
  {
   "cell_type": "code",
   "execution_count": 14,
   "id": "opposite-envelope",
   "metadata": {},
   "outputs": [
    {
     "name": "stdout",
     "output_type": "stream",
     "text": [
      "SELECT student.student_id, student.surname, student.name, student.stipend, student.kurs, student.city, student.birthday, student.univ_id \n",
      "FROM student \n",
      "WHERE student.city = (SELECT university.city \n",
      "FROM university \n",
      "WHERE university.univ_id = student.univ_id)\n"
     ]
    },
    {
     "data": {
      "text/plain": [
       "[(6, 'Сидоров', 'Вадим', 150, 4, 'Москва', datetime.datetime(1999, 6, 7, 0, 0), 22),\n",
       " (32, 'Котов', 'Павел', 150, 5, 'Белгород', datetime.datetime(2001, 2, 28, 0, 0), 14),\n",
       " (55, 'Белкин', 'Вадим', 250, 5, 'Воронеж', datetime.datetime(2000, 1, 7, 0, 0), 10),\n",
       " (58, 'Журавлева', 'Вера', 0, 4, 'Новосибирск', datetime.datetime(2003, 6, 14, 0, 0), 11),\n",
       " (200, 'Баранов', 'Александр', 220, 2, 'Москва', datetime.datetime(2001, 8, 18, 0, 0), 44),\n",
       " (203, 'Петрова', 'Екатерина', 250, 4, 'Белгород', datetime.datetime(2001, 5, 21, 0, 0), 14),\n",
       " (207, 'Миронова', 'Федор', 200, 3, 'Москва', datetime.datetime(2002, 4, 15, 0, 0), 45),\n",
       " (265, 'Павлов', 'Андрей', 0, 3, 'Воронеж', datetime.datetime(2000, 11, 5, 0, 0), 10),\n",
       " (654, 'Лукин', 'Артем', 200, 3, 'Воронеж', datetime.datetime(2001, 12, 1, 0, 0), 10)]"
      ]
     },
     "execution_count": 14,
     "metadata": {},
     "output_type": "execute_result"
    }
   ],
   "source": [
    "subq = select(university.c.city)\n",
    "subq = subq.where(university.c.univ_id == student.c.univ_id).scalar_subquery()\n",
    "\n",
    "s = select(student)\n",
    "s = s.where(student.c.city == subq)\n",
    "\n",
    "print(s)\n",
    "result = conn.execute(s).fetchall()\n",
    "result"
   ]
  },
  {
   "cell_type": "markdown",
   "id": "extreme-andrews",
   "metadata": {},
   "source": [
    "## 2. Напишите запрос для получения списка иногородних студентов (обучающихся не в своем городе), с последующей сортировкой по идентификаторам университетов и курсам."
   ]
  },
  {
   "cell_type": "code",
   "execution_count": 16,
   "id": "authentic-liverpool",
   "metadata": {},
   "outputs": [
    {
     "name": "stdout",
     "output_type": "stream",
     "text": [
      "SELECT student.student_id, student.surname, student.name, student.stipend, student.kurs, student.city, student.birthday, student.univ_id \n",
      "FROM student \n",
      "WHERE student.city != (SELECT university.city \n",
      "FROM university \n",
      "WHERE university.univ_id = student.univ_id) ORDER BY student.univ_id, student.kurs\n"
     ]
    },
    {
     "data": {
      "text/plain": [
       "[(1, 'Иванов', 'Иван', 150, 1, 'Орел', datetime.datetime(2002, 12, 3, 0, 0), 10),\n",
       " (78, 'Агафонов', 'Василий', 150, 1, 'Грозный', datetime.datetime(1994, 10, 29, 0, 0), 10),\n",
       " (99, 'Борисова', 'Марина', 150, 1, 'Рославль', datetime.datetime(1995, 8, 7, 0, 0), 10),\n",
       " (113, 'Аксенов', 'Валерий', 150, 1, 'Мурманск', datetime.datetime(1994, 10, 27, 0, 0), 10),\n",
       " (10, 'Кузнецов', 'Борис', 0, 2, 'Брянск', datetime.datetime(2001, 12, 8, 0, 0), 10),\n",
       " (12, 'Зайцева', 'Ольга', 250, 2, 'Липецк', datetime.datetime(2001, 5, 1, 0, 0), 10),\n",
       " (66, 'Некрасова', 'Вероника', 250, 2, 'Иркутск', datetime.datetime(2004, 8, 23, 0, 0), 10),\n",
       " (3, 'Петров', 'Петр', 200, 3, 'Курск', datetime.datetime(2000, 12, 1, 0, 0), 10),\n",
       " (62, 'Семенова', 'Вероника', 0, 3, 'Вологда', datetime.datetime(2003, 10, 4, 0, 0), 10),\n",
       " (88, 'Жданова', 'Ирина', 200, 3, 'Тверь', datetime.datetime(2002, 3, 2, 0, 0), 10)]"
      ]
     },
     "execution_count": 16,
     "metadata": {},
     "output_type": "execute_result"
    }
   ],
   "source": [
    "subq = select(university.c.city)\n",
    "subq = subq.where(university.c.univ_id == student.c.univ_id).scalar_subquery()\n",
    "\n",
    "s = select(student)\n",
    "s = s.where(student.c.city != subq)\n",
    "s = s.order_by(student.c.univ_id, student.c.kurs)\n",
    "\n",
    "print(s)\n",
    "result = conn.execute(s).fetchall()\n",
    "result[:10]"
   ]
  },
  {
   "cell_type": "markdown",
   "id": "electoral-viewer",
   "metadata": {},
   "source": [
    "## 3. Напишите запрос для получения списка преподавателей, работающих не в своем городе, с последующей сортировкой по идентификаторам университетов и городам проживания преподавателей."
   ]
  },
  {
   "cell_type": "code",
   "execution_count": 17,
   "id": "dying-coalition",
   "metadata": {},
   "outputs": [
    {
     "name": "stdout",
     "output_type": "stream",
     "text": [
      "SELECT lecturer.lecturer_id, lecturer.surname, lecturer.name, lecturer.city, lecturer.univ_id \n",
      "FROM lecturer \n",
      "WHERE lecturer.city != (SELECT university.city \n",
      "FROM university \n",
      "WHERE university.univ_id = lecturer.univ_id) ORDER BY lecturer.univ_id, lecturer.city\n"
     ]
    },
    {
     "data": {
      "text/plain": [
       "[(2, 'Зайцева', 'Юлия', 'Белгород', 10),\n",
       " (13, 'Зыкова', 'Оксана', 'Калач', 10),\n",
       " (19, 'Алексеев', 'Елисей', 'Мценск', 10),\n",
       " (328, 'Сорокин', 'Андрей', 'Орел', 10),\n",
       " (6, 'Максимова', 'Иванна', 'Сковородино', 10),\n",
       " (3, 'Мамонтова', 'Акулина', 'Троицк (Моск.)', 11),\n",
       " (20, 'Тихонов', 'Ладомир', 'Кропоткин (Краснод.)', 15),\n",
       " (22, 'Беспалов', 'Юлиан', 'Рыбинск', 15),\n",
       " (9, 'Крюкова', 'Людмила', 'Анива', 18),\n",
       " (4, 'Богданова', 'Оксана', 'Всеволожск', 18)]"
      ]
     },
     "execution_count": 17,
     "metadata": {},
     "output_type": "execute_result"
    }
   ],
   "source": [
    "subq = select(university.c.city)\n",
    "subq = subq.where(university.c.univ_id == lecturer.c.univ_id).scalar_subquery()\n",
    "\n",
    "s = select(lecturer)\n",
    "s = s.where(lecturer.c.city != subq)\n",
    "s = s.order_by(lecturer.c.univ_id, lecturer.c.city)\n",
    "\n",
    "print(s)\n",
    "result = conn.execute(s).fetchall()\n",
    "result[:10]"
   ]
  },
  {
   "cell_type": "markdown",
   "id": "gentle-chemical",
   "metadata": {},
   "source": [
    "## 4. Напишите запрос для получения списка предметов, на изучение которых отведено максимальное количество часов среди всех предметов, изучаемых в том же семестре. Список упорядочить по семестрам."
   ]
  },
  {
   "cell_type": "code",
   "execution_count": 22,
   "id": "loving-hayes",
   "metadata": {},
   "outputs": [
    {
     "name": "stdout",
     "output_type": "stream",
     "text": [
      "SELECT subject.subj_id, subject.subj_name, subject.hour, subject.semester \n",
      "FROM subject \n",
      "WHERE subject.hour = (SELECT max(s1.hour) AS max_1 \n",
      "FROM subject AS s1 \n",
      "WHERE s1.semester = subject.semester) ORDER BY subject.semester\n"
     ]
    },
    {
     "data": {
      "text/plain": [
       "[(10, 'Информатика', 56, 1),\n",
       " (43, 'Математика', 56, 2),\n",
       " (94, 'Английский язык', 56, 3),\n",
       " (23, 'Теория вероятностей и математическая статистика', 72, 4),\n",
       " (73, 'Физкультура', 34, 5)]"
      ]
     },
     "execution_count": 22,
     "metadata": {},
     "output_type": "execute_result"
    }
   ],
   "source": [
    "s1 = subject.alias('s1')\n",
    "subq = select(func.max(s1.c.hour))\n",
    "subq = subq.where(s1.c.semester == subject.c.semester).scalar_subquery()\n",
    "\n",
    "s = select(subject)\n",
    "s = s.where(subject.c.hour == subq)\n",
    "s = s.order_by(subject.c.semester)\n",
    "\n",
    "print(s)\n",
    "result = conn.execute(s).fetchall()\n",
    "result[:10]"
   ]
  },
  {
   "cell_type": "markdown",
   "id": "ongoing-above",
   "metadata": {},
   "source": [
    "## 5. Напишите запрос для получения списка студентов, получающих стипендию, превосходящую среднее значение стипендии на их курсе."
   ]
  },
  {
   "cell_type": "code",
   "execution_count": 25,
   "id": "becoming-badge",
   "metadata": {},
   "outputs": [
    {
     "name": "stdout",
     "output_type": "stream",
     "text": [
      "SELECT student.student_id, student.surname, student.name, student.stipend, student.kurs, student.city, student.birthday, student.univ_id \n",
      "FROM student \n",
      "WHERE student.stipend > (SELECT avg(s1.stipend) AS avg_1 \n",
      "FROM student AS s1 \n",
      "WHERE s1.kurs = student.kurs)\n",
      "54\n"
     ]
    },
    {
     "data": {
      "text/plain": [
       "[(1, 'Иванов', 'Иван', 150, 1, 'Орел', datetime.datetime(2002, 12, 3, 0, 0), 10),\n",
       " (3, 'Петров', 'Петр', 200, 3, 'Курск', datetime.datetime(2000, 12, 1, 0, 0), 10),\n",
       " (6, 'Сидоров', 'Вадим', 150, 4, 'Москва', datetime.datetime(1999, 6, 7, 0, 0), 22),\n",
       " (12, 'Зайцева', 'Ольга', 250, 2, 'Липецк', datetime.datetime(2001, 5, 1, 0, 0), 10),\n",
       " (55, 'Белкин', 'Вадим', 250, 5, 'Воронеж', datetime.datetime(2000, 1, 7, 0, 0), 10),\n",
       " (64, 'Жук', 'Оксана', 250, 1, 'Воркута', datetime.datetime(2000, 11, 16, 0, 0), 47),\n",
       " (66, 'Некрасова', 'Вероника', 250, 2, 'Иркутск', datetime.datetime(2004, 8, 23, 0, 0), 10),\n",
       " (68, 'Казакова', 'Ольга', 250, 4, 'Кемерово', datetime.datetime(2000, 3, 29, 0, 0), 44),\n",
       " (70, 'Миронова', 'Анна', 200, 2, 'Владикавказ', datetime.datetime(2000, 10, 8, 0, 0), 46),\n",
       " (71, 'Кондрат', 'Синицин', 200, 4, 'Ишим', datetime.datetime(2001, 2, 23, 0, 0), 18)]"
      ]
     },
     "execution_count": 25,
     "metadata": {},
     "output_type": "execute_result"
    }
   ],
   "source": [
    "s1 = student.alias('s1')\n",
    "subq = select(func.avg(s1.c.stipend))\n",
    "subq = subq.where(s1.c.kurs == student.c.kurs).scalar_subquery()\n",
    "\n",
    "s = select(student)\n",
    "s = s.where(student.c.stipend > subq)\n",
    "\n",
    "\n",
    "print(s)\n",
    "result = conn.execute(s).fetchall()\n",
    "print(len(result))\n",
    "result[:10]"
   ]
  },
  {
   "cell_type": "markdown",
   "id": "binding-surgery",
   "metadata": {},
   "source": [
    "## 6. Напишите запрос для получения списка студентов, получающих минимальную стипендию в своем университете, с последующей сортировкой по значениям идентификатора университета и стипендии.\n"
   ]
  },
  {
   "cell_type": "code",
   "execution_count": 26,
   "id": "changing-assets",
   "metadata": {},
   "outputs": [
    {
     "name": "stdout",
     "output_type": "stream",
     "text": [
      "SELECT student.student_id, student.surname, student.name, student.stipend, student.kurs, student.city, student.birthday, student.univ_id \n",
      "FROM student \n",
      "WHERE student.stipend = (SELECT min(s1.stipend) AS min_1 \n",
      "FROM student AS s1 \n",
      "WHERE s1.univ_id = student.univ_id) ORDER BY student.univ_id, student.stipend\n",
      "18\n"
     ]
    },
    {
     "data": {
      "text/plain": [
       "[(10, 'Кузнецов', 'Борис', 0, 2, 'Брянск', datetime.datetime(2001, 12, 8, 0, 0), 10),\n",
       " (62, 'Семенова', 'Вероника', 0, 3, 'Вологда', datetime.datetime(2003, 10, 4, 0, 0), 10),\n",
       " (265, 'Павлов', 'Андрей', 0, 3, 'Воронеж', datetime.datetime(2000, 11, 5, 0, 0), 10),\n",
       " (58, 'Журавлева', 'Вера', 0, 4, 'Новосибирск', datetime.datetime(2003, 6, 14, 0, 0), 11),\n",
       " (126, 'Жуков', 'Пров', 0, 3, 'Кыштым', datetime.datetime(1998, 9, 11, 0, 0), 11),\n",
       " (90, 'Костина', 'Кира', 0, 4, 'Устюжна', datetime.datetime(1995, 7, 15, 0, 0), 14),\n",
       " (135, 'Комаров', 'Ипат', 0, 1, 'Нерчинск', datetime.datetime(2000, 7, 17, 0, 0), 14),\n",
       " (63, 'Пак', 'Ирина', 100, 1, 'Магадан', datetime.datetime(2000, 8, 22, 0, 0), 15),\n",
       " (124, 'Юдин', 'Савва', 0, 2, 'Усинск', datetime.datetime(2001, 12, 2, 0, 0), 18),\n",
       " (74, 'Гуляева', 'Рукижат', 0, 3, 'Невельск (Сахалин)', datetime.datetime(2002, 7, 23, 0, 0), 22)]"
      ]
     },
     "execution_count": 26,
     "metadata": {},
     "output_type": "execute_result"
    }
   ],
   "source": [
    "s1 = student.alias('s1')\n",
    "subq = select(func.min(s1.c.stipend))\n",
    "subq = subq.where(s1.c.univ_id == student.c.univ_id).scalar_subquery()\n",
    "\n",
    "s = select(student)\n",
    "s = s.where(student.c.stipend == subq)\n",
    "s = s.order_by(student.c.univ_id, student.c.stipend)\n",
    "\n",
    "print(s)\n",
    "result = conn.execute(s).fetchall()\n",
    "print(len(result))\n",
    "result[:10]"
   ]
  },
  {
   "cell_type": "markdown",
   "id": "metric-plate",
   "metadata": {},
   "source": [
    "## 7. Напишите запрос для получения списка университетов, в которых учится более 50 студентов, с последующей сортировкой по рейтингам."
   ]
  },
  {
   "cell_type": "code",
   "execution_count": 31,
   "id": "narrow-procurement",
   "metadata": {},
   "outputs": [
    {
     "name": "stdout",
     "output_type": "stream",
     "text": [
      "SELECT university.univ_id, university.univ_name, university.rating, university.city \n",
      "FROM university \n",
      "WHERE (SELECT count(student.student_id) AS count_1 \n",
      "FROM student \n",
      "WHERE student.univ_id = university.univ_id) > :param_1 ORDER BY university.rating\n",
      "8\n"
     ]
    },
    {
     "data": {
      "text/plain": [
       "[(47, 'КФУ', None, 'Казань'),\n",
       " (10, 'ВГУ', 296, 'Воронеж'),\n",
       " (46, 'ФГБОУ \"Политех\"', 304, 'Санкт-Петербург'),\n",
       " (14, 'БГУ', 326, 'Белгород'),\n",
       " (18, 'ВГМА', 327, 'Воронеж'),\n",
       " (44, 'ФинУ', 330, 'Москва'),\n",
       " (32, 'РГУ', 416, 'Ростов'),\n",
       " (22, 'МГУ', 606, 'Москва')]"
      ]
     },
     "execution_count": 31,
     "metadata": {},
     "output_type": "execute_result"
    }
   ],
   "source": [
    "subq = select(func.count(student.c.student_id))\n",
    "subq = subq.where(student.c.univ_id == university.c.univ_id).scalar_subquery()\n",
    "\n",
    "s = select(university)\n",
    "s = s.where(subq > 5)\n",
    "s = s.order_by(university.c.rating)\n",
    "\n",
    "print(s)\n",
    "result = conn.execute(s).fetchall()\n",
    "print(len(result))\n",
    "result[:10]"
   ]
  },
  {
   "cell_type": "markdown",
   "id": "annual-engagement",
   "metadata": {},
   "source": [
    "## 8. Напишите запрос для получения списка университетов, в которых работает более 5 преподавателей, с последующей сортировкой по рейтингам университетов."
   ]
  },
  {
   "cell_type": "code",
   "execution_count": 33,
   "id": "adult-suspect",
   "metadata": {},
   "outputs": [
    {
     "name": "stdout",
     "output_type": "stream",
     "text": [
      "SELECT university.univ_id, university.univ_name, university.rating, university.city \n",
      "FROM university \n",
      "WHERE (SELECT count(lecturer.lecturer_id) AS count_1 \n",
      "FROM lecturer \n",
      "WHERE lecturer.univ_id = university.univ_id) > :param_1 ORDER BY university.rating\n",
      "1\n"
     ]
    },
    {
     "data": {
      "text/plain": [
       "[(10, 'ВГУ', 296, 'Воронеж')]"
      ]
     },
     "execution_count": 33,
     "metadata": {},
     "output_type": "execute_result"
    }
   ],
   "source": [
    "subq = select(func.count(lecturer.c.lecturer_id))\n",
    "subq = subq.where(lecturer.c.univ_id == university.c.univ_id).scalar_subquery()\n",
    "\n",
    "s = select(university)\n",
    "s = s.where(subq > 5)\n",
    "s = s.order_by(university.c.rating)\n",
    "\n",
    "print(s)\n",
    "result = conn.execute(s).fetchall()\n",
    "print(len(result))\n",
    "result[:10]"
   ]
  },
  {
   "cell_type": "markdown",
   "id": "boring-password",
   "metadata": {},
   "source": [
    "## 9. Напишите запрос для получения списка отличников (студентов, получивших только отличные оценки), с последующей сортировкой по идентификаторам университетов и курсам."
   ]
  },
  {
   "cell_type": "code",
   "execution_count": 36,
   "id": "enclosed-switzerland",
   "metadata": {},
   "outputs": [
    {
     "name": "stdout",
     "output_type": "stream",
     "text": [
      "SELECT student.student_id, student.surname, student.name, student.stipend, student.kurs, student.city, student.birthday, student.univ_id \n",
      "FROM student \n",
      "WHERE (SELECT min(exam_marks.mark) AS min_1 \n",
      "FROM exam_marks \n",
      "WHERE exam_marks.student_id = student.student_id) = :param_1 ORDER BY student.univ_id, student.kurs\n",
      "7\n"
     ]
    },
    {
     "data": {
      "text/plain": [
       "[(99, 'Борисова', 'Марина', 150, 1, 'Рославль', datetime.datetime(1995, 8, 7, 0, 0), 10),\n",
       " (10, 'Кузнецов', 'Борис', 0, 2, 'Брянск', datetime.datetime(2001, 12, 8, 0, 0), 10),\n",
       " (88, 'Жданова', 'Ирина', 200, 3, 'Тверь', datetime.datetime(2002, 3, 2, 0, 0), 10),\n",
       " (55, 'Белкин', 'Вадим', 250, 5, 'Воронеж', datetime.datetime(2000, 1, 7, 0, 0), 10),\n",
       " (92, 'Мельникова', 'Светлана', 250, 4, 'Кропоткин (Краснод.)', datetime.datetime(1998, 3, 24, 0, 0), 15),\n",
       " (91, 'Блохина', 'Ираида', 250, 3, 'Новый Уренгой', datetime.datetime(1997, 3, 23, 0, 0), 22),\n",
       " (82, 'Лапина', 'Элеонора', 150, 3, 'Джубга', datetime.datetime(1997, 11, 23, 0, 0), 45)]"
      ]
     },
     "execution_count": 36,
     "metadata": {},
     "output_type": "execute_result"
    }
   ],
   "source": [
    "subq = select(func.min(exam_marks.c.mark))\n",
    "subq = subq.where(exam_marks.c.student_id == student.c.student_id).scalar_subquery()\n",
    "\n",
    "s = select(student)\n",
    "s = s.where(subq == 5)\n",
    "s = s.order_by(student.c.univ_id, student.c.kurs)\n",
    "\n",
    "print(s)\n",
    "result = conn.execute(s).fetchall()\n",
    "print(len(result))\n",
    "result[:10]"
   ]
  },
  {
   "cell_type": "markdown",
   "id": "passive-palestinian",
   "metadata": {},
   "source": [
    "## 10. Напишите запрос для получения списка неуспевающих студентов (получивших хотя бы одну неудовлетворительную оценку), с последующей сортировкой по идентификаторам университетов и курсам."
   ]
  },
  {
   "cell_type": "code",
   "execution_count": 37,
   "id": "danish-aging",
   "metadata": {},
   "outputs": [
    {
     "name": "stdout",
     "output_type": "stream",
     "text": [
      "SELECT student.student_id, student.surname, student.name, student.stipend, student.kurs, student.city, student.birthday, student.univ_id \n",
      "FROM student \n",
      "WHERE (SELECT min(exam_marks.mark) AS min_1 \n",
      "FROM exam_marks \n",
      "WHERE exam_marks.student_id = student.student_id) < :param_1 ORDER BY student.univ_id, student.kurs\n",
      "18\n"
     ]
    },
    {
     "data": {
      "text/plain": [
       "[(1, 'Иванов', 'Иван', 150, 1, 'Орел', datetime.datetime(2002, 12, 3, 0, 0), 10),\n",
       " (12, 'Зайцева', 'Ольга', 250, 2, 'Липецк', datetime.datetime(2001, 5, 1, 0, 0), 10),\n",
       " (116, 'Федоров', 'Гостомысл', 100, 4, 'Новый Уренгой', datetime.datetime(2000, 11, 16, 0, 0), 10),\n",
       " (65, 'Сергеева', 'Фёкла', 100, 5, None, datetime.datetime(2000, 2, 19, 0, 0), 10),\n",
       " (76, 'Мельникова', 'Дарья', 100, 5, 'Архангельск', datetime.datetime(2002, 8, 1, 0, 0), 10),\n",
       " (123, 'Веселов', 'Тимур', 150, 1, 'Невинномысск', datetime.datetime(1998, 4, 28, 0, 0), 11),\n",
       " (126, 'Жуков', 'Пров', 0, 3, 'Кыштым', datetime.datetime(1998, 9, 11, 0, 0), 11),\n",
       " (103, 'Трофимов', 'Владислав', 250, 5, 'Верхоянск', datetime.datetime(1995, 3, 24, 0, 0), 11),\n",
       " (110, 'Суханов', 'Константин', 250, 3, 'Курск', datetime.datetime(1996, 11, 22, 0, 0), 14),\n",
       " (149, 'Вячеслав', 'Пахомов', 250, 3, 'Игарка', datetime.datetime(1997, 5, 14, 0, 0), 14)]"
      ]
     },
     "execution_count": 37,
     "metadata": {},
     "output_type": "execute_result"
    }
   ],
   "source": [
    "subq = select(func.min(exam_marks.c.mark))\n",
    "subq = subq.where(exam_marks.c.student_id == student.c.student_id).scalar_subquery()\n",
    "\n",
    "s = select(student)\n",
    "s = s.where(subq < 3)\n",
    "s = s.order_by(student.c.univ_id, student.c.kurs)\n",
    "\n",
    "print(s)\n",
    "result = conn.execute(s).fetchall()\n",
    "print(len(result))\n",
    "result[:10]"
   ]
  },
  {
   "cell_type": "markdown",
   "id": "brilliant-review",
   "metadata": {},
   "source": [
    "# Следующий раздел задач"
   ]
  },
  {
   "cell_type": "markdown",
   "id": "integral-integration",
   "metadata": {},
   "source": [
    "## 1. Напишите команду SELECT, использующую связанные подзапросы и выполняющую вывод имен и идентификаторов студентов, у которых стипендия совпадает с максимальным значением стипендии для города, в котором живет студент."
   ]
  },
  {
   "cell_type": "code",
   "execution_count": 39,
   "id": "cutting-organic",
   "metadata": {},
   "outputs": [
    {
     "name": "stdout",
     "output_type": "stream",
     "text": [
      "SELECT student.student_id, student.surname, student.name, student.stipend, student.kurs, student.city, student.birthday, student.univ_id \n",
      "FROM student \n",
      "WHERE student.stipend = (SELECT max(student.stipend) AS max_1 \n",
      "FROM student GROUP BY student.city) ORDER BY student.univ_id, student.kurs\n",
      "22\n"
     ]
    },
    {
     "data": {
      "text/plain": [
       "[(1, 'Иванов', 'Иван', 150, 1, 'Орел', datetime.datetime(2002, 12, 3, 0, 0), 10),\n",
       " (78, 'Агафонов', 'Василий', 150, 1, 'Грозный', datetime.datetime(1994, 10, 29, 0, 0), 10),\n",
       " (99, 'Борисова', 'Марина', 150, 1, 'Рославль', datetime.datetime(1995, 8, 7, 0, 0), 10),\n",
       " (113, 'Аксенов', 'Валерий', 150, 1, 'Мурманск', datetime.datetime(1994, 10, 27, 0, 0), 10),\n",
       " (123, 'Веселов', 'Тимур', 150, 1, 'Невинномысск', datetime.datetime(1998, 4, 28, 0, 0), 11),\n",
       " (118, 'Кондратьев', 'Николай', 150, 3, 'Ханты-Мансийск', datetime.datetime(1999, 10, 28, 0, 0), 14),\n",
       " (32, 'Котов', 'Павел', 150, 5, 'Белгород', datetime.datetime(2001, 2, 28, 0, 0), 14),\n",
       " (77, 'Мишина', 'Светлана', 150, 2, 'Рыльск', datetime.datetime(1997, 5, 22, 0, 0), 18),\n",
       " (6, 'Сидоров', 'Вадим', 150, 4, 'Москва', datetime.datetime(1999, 6, 7, 0, 0), 22),\n",
       " (133, 'Жуковский', 'Юрий', 150, 4, 'Сургут (Хант.)', datetime.datetime(1996, 5, 30, 0, 0), 22)]"
      ]
     },
     "execution_count": 39,
     "metadata": {},
     "output_type": "execute_result"
    }
   ],
   "source": [
    "subq = select(func.max(student.c.stipend))\n",
    "subq = subq.group_by(student.c.city).scalar_subquery()\n",
    "\n",
    "s = select(student)\n",
    "s = s.where(student.c.stipend == subq)\n",
    "s = s.order_by(student.c.univ_id, student.c.kurs)\n",
    "\n",
    "print(s)\n",
    "result = conn.execute(s).fetchall()\n",
    "print(len(result))\n",
    "result[:10]"
   ]
  },
  {
   "cell_type": "markdown",
   "id": "administrative-latter",
   "metadata": {},
   "source": [
    "## 2. Напишите запрос, который позволяет вывести имена и идентификаторы всех студентов, о которых точно известно, что они проживают в городе, где нет ни одного университета."
   ]
  },
  {
   "cell_type": "code",
   "execution_count": 48,
   "id": "academic-baseball",
   "metadata": {},
   "outputs": [
    {
     "name": "stdout",
     "output_type": "stream",
     "text": [
      "SELECT student.student_id, student.surname, student.name, student.stipend, student.kurs, student.city, student.birthday, student.univ_id \n",
      "FROM student \n",
      "WHERE (student.city NOT IN (SELECT distinct(university.city) AS distinct_1 \n",
      "FROM university GROUP BY university.city)) ORDER BY student.univ_id, student.kurs\n",
      "77\n"
     ]
    },
    {
     "data": {
      "text/plain": [
       "[(1, 'Иванов', 'Иван', 150, 1, 'Орел', datetime.datetime(2002, 12, 3, 0, 0), 10),\n",
       " (78, 'Агафонов', 'Василий', 150, 1, 'Грозный', datetime.datetime(1994, 10, 29, 0, 0), 10),\n",
       " (99, 'Борисова', 'Марина', 150, 1, 'Рославль', datetime.datetime(1995, 8, 7, 0, 0), 10),\n",
       " (113, 'Аксенов', 'Валерий', 150, 1, 'Мурманск', datetime.datetime(1994, 10, 27, 0, 0), 10),\n",
       " (10, 'Кузнецов', 'Борис', 0, 2, 'Брянск', datetime.datetime(2001, 12, 8, 0, 0), 10),\n",
       " (12, 'Зайцева', 'Ольга', 250, 2, 'Липецк', datetime.datetime(2001, 5, 1, 0, 0), 10),\n",
       " (66, 'Некрасова', 'Вероника', 250, 2, 'Иркутск', datetime.datetime(2004, 8, 23, 0, 0), 10),\n",
       " (3, 'Петров', 'Петр', 200, 3, 'Курск', datetime.datetime(2000, 12, 1, 0, 0), 10),\n",
       " (62, 'Семенова', 'Вероника', 0, 3, 'Вологда', datetime.datetime(2003, 10, 4, 0, 0), 10),\n",
       " (88, 'Жданова', 'Ирина', 200, 3, 'Тверь', datetime.datetime(2002, 3, 2, 0, 0), 10)]"
      ]
     },
     "execution_count": 48,
     "metadata": {},
     "output_type": "execute_result"
    }
   ],
   "source": [
    "subq = select(func.distinct(university.c.city))\n",
    "subq = subq.group_by(university.c.city).scalar_subquery()\n",
    "\n",
    "s = select(student)\n",
    "s = s.where(student.c.city.notin_(subq))\n",
    "s = s.order_by(student.c.univ_id, student.c.kurs)\n",
    "\n",
    "print(s)\n",
    "result = conn.execute(s).fetchall()\n",
    "print(len(result))\n",
    "result[:10]"
   ]
  },
  {
   "cell_type": "markdown",
   "id": "continent-musician",
   "metadata": {},
   "source": [
    "## 3. Напишите два запроса, которые позволяют вывести имена и идентификаторы всех студентов, о которых точно известно, что они проживают не в том городе, где расположен их университет: один запрос с использованием связанного подзапроса, а другой с использованием соединения."
   ]
  },
  {
   "cell_type": "code",
   "execution_count": 50,
   "id": "stunning-width",
   "metadata": {},
   "outputs": [
    {
     "name": "stdout",
     "output_type": "stream",
     "text": [
      "SELECT student.student_id, student.surname, student.name, student.stipend, student.kurs, student.city, student.birthday, student.univ_id \n",
      "FROM student \n",
      "WHERE student.city != (SELECT university.city \n",
      "FROM university \n",
      "WHERE student.univ_id = university.univ_id) ORDER BY student.univ_id, student.kurs\n",
      "79\n"
     ]
    },
    {
     "data": {
      "text/plain": [
       "[(1, 'Иванов', 'Иван', 150, 1, 'Орел', datetime.datetime(2002, 12, 3, 0, 0), 10),\n",
       " (78, 'Агафонов', 'Василий', 150, 1, 'Грозный', datetime.datetime(1994, 10, 29, 0, 0), 10),\n",
       " (99, 'Борисова', 'Марина', 150, 1, 'Рославль', datetime.datetime(1995, 8, 7, 0, 0), 10),\n",
       " (113, 'Аксенов', 'Валерий', 150, 1, 'Мурманск', datetime.datetime(1994, 10, 27, 0, 0), 10),\n",
       " (10, 'Кузнецов', 'Борис', 0, 2, 'Брянск', datetime.datetime(2001, 12, 8, 0, 0), 10),\n",
       " (12, 'Зайцева', 'Ольга', 250, 2, 'Липецк', datetime.datetime(2001, 5, 1, 0, 0), 10),\n",
       " (66, 'Некрасова', 'Вероника', 250, 2, 'Иркутск', datetime.datetime(2004, 8, 23, 0, 0), 10),\n",
       " (3, 'Петров', 'Петр', 200, 3, 'Курск', datetime.datetime(2000, 12, 1, 0, 0), 10),\n",
       " (62, 'Семенова', 'Вероника', 0, 3, 'Вологда', datetime.datetime(2003, 10, 4, 0, 0), 10),\n",
       " (88, 'Жданова', 'Ирина', 200, 3, 'Тверь', datetime.datetime(2002, 3, 2, 0, 0), 10)]"
      ]
     },
     "execution_count": 50,
     "metadata": {},
     "output_type": "execute_result"
    }
   ],
   "source": [
    "subq = select(university.c.city)\n",
    "subq = subq.where(student.c.univ_id == university.c.univ_id).scalar_subquery()\n",
    "\n",
    "s = select(student)\n",
    "s = s.where(student.c.city != subq)\n",
    "s = s.order_by(student.c.univ_id, student.c.kurs)\n",
    "\n",
    "print(s)\n",
    "result = conn.execute(s).fetchall()\n",
    "print(len(result))\n",
    "result[:10]"
   ]
  },
  {
   "cell_type": "markdown",
   "id": "limiting-bracelet",
   "metadata": {},
   "source": [
    "# Блок заданий с EXISTS"
   ]
  }
 ],
 "metadata": {
  "kernelspec": {
   "display_name": "Python 3",
   "language": "python",
   "name": "python3"
  },
  "language_info": {
   "codemirror_mode": {
    "name": "ipython",
    "version": 3
   },
   "file_extension": ".py",
   "mimetype": "text/x-python",
   "name": "python",
   "nbconvert_exporter": "python",
   "pygments_lexer": "ipython3",
   "version": "3.9.0"
  }
 },
 "nbformat": 4,
 "nbformat_minor": 5
}
