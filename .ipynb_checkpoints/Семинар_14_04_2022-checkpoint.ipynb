{
 "cells": [
  {
   "cell_type": "code",
   "execution_count": 39,
   "id": "heavy-baghdad",
   "metadata": {},
   "outputs": [],
   "source": [
    "from sqlalchemy import MetaData, Table, create_engine, select, and_, or_, not_, text\n",
    "from sqlalchemy.sql import func, distinct, exists, join\n",
    "engine = create_engine('sqlite+pysqlite:////Users/vladislavvorosilov/Desktop/Python_SQL/Python_SQL_PI_2021_22_s2/Data/Students.db')\n",
    "conn = engine.connect()\n",
    "metadata = MetaData() \n",
    "metadata.reflect(bind=engine) \n",
    "exam_marks=Table(\"exam_marks\", metadata, autoload=True, autoload_with=\"engine\")\n",
    "lecturer=Table(\"lecturer\", metadata, autoload=True, autoload_with=\"engine\")\n",
    "student=Table(\"student\", metadata, autoload=True, autoload_with=\"engine\")\n",
    "subj_lect=Table(\"subj_lect\", metadata, autoload=True, autoload_with=\"engine\")\n",
    "subject=Table(\"subject\", metadata, autoload=True, autoload_with=\"engine\")\n",
    "university=Table(\"university\", metadata, autolad=True, autolad_with=\"engine\")"
   ]
  },
  {
   "cell_type": "markdown",
   "id": "toxic-dragon",
   "metadata": {},
   "source": [
    "## 1. Покажите названия университетов с указанием количества студентов, обучающихся на каждом курсе."
   ]
  },
  {
   "cell_type": "code",
   "execution_count": 40,
   "id": "exempt-convert",
   "metadata": {},
   "outputs": [
    {
     "name": "stdout",
     "output_type": "stream",
     "text": [
      "SELECT university.univ_name, count(student.student_id) AS \"Student_amount\", student.kurs \n",
      "FROM university JOIN student ON university.univ_id = student.univ_id GROUP BY university.univ_id, student.kurs\n",
      "44\n"
     ]
    },
    {
     "data": {
      "text/plain": [
       "[('ВГУ', 4, 1),\n",
       " ('ВГУ', 3, 2),\n",
       " ('ВГУ', 5, 3),\n",
       " ('ВГУ', 1, 4),\n",
       " ('ВГУ', 3, 5),\n",
       " ('НГУ', 1, 1),\n",
       " ('НГУ', 1, 3),\n",
       " ('НГУ', 1, 4),\n",
       " ('НГУ', 1, 5),\n",
       " ('БГУ', 1, 1)]"
      ]
     },
     "execution_count": 40,
     "metadata": {},
     "output_type": "execute_result"
    }
   ],
   "source": [
    "s = select(university.c.univ_name, func.count(student.c.student_id).label(\"Student_amount\"), student.c.kurs)\n",
    "s = s.join(student, university.c.univ_id == student.c.univ_id)\n",
    "s = s.group_by(university.c.univ_id, student.c.kurs)\n",
    "\n",
    "print(s)\n",
    "result = conn.execute(s).fetchall()\n",
    "print(len(result))\n",
    "result[:10]"
   ]
  },
  {
   "cell_type": "markdown",
   "id": "assumed-paintball",
   "metadata": {},
   "source": [
    "## 2. Покажите фамилии, имена преподавателей и названия предметов, которые они преподают. Отсортировать по фамилии преподавателя."
   ]
  },
  {
   "cell_type": "code",
   "execution_count": 23,
   "id": "exposed-programmer",
   "metadata": {},
   "outputs": [
    {
     "name": "stdout",
     "output_type": "stream",
     "text": [
      "SELECT lecturer.surname, lecturer.name, subject.subj_name \n",
      "FROM lecturer JOIN subj_lect ON lecturer.lecturer_id = subj_lect.lecturer_id JOIN subject ON subj_lect.subj_id = subject.subj_id ORDER BY lecturer.surname\n",
      "24\n"
     ]
    },
    {
     "data": {
      "text/plain": [
       "[('Алексеев', 'Елисей', 'ОБЖ'),\n",
       " ('Беляков', 'Мефодий', 'Информатика'),\n",
       " ('Беспалов', 'Юлиан', 'Информатика'),\n",
       " ('Беспалов', 'Юлиан', 'Физкультура'),\n",
       " ('Брагина', 'Нинель', 'ОБЖ'),\n",
       " ('Волков', 'Михаил', 'Английский язык'),\n",
       " ('Волков', 'Михаил', 'Программирование на языках Python и SQL'),\n",
       " ('Дорофеев', 'Прокофий', 'Программирование на языках Python и SQL'),\n",
       " ('Зайцева', 'Юлия', 'История'),\n",
       " ('Зайцева', 'Юлия', 'Теория вероятностей и математическая статистика')]"
      ]
     },
     "execution_count": 23,
     "metadata": {},
     "output_type": "execute_result"
    }
   ],
   "source": [
    "s = select(lecturer.c.surname, lecturer.c.name, subject.c.subj_name)\n",
    "s = s.select_from(lecturer)\n",
    "s = s.join(subj_lect, lecturer.c.lecturer_id == subj_lect.c.lecturer_id)\n",
    "s = s.join(subject, subj_lect.c.subj_id == subject.c.subj_id)\n",
    "s = s.order_by(lecturer.c.surname)\n",
    "\n",
    "print(s)\n",
    "result = conn.execute(s).fetchall()\n",
    "print(len(result))\n",
    "result[:10]"
   ]
  },
  {
   "cell_type": "markdown",
   "id": "driven-grave",
   "metadata": {},
   "source": [
    "## 3. Покажите суммарное количество часов каждого преподавателя в каждом семестре. Результат должен содержать фамилию, имя преподавателя, номер семестра, число часов."
   ]
  },
  {
   "cell_type": "code",
   "execution_count": 24,
   "id": "vocal-velvet",
   "metadata": {},
   "outputs": [
    {
     "name": "stdout",
     "output_type": "stream",
     "text": [
      "SELECT lecturer.surname, lecturer.name, subject.semester, sum(subject.hour) AS sum_1 \n",
      "FROM lecturer JOIN subj_lect ON lecturer.lecturer_id = subj_lect.lecturer_id JOIN subject ON subj_lect.subj_id = subject.subj_id GROUP BY lecturer.lecturer_id, subject.semester\n",
      "23\n"
     ]
    },
    {
     "data": {
      "text/plain": [
       "[('Сафонова', 'Лукия', 3, 56),\n",
       " ('Зайцева', 'Юлия', 4, 106),\n",
       " ('Мамонтова', 'Акулина', 2, 34),\n",
       " ('Брагина', 'Нинель', 2, 34),\n",
       " ('Максимова', 'Иванна', 1, 42),\n",
       " ('Максимова', 'Иванна', 2, 34),\n",
       " ('Куликова', 'Ираида', 2, 56),\n",
       " ('Куликова', 'Ираида', 4, 34),\n",
       " ('Кудрявцева', 'Анна', 1, 56),\n",
       " ('Дорофеев', 'Прокофий', 2, 34)]"
      ]
     },
     "execution_count": 24,
     "metadata": {},
     "output_type": "execute_result"
    }
   ],
   "source": [
    "s = select(lecturer.c.surname, lecturer.c.name, subject.c.semester, func.sum(subject.c.hour))\n",
    "s = s.select_from(lecturer)\n",
    "s = s.join(subj_lect, lecturer.c.lecturer_id == subj_lect.c.lecturer_id)\n",
    "s = s.join(subject, subj_lect.c.subj_id == subject.c.subj_id)\n",
    "s = s.group_by(lecturer.c.lecturer_id, subject.c.semester)\n",
    "\n",
    "print(s)\n",
    "result = conn.execute(s).fetchall()\n",
    "print(len(result))\n",
    "result[:10]"
   ]
  },
  {
   "cell_type": "markdown",
   "id": "logical-kinase",
   "metadata": {},
   "source": [
    "## 4. Составьте список названий университетов вместе с названиями преподаваемых в них предметов."
   ]
  },
  {
   "cell_type": "code",
   "execution_count": 25,
   "id": "accessible-video",
   "metadata": {},
   "outputs": [
    {
     "name": "stdout",
     "output_type": "stream",
     "text": [
      "SELECT university.univ_name, subject.subj_name \n",
      "FROM university JOIN lecturer ON lecturer.univ_id = university.univ_id JOIN subj_lect ON lecturer.lecturer_id = subj_lect.lecturer_id JOIN subject ON subj_lect.subj_id = subject.subj_id\n",
      "24\n"
     ]
    },
    {
     "data": {
      "text/plain": [
       "[('ВГУ', 'История'),\n",
       " ('ВГУ', 'ОБЖ'),\n",
       " ('МГУ', 'Английский язык'),\n",
       " ('КФУ', 'Математика'),\n",
       " ('ФГБОУ \"Политех\"', 'Программирование на языках Python и SQL'),\n",
       " ('ВГУ', 'История'),\n",
       " ('МГУ', 'ОБЖ'),\n",
       " ('ВГУ', 'Анализ данных'),\n",
       " ('ВГУ', 'Программирование на языках Python и SQL'),\n",
       " ('РГУ', 'Программирование на языках Python и SQL')]"
      ]
     },
     "execution_count": 25,
     "metadata": {},
     "output_type": "execute_result"
    }
   ],
   "source": [
    "s = select(university.c.univ_name, subject.c.subj_name)\n",
    "s = s.select_from(university)\n",
    "s = s.join(lecturer, lecturer.c.univ_id == university.c.univ_id)\n",
    "s = s.join(subj_lect, lecturer.c.lecturer_id == subj_lect.c.lecturer_id)\n",
    "s = s.join(subject, subj_lect.c.subj_id == subject.c.subj_id)\n",
    "\n",
    "\n",
    "print(s)\n",
    "result = conn.execute(s).fetchall()\n",
    "print(len(result))\n",
    "result[:10]"
   ]
  },
  {
   "cell_type": "markdown",
   "id": "minus-lemon",
   "metadata": {},
   "source": [
    "## 5. Составьте список названий университетов с указанием суммарного количества аудиторных часов в каждом семестре."
   ]
  },
  {
   "cell_type": "code",
   "execution_count": 27,
   "id": "textile-ridge",
   "metadata": {},
   "outputs": [
    {
     "name": "stdout",
     "output_type": "stream",
     "text": [
      "SELECT university.univ_name, subject.semester, sum(subject.hour) AS sum_1 \n",
      "FROM university JOIN lecturer ON lecturer.univ_id = university.univ_id JOIN subj_lect ON lecturer.lecturer_id = subj_lect.lecturer_id JOIN subject ON subj_lect.subj_id = subject.subj_id GROUP BY university.univ_name, subject.semester\n",
      "19\n"
     ]
    },
    {
     "data": {
      "text/plain": [
       "[('ВГУ', 1, 76),\n",
       " ('ВГУ', 2, 68),\n",
       " ('ВГУ', 4, 140),\n",
       " ('КФУ', 1, 56),\n",
       " ('КФУ', 2, 56),\n",
       " ('КФУ', 4, 34),\n",
       " ('МГТУ им. Баумана', 2, 34),\n",
       " ('МГТУ им. Баумана', 3, 56),\n",
       " ('МГУ', 1, 56),\n",
       " ('МГУ', 2, 34)]"
      ]
     },
     "execution_count": 27,
     "metadata": {},
     "output_type": "execute_result"
    }
   ],
   "source": [
    "s = select(university.c.univ_name, subject.c.semester, func.sum(subject.c.hour))\n",
    "s = s.select_from(university)\n",
    "s = s.join(lecturer, lecturer.c.univ_id == university.c.univ_id)\n",
    "s = s.join(subj_lect, lecturer.c.lecturer_id == subj_lect.c.lecturer_id)\n",
    "s = s.join(subject, subj_lect.c.subj_id == subject.c.subj_id)\n",
    "s = s.group_by(university.c.univ_name, subject.c.semester)\n",
    "\n",
    "\n",
    "print(s)\n",
    "result = conn.execute(s).fetchall()\n",
    "print(len(result))\n",
    "result[:10]"
   ]
  },
  {
   "cell_type": "markdown",
   "id": "dried-reunion",
   "metadata": {},
   "source": [
    "## 6. Сформируйте список преподавателей с указанием суммарного количества часов, отведенных для обучения каждому из предметов."
   ]
  },
  {
   "cell_type": "code",
   "execution_count": 28,
   "id": "dirty-encyclopedia",
   "metadata": {},
   "outputs": [
    {
     "name": "stdout",
     "output_type": "stream",
     "text": [
      "SELECT lecturer.surname, lecturer.name, subject.subj_name, sum(subject.hour) AS sum_1 \n",
      "FROM lecturer JOIN subj_lect ON lecturer.lecturer_id = subj_lect.lecturer_id JOIN subject ON subj_lect.subj_id = subject.subj_id GROUP BY lecturer.lecturer_id, subject.subj_id\n",
      "24\n"
     ]
    },
    {
     "data": {
      "text/plain": [
       "[('Сафонова', 'Лукия', 'Английский язык', 56),\n",
       " ('Зайцева', 'Юлия', 'Теория вероятностей и математическая статистика', 72),\n",
       " ('Зайцева', 'Юлия', 'История', 34),\n",
       " ('Мамонтова', 'Акулина', 'Программирование на языках Python и SQL', 34),\n",
       " ('Брагина', 'Нинель', 'ОБЖ', 34),\n",
       " ('Максимова', 'Иванна', 'Программирование на языках Python и SQL', 34),\n",
       " ('Максимова', 'Иванна', 'Анализ данных', 42),\n",
       " ('Куликова', 'Ираида', 'Математика', 56),\n",
       " ('Куликова', 'Ираида', 'История', 34),\n",
       " ('Кудрявцева', 'Анна', 'Информатика', 56)]"
      ]
     },
     "execution_count": 28,
     "metadata": {},
     "output_type": "execute_result"
    }
   ],
   "source": [
    "s = select(lecturer.c.surname, lecturer.c.name, subject.c.subj_name, func.sum(subject.c.hour))\n",
    "s = s.select_from(lecturer)\n",
    "s = s.join(subj_lect, lecturer.c.lecturer_id == subj_lect.c.lecturer_id)\n",
    "s = s.join(subject, subj_lect.c.subj_id == subject.c.subj_id)\n",
    "s = s.group_by(lecturer.c.lecturer_id, subject.c.subj_id)\n",
    "\n",
    "print(s)\n",
    "result = conn.execute(s).fetchall()\n",
    "print(len(result))\n",
    "result[:10]"
   ]
  },
  {
   "cell_type": "markdown",
   "id": "lovely-effort",
   "metadata": {},
   "source": [
    "## 7. Напишите запрос для сортировки списка названий университетов по значениям максимальной стипендии, выплачиваемой студентам."
   ]
  },
  {
   "cell_type": "code",
   "execution_count": 39,
   "id": "wrapped-integral",
   "metadata": {},
   "outputs": [
    {
     "name": "stdout",
     "output_type": "stream",
     "text": [
      "SELECT university.univ_name, max(student.stipend) AS \"Max_stipend\" \n",
      "FROM university JOIN student ON student.univ_id = university.univ_id GROUP BY university.univ_id ORDER BY \"Max_stipend\"\n",
      "12\n"
     ]
    },
    {
     "data": {
      "text/plain": [
       "[('ВГМА', 200),\n",
       " ('МГТУ им. Баумана', 200),\n",
       " ('ФГБОУ \"Политех\"', 200),\n",
       " ('ВГУ', 250),\n",
       " ('НГУ', 250),\n",
       " ('БГУ', 250),\n",
       " ('ТГУ', 250),\n",
       " ('МГУ', 250),\n",
       " ('РГУ', 250),\n",
       " ('ФинУ', 250)]"
      ]
     },
     "execution_count": 39,
     "metadata": {},
     "output_type": "execute_result"
    }
   ],
   "source": [
    "s = select(university.c.univ_name, func.max(student.c.stipend).label(\"Max_stipend\"))\n",
    "s = s.select_from(university)\n",
    "s = s.join(student, student.c.univ_id == university.c.univ_id)\n",
    "s = s.group_by(university.c.univ_id)\n",
    "s = s.order_by(\"Max_stipend\")\n",
    "\n",
    "\n",
    "print(s)\n",
    "result = conn.execute(s).fetchall()\n",
    "print(len(result))\n",
    "result[:10]"
   ]
  },
  {
   "cell_type": "markdown",
   "id": "thick-secondary",
   "metadata": {},
   "source": [
    "## 8. Напишите запрос для получения списка названий университетов вместе с фамилиями и именами самых молодых студентов, обучаемых в них.\n"
   ]
  },
  {
   "cell_type": "code",
   "execution_count": 60,
   "id": "maritime-angle",
   "metadata": {},
   "outputs": [
    {
     "name": "stdout",
     "output_type": "stream",
     "text": [
      "SELECT university.univ_name, s2.surname, s2.name \n",
      "FROM university JOIN student AS s2 ON s2.univ_id = university.univ_id \n",
      "WHERE s2.birthday = (SELECT max(s1.birthday) AS max_1 \n",
      "FROM student AS s1 \n",
      "WHERE s1.univ_id = university.univ_id)\n",
      "12\n"
     ]
    },
    {
     "data": {
      "text/plain": [
       "[('ВГМА', 'Ордуханян', 'Рафаэль'),\n",
       " ('УЛГУ', 'Дуб', 'Елизавета'),\n",
       " ('НГУ', 'Журавлева', 'Вера'),\n",
       " ('ТГУ', 'Пак', 'Ирина'),\n",
       " ('ВГУ', 'Некрасова', 'Вероника'),\n",
       " ('МГТУ им. Баумана', 'Шубина', 'Елена'),\n",
       " ('МГУ', 'Гуляева', 'Рукижат'),\n",
       " ('КФУ', 'Назаров', 'Икром'),\n",
       " ('ФГБОУ \"Политех\"', 'Ситников', 'Викентий'),\n",
       " ('БГУ', 'Владимиров', 'Анатолий')]"
      ]
     },
     "execution_count": 60,
     "metadata": {},
     "output_type": "execute_result"
    }
   ],
   "source": [
    "s1 = student.alias(\"s1\")\n",
    "s2 = student.alias(\"s2\")\n",
    "\n",
    "subq = select(func.max(s1.c.birthday))\n",
    "subq = subq.where(s1.c.univ_id == university.c.univ_id).scalar_subquery()\n",
    "\n",
    "s = select(university.c.univ_name, s2.c.surname, s2.c.name)\n",
    "s = s.select_from(university)\n",
    "s = s.join(s2, s2.c.univ_id == university.c.univ_id)\n",
    "s = s.where(s2.c.birthday == subq)\n",
    "\n",
    "\n",
    "\n",
    "\n",
    "print(s)\n",
    "result = conn.execute(s).fetchall()\n",
    "print(len(result))\n",
    "result[:10]"
   ]
  },
  {
   "cell_type": "markdown",
   "id": "representative-asian",
   "metadata": {},
   "source": [
    "## 9. Сформируйте список фамилий и имён студентов вместе с названиями предметов и оценками, полученными по каждому предмету на экзаменах. Отсортируйте результат по названию предмета."
   ]
  },
  {
   "cell_type": "code",
   "execution_count": 61,
   "id": "united-dominant",
   "metadata": {},
   "outputs": [
    {
     "name": "stdout",
     "output_type": "stream",
     "text": [
      "SELECT student.surname, student.name, subject.subj_name, exam_marks.mark \n",
      "FROM student JOIN exam_marks ON student.student_id = exam_marks.student_id JOIN subject ON subject.subj_id = exam_marks.subj_id ORDER BY subject.subj_name\n",
      "47\n"
     ]
    },
    {
     "data": {
      "text/plain": [
       "[('Афанасьева', 'Анжелика', 'Анализ данных', 1),\n",
       " ('Федоров', 'Гостомысл', 'Анализ данных', 1),\n",
       " ('Мельникова', 'Дарья', 'Анализ данных', 2),\n",
       " ('Мишина', 'Светлана', 'Анализ данных', 1),\n",
       " ('Кузнецов', 'Борис', 'Анализ данных', 5),\n",
       " ('Семенова', 'Вероника', 'Английский язык', 4),\n",
       " ('Борисова', 'Марина', 'Английский язык', 5),\n",
       " ('Калашников', 'Евгений', 'Английский язык', 2),\n",
       " ('Пак', 'Ирина', 'Английский язык', 4),\n",
       " ('Вишнякова', 'Анжела', 'Информатика', 1)]"
      ]
     },
     "execution_count": 61,
     "metadata": {},
     "output_type": "execute_result"
    }
   ],
   "source": [
    "s = select(student.c.surname, student.c.name, subject.c.subj_name, exam_marks.c.mark)\n",
    "s = s.select_from(student)\n",
    "s = s.join(exam_marks, student.c.student_id == exam_marks.c.student_id)\n",
    "s = s.join(subject, subject.c.subj_id == exam_marks.c.subj_id)\n",
    "s = s.order_by(subject.c.subj_name)\n",
    "\n",
    "\n",
    "print(s)\n",
    "result = conn.execute(s).fetchall()\n",
    "print(len(result))\n",
    "result[:10]"
   ]
  },
  {
   "cell_type": "markdown",
   "id": "choice-divide",
   "metadata": {},
   "source": [
    "## 10. Напишите запрос для получения списка названий предметов вместе с фамилиями и именами студентов, получивших по данному предмету максимальную оценку. Результат отсортируйте по названию приедмета и по оценке."
   ]
  },
  {
   "cell_type": "code",
   "execution_count": 63,
   "id": "coordinated-equity",
   "metadata": {},
   "outputs": [
    {
     "name": "stdout",
     "output_type": "stream",
     "text": [
      "SELECT subject.subj_name, student.surname, student.name, em1.mark \n",
      "FROM subject JOIN exam_marks AS em1 ON subject.subj_id = em1.subj_id JOIN student ON student.student_id = em1.student_id \n",
      "WHERE em1.mark = (SELECT max(em2.mark) AS max_1 \n",
      "FROM exam_marks AS em2 \n",
      "WHERE em1.subj_id = em2.subj_id) ORDER BY subject.subj_name, em1.mark\n",
      "14\n"
     ]
    },
    {
     "data": {
      "text/plain": [
       "[('Анализ данных', 'Кузнецов', 'Борис', 5),\n",
       " ('Английский язык', 'Борисова', 'Марина', 5),\n",
       " ('Информатика', 'Мельникова', 'Светлана', 5),\n",
       " ('Информатика', 'Белкин', 'Вадим', 5),\n",
       " ('Информатика', 'Зайцева', 'Ольга', 5),\n",
       " ('История', 'Жданова', 'Ирина', 5),\n",
       " ('История', 'Лапина', 'Элеонора', 5),\n",
       " ('Математика', 'Петрова', 'Екатерина', 3),\n",
       " ('ОБЖ', 'Васильев', 'Матвей', 5),\n",
       " ('Обработка данных и моделирование в Excel', 'Мельникова', 'Светлана', 4)]"
      ]
     },
     "execution_count": 63,
     "metadata": {},
     "output_type": "execute_result"
    }
   ],
   "source": [
    "em1 = exam_marks.alias(\"em1\")\n",
    "em2 = exam_marks.alias(\"em2\")\n",
    "\n",
    "subq = select(func.max(em2.c.mark))\n",
    "subq = subq.where(em1.c.subj_id == em2.c.subj_id).scalar_subquery()\n",
    "\n",
    "s = select(subject.c.subj_name, student.c.surname, student.c.name, em1.c.mark)\n",
    "s = s.select_from(subject)\n",
    "s = s.join(em1, subject.c.subj_id == em1.c.subj_id)\n",
    "s = s.join(student, student.c.student_id == em1.c.student_id)\n",
    "s = s.where(em1.c.mark == subq)\n",
    "s = s.order_by(subject.c.subj_name, em1.c.mark)\n",
    "\n",
    "\n",
    "print(s)\n",
    "result = conn.execute(s).fetchall()\n",
    "print(len(result))\n",
    "result[:10]"
   ]
  },
  {
   "cell_type": "markdown",
   "id": "extra-little",
   "metadata": {},
   "source": [
    "## 11. Напишите запрос для получения списка предметов вместе с фамилиями студентов, сдававших экзамен по данному предмету последними. Результат упорядочить по дате."
   ]
  },
  {
   "cell_type": "code",
   "execution_count": 67,
   "id": "processed-queensland",
   "metadata": {},
   "outputs": [
    {
     "name": "stdout",
     "output_type": "stream",
     "text": [
      "SELECT subject.subj_name, student.surname, student.name, date(em1.exam_date) AS date_1 \n",
      "FROM subject JOIN exam_marks AS em1 ON subject.subj_id = em1.subj_id JOIN student ON student.student_id = em1.student_id \n",
      "WHERE em1.exam_date = (SELECT max(em2.exam_date) AS max_1 \n",
      "FROM exam_marks AS em2 \n",
      "WHERE em1.subj_id = em2.subj_id) ORDER BY em1.exam_date\n",
      "10\n"
     ]
    },
    {
     "data": {
      "text/plain": [
       "[('Математика', 'Иванов', 'Иван', '2020-10-24'),\n",
       " ('Информатика', 'Ордуханян', 'Рафаэль', '2020-12-03'),\n",
       " ('Анализ данных', 'Афанасьева', 'Анжелика', '2021-06-02'),\n",
       " ('ОБЖ', 'Калашников', 'Евгений', '2021-06-02'),\n",
       " ('Физика', 'Трофимов', 'Владислав', '2021-06-02'),\n",
       " ('Программирование на языках Python и SQL', 'Пак', 'Ирина', '2021-06-03'),\n",
       " ('Английский язык', 'Пак', 'Ирина', '2021-06-04'),\n",
       " ('Физкультура', 'Пак', 'Ирина', '2021-06-05'),\n",
       " ('Обработка данных и моделирование в Excel', 'Мельникова', 'Светлана', '2021-06-05'),\n",
       " ('История', 'Мельникова', 'Светлана', '2021-06-07')]"
      ]
     },
     "execution_count": 67,
     "metadata": {},
     "output_type": "execute_result"
    }
   ],
   "source": [
    "em1 = exam_marks.alias(\"em1\")\n",
    "em2 = exam_marks.alias(\"em2\")\n",
    "\n",
    "subq = select(func.max(em2.c.exam_date))\n",
    "subq = subq.where(em1.c.subj_id == em2.c.subj_id).scalar_subquery()\n",
    "\n",
    "s = select(subject.c.subj_name, student.c.surname, student.c.name, func.date(em1.c.exam_date))\n",
    "s = s.select_from(subject)\n",
    "s = s.join(em1, subject.c.subj_id == em1.c.subj_id)\n",
    "s = s.join(student, student.c.student_id == em1.c.student_id)\n",
    "s = s.where(em1.c.exam_date == subq)\n",
    "s = s.order_by(em1.c.exam_date)\n",
    "\n",
    "\n",
    "print(s)\n",
    "result = conn.execute(s).fetchall()\n",
    "print(len(result))\n",
    "result[:10]"
   ]
  },
  {
   "cell_type": "markdown",
   "id": "wanted-pittsburgh",
   "metadata": {},
   "source": [
    "## 12. Напишите запрос для получения списка предметов вместе с фамилиями студентов, первыми сдавших (оценка больше двух) экзамен по данному предмету."
   ]
  },
  {
   "cell_type": "code",
   "execution_count": null,
   "id": "public-riverside",
   "metadata": {},
   "outputs": [],
   "source": [
    "em1 = exam_marks.alias(\"em1\")\n",
    "em2 = exam_marks.alias(\"em2\")\n",
    "\n",
    "subq = select(func.min(em2.c.exam_date))\n",
    "subq = subq.where(and_(em1.c.subj_id == em2.c.subj_id, em2.c.mark > 2, em1.c.mark > 2)).scalar_subquery()\n",
    "\n",
    "s = select(subject.c.subj_name, student.c.surname, student.c.name, em1.c.mark, func.date(em1.c.exam_date))\n",
    "s = s.select_from(subject)\n",
    "s = s.join(em1, subject.c.subj_id == em1.c.subj_id)\n",
    "s = s.join(student, student.c.student_id == em1.c.student_id)\n",
    "s = s.where(em1.c.exam_date == subq)\n",
    "s = s.order_by(em1.c.exam_date)\n",
    "\n",
    "\n",
    "print(s)\n",
    "result = conn.execute(s).fetchall()\n",
    "print(len(result))\n",
    "result[:11]"
   ]
  },
  {
   "cell_type": "markdown",
   "id": "excellent-effect",
   "metadata": {},
   "source": [
    "## 13. Напишите запрос для получения списка преподавателей, преподающих более одного предмета. Отсортируйте результат по фамилии преподавателя.\n"
   ]
  },
  {
   "cell_type": "code",
   "execution_count": 80,
   "id": "thrown-drain",
   "metadata": {},
   "outputs": [
    {
     "name": "stdout",
     "output_type": "stream",
     "text": [
      "SELECT lecturer.surname, lecturer.name, count(subj_lect.subj_id) AS \"Subj_amount\" \n",
      "FROM lecturer JOIN subj_lect ON subj_lect.lecturer_id = lecturer.lecturer_id GROUP BY lecturer.lecturer_id \n",
      "HAVING Subj_amount > 1\n",
      "6\n"
     ]
    },
    {
     "data": {
      "text/plain": [
       "[('Зайцева', 'Юлия', 2),\n",
       " ('Максимова', 'Иванна', 2),\n",
       " ('Куликова', 'Ираида', 2),\n",
       " ('Волков', 'Михаил', 2),\n",
       " ('Беспалов', 'Юлиан', 2),\n",
       " ('Струков', 'Николай', 2)]"
      ]
     },
     "execution_count": 80,
     "metadata": {},
     "output_type": "execute_result"
    }
   ],
   "source": [
    "subq = select(func.count(em2.c.exam_date))\n",
    "subq = subq.where(em1.c.subj_id == em2.c.subj_id).scalar_subquery()\n",
    "\n",
    "s = select(lecturer.c.surname, lecturer.c.name, func.count(subj_lect.c.subj_id).label(\"Subj_amount\"))\n",
    "s = s.select_from(lecturer)\n",
    "s = s.join(subj_lect, subj_lect.c.lecturer_id == lecturer.c.lecturer_id)\n",
    "s = s.group_by(lecturer.c.lecturer_id)\n",
    "s = s.having(text(\"Subj_amount > 1\"))\n",
    "\n",
    "\n",
    "print(s)\n",
    "result = conn.execute(s).fetchall()\n",
    "print(len(result))\n",
    "result[:10]"
   ]
  },
  {
   "cell_type": "markdown",
   "id": "overall-manchester",
   "metadata": {},
   "source": [
    "## 14. Напишите запрос для получения списка (без повторов) студентов, сдававших экзамены по какому-либо из предметов более одного раза. Результат должен содержать идентификатор, фамилию, имя студента, название предмета. Результат необходимо упорядочить по идентификатору студента."
   ]
  },
  {
   "cell_type": "code",
   "execution_count": 92,
   "id": "center-atmosphere",
   "metadata": {},
   "outputs": [
    {
     "name": "stdout",
     "output_type": "stream",
     "text": [
      "SELECT student.surname, student.name, subject.subj_name, count(exam_marks.exam_id) AS \"Mark_count\" \n",
      "FROM student JOIN exam_marks ON exam_marks.student_id = student.student_id JOIN subject ON subject.subj_id = exam_marks.subj_id GROUP BY exam_marks.student_id, exam_marks.subj_id \n",
      "HAVING Mark_count > 1\n",
      "2\n"
     ]
    },
    {
     "data": {
      "text/plain": [
       "[('Зайцева', 'Ольга', 'Информатика', 2), ('Белкин', 'Вадим', 'Информатика', 2)]"
      ]
     },
     "execution_count": 92,
     "metadata": {},
     "output_type": "execute_result"
    }
   ],
   "source": [
    "subq = select(func.count(em2.c.exam_date))\n",
    "subq = subq.where(em1.c.subj_id == em2.c.subj_id).scalar_subquery()\n",
    "\n",
    "s = select(student.c.surname, student.c.name, subject.c.subj_name, func.count(exam_marks.c.exam_id).label(\"Mark_count\"))\n",
    "s = s.select_from(student)\n",
    "s = s.join(exam_marks, exam_marks.c.student_id == student.c.student_id)\n",
    "s = s.join(subject, subject.c.subj_id == exam_marks.c.subj_id)\n",
    "s = s.group_by(exam_marks.c.student_id, exam_marks.c.subj_id)\n",
    "s = s.having(text(\"Mark_count > 1\"))\n",
    "\n",
    "print(s)\n",
    "result = conn.execute(s).fetchall()\n",
    "print(len(result))\n",
    "result[:10]"
   ]
  },
  {
   "cell_type": "markdown",
   "id": "specific-sherman",
   "metadata": {},
   "source": [
    "## 15. Напишите запрос для получения списка названий университетов вместе с фамилиями студентов, получивших хотя бы одну неудовлетворительную оценку. Результат отсортируйте по названию университета."
   ]
  },
  {
   "cell_type": "code",
   "execution_count": 101,
   "id": "gothic-qualification",
   "metadata": {},
   "outputs": [
    {
     "name": "stdout",
     "output_type": "stream",
     "text": [
      "SELECT DISTINCT student.student_id, student.surname, student.name, university.univ_name, min(exam_marks.mark) AS min_1 \n",
      "FROM university JOIN student ON university.univ_id = student.univ_id JOIN exam_marks ON exam_marks.student_id = student.student_id \n",
      "WHERE exam_marks.mark < :mark_1 GROUP BY student.student_id\n",
      "11\n"
     ]
    },
    {
     "data": {
      "text/plain": [
       "[(1, 'Иванов', 'Иван', 'ВГУ', 1),\n",
       " (65, 'Сергеева', 'Фёкла', 'ВГУ', 1),\n",
       " (73, 'Одинцова', 'Лидия', 'ФинУ', 1),\n",
       " (77, 'Мишина', 'Светлана', 'ВГМА', 1),\n",
       " (79, 'Афанасьева', 'Анжелика', 'РГУ', 1),\n",
       " (83, 'Сорокина', 'Ирина', 'УЛГУ', 1),\n",
       " (85, 'Казакова', 'Мария', 'РГУ', 1),\n",
       " (97, 'Вишнякова', 'Анжела', 'ФГБОУ \"Политех\"', 1),\n",
       " (110, 'Суханов', 'Константин', 'БГУ', 1),\n",
       " (116, 'Федоров', 'Гостомысл', 'ВГУ', 1),\n",
       " (126, 'Жуков', 'Пров', 'НГУ', 1)]"
      ]
     },
     "execution_count": 101,
     "metadata": {},
     "output_type": "execute_result"
    }
   ],
   "source": [
    "s = select(distinct(student.c.student_id), student.c.surname, student.c.name, university.c.univ_name, func.min(exam_marks.c.mark))\n",
    "s = s.select_from(university)\n",
    "s = s.join(student, university.c.univ_id == student.c.univ_id)\n",
    "s = s.join(exam_marks, exam_marks.c.student_id == student.c.student_id)\n",
    "s = s.where(exam_marks.c.mark < 2)\n",
    "s = s.group_by(student.c.student_id)\n",
    "\n",
    "\n",
    "print(s)\n",
    "result = conn.execute(s).fetchall()\n",
    "print(len(result))\n",
    "result"
   ]
  },
  {
   "cell_type": "markdown",
   "id": "separate-limitation",
   "metadata": {},
   "source": [
    "## 16. Напишите запрос, выполняющий вывод данных о предметах обучения, которые преподает Колесников. Распечатайте фамилию преподавателя и все столбцы таблицы предметов. результат отсортируйте по названию предмета."
   ]
  },
  {
   "cell_type": "code",
   "execution_count": null,
   "id": "personalized-small",
   "metadata": {},
   "outputs": [],
   "source": []
  },
  {
   "cell_type": "markdown",
   "id": "opponent-vulnerability",
   "metadata": {},
   "source": [
    "## 17. Напишите запрос, выполняющий вывод идентификаторов, имен и фамилий преподавателей, проводящих занятия в двух и более семестрах. Отсортируйте результат по фамилии преподавателя."
   ]
  },
  {
   "cell_type": "code",
   "execution_count": null,
   "id": "graphic-coordination",
   "metadata": {},
   "outputs": [],
   "source": []
  },
  {
   "cell_type": "markdown",
   "id": "voluntary-clothing",
   "metadata": {},
   "source": [
    "## 18. Напишите запрос, выполняющий вывод количества часов занятий, проводимых преподавателем Лагутиным. Результат должен содержать одно число - количество часов."
   ]
  },
  {
   "cell_type": "code",
   "execution_count": null,
   "id": "artistic-network",
   "metadata": {},
   "outputs": [],
   "source": []
  },
  {
   "cell_type": "markdown",
   "id": "fuzzy-fetish",
   "metadata": {},
   "source": [
    "## 19. Напишите запрос, выполняющий вывод фамилий преподавателей, учебная нагрузка которых (количество учебных часов) превышает нагрузку преподавателя Лагутина. Список преподавателей отсортируйте по возрастанию."
   ]
  },
  {
   "cell_type": "code",
   "execution_count": null,
   "id": "settled-collapse",
   "metadata": {},
   "outputs": [],
   "source": []
  },
  {
   "cell_type": "markdown",
   "id": "knowing-postage",
   "metadata": {},
   "source": [
    "## 20. Напишите запрос, выполняющий вывод фамилий и имён преподавателей университетов с рейтингом, меньшим 350. Распечатайте фамилию, имя преподавателя, название университета. Отсортируйте по фамили преподавателя."
   ]
  },
  {
   "cell_type": "code",
   "execution_count": null,
   "id": "automated-aging",
   "metadata": {},
   "outputs": [],
   "source": []
  },
  {
   "cell_type": "markdown",
   "id": "acoustic-conditioning",
   "metadata": {},
   "source": [
    "## 21. Напишите запрос, выполняющий вывод общего количества учебных часов занятий, проводимых для студентов первого курса ВГУ."
   ]
  },
  {
   "cell_type": "code",
   "execution_count": null,
   "id": "musical-champion",
   "metadata": {},
   "outputs": [],
   "source": []
  },
  {
   "cell_type": "markdown",
   "id": "robust-powder",
   "metadata": {},
   "source": [
    "## 22. Напишите запрос, выполняющий вывод среднего количества учебных часов предметов обучения, преподаваемых студентам второго курса ВГУ."
   ]
  },
  {
   "cell_type": "code",
   "execution_count": null,
   "id": "alert-barrel",
   "metadata": {},
   "outputs": [],
   "source": []
  },
  {
   "cell_type": "markdown",
   "id": "universal-maintenance",
   "metadata": {},
   "source": [
    "## 23. Напишите запрос, выполняющий вывод списка фамилий студентов, имеющих две или более отличных оценок в каждом семестре.\n"
   ]
  },
  {
   "cell_type": "code",
   "execution_count": 112,
   "id": "charged-jenny",
   "metadata": {},
   "outputs": [
    {
     "name": "stdout",
     "output_type": "stream",
     "text": [
      "SELECT student.surname, student.name, s1.semester, count(exam_marks.mark) AS \"Best_amount\" \n",
      "FROM student JOIN exam_marks ON exam_marks.student_id = student.student_id JOIN subject AS s1 ON s1.subj_id = exam_marks.subj_id GROUP BY student.student_id, s1.semester \n",
      "HAVING Best_amount >= 2 AND s1.semester = (SELECT s2.semester \n",
      "FROM subject AS s2 \n",
      "WHERE s2.subj_id = exam_marks.subj_id)\n",
      "1\n"
     ]
    },
    {
     "data": {
      "text/plain": [
       "[('Зайцева', 'Ольга', 1, 2)]"
      ]
     },
     "execution_count": 112,
     "metadata": {},
     "output_type": "execute_result"
    }
   ],
   "source": [
    "s1 = subject.alias(\"s1\") \n",
    "s2 = subject.alias(\"s2\") \n",
    "\n",
    "subq = select(s2.c.semester)\n",
    "subq = subq.where(s2.c.subj_id == exam_marks.c.subj_id).scalar_subquery()\n",
    "\n",
    "\n",
    "s = select(student.c.surname, student.c.name, s1.c.semester, func.count(exam_marks.c.mark).label(\"Best_amount\"))\n",
    "s = s.select_from(student)\n",
    "s = s.join(exam_marks, exam_marks.c.student_id == student.c.student_id)\n",
    "s = s.join(s1, s1.c.subj_id == exam_marks.c.subj_id)\n",
    "s = s.group_by(student.c.student_id, s1.c.semester)\n",
    "s = s.having(and_(text(\"Best_amount >= 2\"), s1.c.semester == subq))\n",
    "\n",
    "\n",
    "print(s)\n",
    "result = conn.execute(s).fetchall()\n",
    "print(len(result))\n",
    "result[:11]"
   ]
  },
  {
   "cell_type": "markdown",
   "id": "regular-mention",
   "metadata": {},
   "source": [
    "надо доделать это задание "
   ]
  },
  {
   "cell_type": "markdown",
   "id": "green-treasurer",
   "metadata": {},
   "source": [
    "## 24. Приведите как можно больше формулировок запроса “Получить фамилии студентов, сдававших экзамен по информатике”."
   ]
  },
  {
   "cell_type": "code",
   "execution_count": null,
   "id": "interim-territory",
   "metadata": {},
   "outputs": [],
   "source": []
  },
  {
   "cell_type": "markdown",
   "id": "forward-hammer",
   "metadata": {},
   "source": [
    "## 25. Приведите как можно больше формулировок запроса “Получить фамилии преподавателей, преподающих информатику\"."
   ]
  },
  {
   "cell_type": "code",
   "execution_count": null,
   "id": "south-portugal",
   "metadata": {},
   "outputs": [],
   "source": []
  }
 ],
 "metadata": {
  "kernelspec": {
   "display_name": "Python 3",
   "language": "python",
   "name": "python3"
  },
  "language_info": {
   "codemirror_mode": {
    "name": "ipython",
    "version": 3
   },
   "file_extension": ".py",
   "mimetype": "text/x-python",
   "name": "python",
   "nbconvert_exporter": "python",
   "pygments_lexer": "ipython3",
   "version": "3.9.0"
  }
 },
 "nbformat": 4,
 "nbformat_minor": 5
}
