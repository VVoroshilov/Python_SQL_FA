{
 "cells": [
  {
   "cell_type": "markdown",
   "id": "chubby-packaging",
   "metadata": {},
   "source": [
    "# Домашнее задание\n",
    "## Выполнил студент второй подгруппы\n",
    "## Ворошилов Владислав\n",
    "## Группа: ПИ20-3\n"
   ]
  },
  {
   "cell_type": "markdown",
   "id": "united-motion",
   "metadata": {},
   "source": [
    "### Подключаем библиотеку "
   ]
  },
  {
   "cell_type": "code",
   "execution_count": 2,
   "id": "stainless-airfare",
   "metadata": {},
   "outputs": [],
   "source": [
    "from sqlalchemy import MetaData, Table, create_engine, select, and_, or_, not_\n",
    "from sqlalchemy.sql import func"
   ]
  },
  {
   "cell_type": "code",
   "execution_count": 3,
   "id": "sharing-belarus",
   "metadata": {},
   "outputs": [],
   "source": [
    "# Путь до базы данных на вашем пк\n",
    "path_to_db = \"sqlite:////Users/vladislavvorosilov/Desktop/Python_SQL/Python_SQL_PI_2021_22_s2/Data/Chinook_Sqlite.sqlite\"\n",
    "engine = create_engine(path_to_db)\n",
    "metadata_obj = MetaData() \n",
    "metadata_obj.reflect(bind=engine)\n",
    "conn=engine.connect()"
   ]
  },
  {
   "cell_type": "markdown",
   "id": "regulation-corporation",
   "metadata": {},
   "source": [
    "### Загрузим таблицы в переменные"
   ]
  },
  {
   "cell_type": "code",
   "execution_count": 5,
   "id": "ordered-toronto",
   "metadata": {},
   "outputs": [],
   "source": [
    "album=Table(\"Album\", metadata_obj, autoload=True, autoload_with=\"engine\")\n",
    "artist=Table(\"Artist\", metadata_obj, autoload=True, autoload_with=\"engine\")\n",
    "customer=Table(\"Customer\", metadata_obj, autoload=True, autoload_with=\"engine\")\n",
    "employee=Table(\"Employee\", metadata_obj, autoload=True, autoload_with=\"engine\")\n",
    "genre=Table(\"Genre\", metadata_obj, autoload=True, autoload_with=\"engine\")\n",
    "invoice=Table(\"Invoice\", metadata_obj, autolad=True, autolad_with=\"engine\")\n",
    "inoviceLine=Table(\"InvoiceLine\", metadata_obj, autolad=True, autolad_with=\"engine\")\n",
    "track=Table(\"Track\", metadata_obj, autolad=True, autolad_with=\"engine\")\n",
    "mediatype=Table(\"MediaType\", metadata_obj, autolad=True, autolad_with=\"engine\")\n",
    "playlist=Table(\"Playlist\", metadata_obj, autolad=True, autolad_with=\"engine\")\n",
    "playlistTrack=Table(\"PlaylistTrack\", metadata_obj, autolad=True, autolad_with=\"engine\")"
   ]
  },
  {
   "cell_type": "markdown",
   "id": "sonic-comedy",
   "metadata": {},
   "source": [
    "## 1. Выполнить отображение БД Chinook"
   ]
  },
  {
   "cell_type": "code",
   "execution_count": 25,
   "id": "executive-history",
   "metadata": {},
   "outputs": [
    {
     "name": "stdout",
     "output_type": "stream",
     "text": [
      "Artist\n",
      "Artist.ArtistId\n",
      "Artist.Name\n",
      "\n",
      "Employee\n",
      "Employee.EmployeeId\n",
      "Employee.LastName\n",
      "Employee.FirstName\n",
      "Employee.Title\n",
      "Employee.ReportsTo\n",
      "Employee.BirthDate\n",
      "Employee.HireDate\n",
      "Employee.Address\n",
      "Employee.City\n",
      "Employee.State\n",
      "Employee.Country\n",
      "Employee.PostalCode\n",
      "Employee.Phone\n",
      "Employee.Fax\n",
      "Employee.Email\n",
      "\n",
      "Genre\n",
      "Genre.GenreId\n",
      "Genre.Name\n",
      "\n",
      "MediaType\n",
      "MediaType.MediaTypeId\n",
      "MediaType.Name\n",
      "\n",
      "Playlist\n",
      "Playlist.PlaylistId\n",
      "Playlist.Name\n",
      "\n",
      "Album\n",
      "Album.AlbumId\n",
      "Album.Title\n",
      "Album.ArtistId\n",
      "\n",
      "Customer\n",
      "Customer.CustomerId\n",
      "Customer.FirstName\n",
      "Customer.LastName\n",
      "Customer.Company\n",
      "Customer.Address\n",
      "Customer.City\n",
      "Customer.State\n",
      "Customer.Country\n",
      "Customer.PostalCode\n",
      "Customer.Phone\n",
      "Customer.Fax\n",
      "Customer.Email\n",
      "Customer.SupportRepId\n",
      "\n",
      "Invoice\n",
      "Invoice.InvoiceId\n",
      "Invoice.CustomerId\n",
      "Invoice.InvoiceDate\n",
      "Invoice.BillingAddress\n",
      "Invoice.BillingCity\n",
      "Invoice.BillingState\n",
      "Invoice.BillingCountry\n",
      "Invoice.BillingPostalCode\n",
      "Invoice.Total\n",
      "\n",
      "Track\n",
      "Track.TrackId\n",
      "Track.Name\n",
      "Track.AlbumId\n",
      "Track.MediaTypeId\n",
      "Track.GenreId\n",
      "Track.Composer\n",
      "Track.Milliseconds\n",
      "Track.Bytes\n",
      "Track.UnitPrice\n",
      "\n",
      "InvoiceLine\n",
      "InvoiceLine.InvoiceLineId\n",
      "InvoiceLine.InvoiceId\n",
      "InvoiceLine.TrackId\n",
      "InvoiceLine.UnitPrice\n",
      "InvoiceLine.Quantity\n",
      "\n",
      "PlaylistTrack\n",
      "PlaylistTrack.PlaylistId\n",
      "PlaylistTrack.TrackId\n",
      "\n"
     ]
    }
   ],
   "source": [
    "for t in metadata_obj.sorted_tables:\n",
    "    print(t.name)\n",
    "    for c in t.columns:\n",
    "        print(c)\n",
    "    print()"
   ]
  },
  {
   "cell_type": "markdown",
   "id": "spoken-chosen",
   "metadata": {},
   "source": [
    "## 2. Выполнить запросы с помощью подзапросов."
   ]
  },
  {
   "cell_type": "markdown",
   "id": "meaningful-sector",
   "metadata": {},
   "source": [
    "## 2.1. Составьте запрос, выполняющий вывод информации о счетах клиентов из Бразилии. Результат должен содержать фамилию и имя клиента, идентификатор счета, дату выставления счета, название страны плательщика (Billing Country)."
   ]
  },
  {
   "cell_type": "code",
   "execution_count": 106,
   "id": "decent-bathroom",
   "metadata": {
    "scrolled": true
   },
   "outputs": [
    {
     "name": "stdout",
     "output_type": "stream",
     "text": [
      "[('Luís', 'Gonçalves', 98, '2010-03-11', 'Brazil'), ('Leonie', 'Köhler', 98, '2010-03-11', 'Brazil'), ('François', 'Tremblay', 98, '2010-03-11', 'Brazil'), ('Bjørn', 'Hansen', 98, '2010-03-11', 'Brazil'), ('František', 'Wichterlová', 98, '2010-03-11', 'Brazil')]\n",
      "Amount = 413\n"
     ]
    }
   ],
   "source": [
    "subquery = select(customer.c.CustomerId)\n",
    "subquery = subquery.where(customer.c.Country == \"Brazil\").scalar_subquery()\n",
    "\n",
    "s = select(customer.c.FirstName, customer.c.LastName, invoice.c.InvoiceId, func.date(invoice.c.InvoiceDate), invoice.c.BillingCountry)\n",
    "s = s.where(invoice.c.CustomerId == subquery)\n",
    "\n",
    "# print(s)\n",
    "result = conn.execute(s).fetchall()\n",
    "print(result[:5])\n",
    "print(f\"Amount = {len(result)}\")"
   ]
  },
  {
   "cell_type": "markdown",
   "id": "atlantic-daughter",
   "metadata": {},
   "source": [
    "## 2.2. Покажите сотрудников, подчиняющихся сотруднику *Nancy Edwards*."
   ]
  },
  {
   "cell_type": "code",
   "execution_count": 105,
   "id": "metropolitan-asthma",
   "metadata": {},
   "outputs": [
    {
     "name": "stdout",
     "output_type": "stream",
     "text": [
      "[(2,)]\n",
      "[(3, 'Jane', 'Peacock', 2), (4, 'Margaret', 'Park', 2), (5, 'Steve', 'Johnson', 2)]\n",
      "Amount = 3\n"
     ]
    }
   ],
   "source": [
    "subquery = select(employee.c.EmployeeId)\n",
    "subquery = subquery.where(employee.c.FirstName == \"Nancy\" and employee.c.LastName == \"Edwards\")\n",
    "subquery_check = subquery\n",
    "subquery = subquery.scalar_subquery()\n",
    "\n",
    "s = select(employee.c.EmployeeId, employee.c.FirstName, employee.c.LastName, employee.c.ReportsTo)\n",
    "s = s.where(employee.c.ReportsTo.in_(subquery))\n",
    "\n",
    "# Выведем Id сотрудника Nancy Edwards \n",
    "print(conn.execute(subquery_check).fetchall())\n",
    "\n",
    "result = conn.execute(s).fetchall()\n",
    "print(result[:5])\n",
    "print(f\"Amount = {len(result)}\")"
   ]
  },
  {
   "cell_type": "markdown",
   "id": "prospective-cisco",
   "metadata": {},
   "source": [
    "## 2.3. Покажите трэки в жанре *Classical*, длящиеся более 8 минут."
   ]
  },
  {
   "cell_type": "code",
   "execution_count": 6,
   "id": "southwest-sunglasses",
   "metadata": {},
   "outputs": [
    {
     "name": "stdout",
     "output_type": "stream",
     "text": [
      "[(24,)]\n",
      "8 minutes = 480000 milliseconds\n",
      "[(3359, 'Symphony No. 3 in E-flat major, Op. 55, \"Eroica\" - Scherzo: Allegro Vivace', 'Ludwig van Beethoven', 24, 356426), (3403, 'Intoitus: Adorate Deum', 'Anonymous', 24, 245317), (3404, 'Miserere mei, Deus', 'Gregorio Allegri', 24, 501503), (3405, 'Canon and Gigue in D Major: I. Canon', 'Johann Pachelbel', 24, 271788), (3406, 'Concerto No. 1 in E Major, RV 269 \"Spring\": I. Allegro', 'Antonio Vivaldi', 24, 199086)]\n",
      "Amount = 74\n"
     ]
    }
   ],
   "source": [
    "subquery = select(genre.c.GenreId)\n",
    "subquery = subquery.where(genre.c.Name == \"Classical\")\n",
    "subquery_check = subquery\n",
    "subquery = subquery.scalar_subquery()\n",
    "\n",
    "s = select(track.c.TrackId, track.c.Name, track.c.Composer, track.c.GenreId, track.c.Milliseconds)\n",
    "s = s.where(track.c.GenreId == subquery and track.c.Milliseconds > 8*60*10**3)\n",
    "\n",
    "# Выведем Id жанра Classical и 8 минут в миллисекндах\n",
    "print(conn.execute(subquery_check).fetchall())\n",
    "print(f\"8 minutes = {8*60*10**3} milliseconds\")\n",
    "# print(s)\n",
    "result = conn.execute(s).fetchall()\n",
    "print(result[:5])\n",
    "print(f\"Amount = {len(result)}\")"
   ]
  },
  {
   "cell_type": "markdown",
   "id": "married-winter",
   "metadata": {},
   "source": [
    "## 2.4. Покажите альбомы, в составе которых более 25 трэков."
   ]
  },
  {
   "cell_type": "code",
   "execution_count": 103,
   "id": "animated-entrance",
   "metadata": {},
   "outputs": [
    {
     "name": "stdout",
     "output_type": "stream",
     "text": [
      "[(23,), (73,), (141,), (229,)]\n",
      "[(23, 'Minha Historia'), (73, 'Unplugged'), (141, 'Greatest Hits'), (229, 'Lost, Season 3')]\n",
      "Amount = 4\n"
     ]
    }
   ],
   "source": [
    "subquery = select(track.c.AlbumId)\n",
    "subquery = subquery.group_by(track.c.AlbumId)\n",
    "subquery = subquery.having(func.count(track.c.AlbumId) > 25)\n",
    "subquery_check = subquery\n",
    "subquery = subquery.scalar_subquery()\n",
    "\n",
    "# Выведем Id альбомов, где более 25 треков.\n",
    "print(conn.execute(subquery_check).fetchall())\n",
    "\n",
    "\n",
    "s = select(album.c.AlbumId, album.c.Title)\n",
    "s = s.where(album.c.AlbumId.in_(subquery))\n",
    "\n",
    "# print(s)\n",
    "result = conn.execute(s).fetchall()\n",
    "print(result[:5])\n",
    "print(f\"Amount = {len(result)}\")"
   ]
  },
  {
   "cell_type": "markdown",
   "id": "hindu-nylon",
   "metadata": {},
   "source": [
    "### По непонятной для меня причине, если поменять последнюю строку запроса с  \n",
    "### s = s.where(album.c.AlbumId.in_(subquery))\n",
    "### на s = s.where(album.c.AlbumId == subquery)\n",
    "### То будет отображаться только (23, 'Minha Historia'), а не 4 альбома, как сейчас.\n",
    "### Если знаете, почему так происходит и почему не происходило в запросах выше и на паре, объясните по электронной почте"
   ]
  },
  {
   "cell_type": "markdown",
   "id": "raising-portsmouth",
   "metadata": {},
   "source": [
    "## 2.5. Покажите жанры, в составе которых имеются трэки, длящиеся более 18 минут."
   ]
  },
  {
   "cell_type": "code",
   "execution_count": 102,
   "id": "latter-variable",
   "metadata": {},
   "outputs": [
    {
     "name": "stdout",
     "output_type": "stream",
     "text": [
      "[(1,), (18,), (19,), (20,), (21,), (22,)]\n",
      "18 minutes = 1080000 milliseconds\n",
      "[(1, 'Rock'), (18, 'Science Fiction'), (19, 'TV Shows'), (20, 'Sci Fi & Fantasy'), (21, 'Drama')]\n",
      "Amount = 6\n"
     ]
    }
   ],
   "source": [
    "subquery = select(func.distinct(track.c.GenreId))\n",
    "subquery = subquery.where(track.c.Milliseconds > 18*60*10**3)\n",
    "subquery_check = subquery\n",
    "subquery = subquery.scalar_subquery()\n",
    "\n",
    "s = select(genre.c.GenreId, genre.c.Name)\n",
    "s = s.where(genre.c.GenreId.in_(subquery))\n",
    "\n",
    "# Выведем Id жанров и 18 минут в миллисекндах\n",
    "print(conn.execute(subquery_check).fetchall())\n",
    "print(f\"18 minutes = {18*60*10**3} milliseconds\")\n",
    "# print(s)\n",
    "result = conn.execute(s).fetchall()\n",
    "print(result[:5])\n",
    "print(f\"Amount = {len(result)}\")"
   ]
  },
  {
   "cell_type": "markdown",
   "id": "norwegian-juice",
   "metadata": {},
   "source": [
    "### Та же ситуация, как и с прошлым заданием"
   ]
  },
  {
   "cell_type": "markdown",
   "id": "practical-draft",
   "metadata": {},
   "source": [
    "## 2.6. Покажите артистов в жанре *Classical*."
   ]
  },
  {
   "cell_type": "code",
   "execution_count": 107,
   "id": "organized-mountain",
   "metadata": {},
   "outputs": [
    {
     "name": "stdout",
     "output_type": "stream",
     "text": [
      "Classical ID\n",
      "[(24,)]\n",
      "Classical alboms\n",
      "[(268,), (272,), (273,), (274,), (275,), (276,), (277,), (278,), (279,), (280,), (281,), (282,), (283,), (284,), (285,), (286,), (287,), (288,), (289,), (290,), (291,), (292,), (293,), (294,), (295,), (296,), (297,), (298,), (299,), (300,), (301,), (302,), (303,), (304,), (305,), (306,), (307,), (308,), (309,), (310,), (311,), (312,), (313,), (314,), (315,), (316,), (318,), (319,), (320,), (324,), (325,), (326,), (327,), (328,), (329,), (330,), (331,), (332,), (333,), (334,), (335,), (336,), (337,), (338,), (339,), (340,), (341,), (342,), (343,), (344,), (345,), (346,)]\n",
      "Artists\n",
      "[(268,), (272,), (273,), (274,), (275,)]\n",
      "[(268, 'Itzhak Perlman'), (272, 'Emerson String Quartet'), (273, 'C. Monteverdi, Nigel Rogers - Chiaroscuro; London Baroque; London Cornett & Sackbu'), (274, 'Nash Ensemble'), (275, 'Philip Glass Ensemble')]\n",
      "Amount = 5\n"
     ]
    }
   ],
   "source": [
    "subquery_1 = select(genre.c.GenreId)\n",
    "subquery_1 = subquery_1.where(genre.c.Name == \"Classical\")\n",
    "subquery_check = subquery_1\n",
    "subquery_1 = subquery_1.scalar_subquery()\n",
    "\n",
    "# Выведем Id жанра Classical\n",
    "print(f\"Classical ID\")\n",
    "print(conn.execute(subquery_check).fetchall())\n",
    "\n",
    "subquery_2 = select(func.distinct(track.c.AlbumId))\n",
    "subquery_2 = subquery_2.where(track.c.GenreId.in_(subquery_1))\n",
    "subquery_check = subquery_2\n",
    "subquery_2 = subquery_2.scalar_subquery()\n",
    "# Выведем Id альбомов в жанре Classical\n",
    "print(f\"Classical alboms\")\n",
    "print(conn.execute(subquery_check).fetchall())\n",
    "\n",
    "subquery_3 = select(func.distinct(album.c.ArtistId))\n",
    "subquery_3 = subquery_3.where(album.c.ArtistId.in_(subquery_2))\n",
    "subquery_check = subquery_3\n",
    "subquery_3 = subquery_3.scalar_subquery()\n",
    "# Выведем Id артистов, которые имеют альбом(-ы) в жанре Classical\n",
    "print(f\"Artists\")\n",
    "print(conn.execute(subquery_check).fetchall())\n",
    "\n",
    "s = select(artist.c.ArtistId, artist.c.Name)\n",
    "s = s.where(artist.c.ArtistId.in_(subquery_3))\n",
    "\n",
    "# print(s)\n",
    "result = conn.execute(s).fetchall()\n",
    "print(result[:5])\n",
    "print(f\"Amount = {len(result)}\")"
   ]
  },
  {
   "cell_type": "markdown",
   "id": "surprising-calculator",
   "metadata": {},
   "source": [
    "## 2.7. Найдите артистов, записавших альбомы, в которых более 20 произведений."
   ]
  },
  {
   "cell_type": "code",
   "execution_count": 110,
   "id": "sufficient-sociology",
   "metadata": {},
   "outputs": [
    {
     "name": "stdout",
     "output_type": "stream",
     "text": [
      "More than 20 tracks\n",
      "[(23,), (24,), (39,), (51,), (73,), (83,), (141,), (167,), (224,), (228,), (229,), (230,), (231,), (250,), (251,), (253,), (255,)]\n",
      "Artists Id's\n",
      "[(17,), (18,), (54,), (69,), (81,), (85,), (100,), (113,), (146,), (148,), (149,), (156,), (158,), (150,)]\n",
      "Artists\n",
      "[(17, 'Chico Buarque'), (18, 'Chico Science & Nação Zumbi'), (54, 'Green Day'), (69, 'Gene Krupa'), (81, 'Eric Clapton')]\n",
      "Amount = 14\n"
     ]
    }
   ],
   "source": [
    "subquery_1 = select(track.c.AlbumId)\n",
    "subquery_1 = subquery_1.group_by(track.c.AlbumId)\n",
    "subquery_1 = subquery_1.having(func.count(track.c.AlbumId) > 20)\n",
    "subquery_check = subquery_1\n",
    "subquery_1 = subquery_1.scalar_subquery()\n",
    "\n",
    "# Выведем Id альбомов, содержащих более 20 произведений\n",
    "print(f\"More than 20 tracks\")\n",
    "print(conn.execute(subquery_check).fetchall())\n",
    "\n",
    "subquery_2 = select(func.distinct(album.c.ArtistId))\n",
    "subquery_2 = subquery_2.where(album.c.AlbumId.in_(subquery_1))\n",
    "subquery_check = subquery_2\n",
    "subquery_2 = subquery_2.scalar_subquery()\n",
    "# Выведем Id артистов - авторов тех самых альбомов\n",
    "print(f\"Artists Id's\")\n",
    "print(conn.execute(subquery_check).fetchall())\n",
    "\n",
    "print(f\"Artists\")\n",
    "\n",
    "s = select(artist.c.ArtistId, artist.c.Name)\n",
    "s = s.where(artist.c.ArtistId.in_(subquery_2))\n",
    "\n",
    "# print(s)\n",
    "result = conn.execute(s).fetchall()\n",
    "print(result[:5])\n",
    "print(f\"Amount = {len(result)}\")"
   ]
  }
 ],
 "metadata": {
  "kernelspec": {
   "display_name": "Python 3",
   "language": "python",
   "name": "python3"
  },
  "language_info": {
   "codemirror_mode": {
    "name": "ipython",
    "version": 3
   },
   "file_extension": ".py",
   "mimetype": "text/x-python",
   "name": "python",
   "nbconvert_exporter": "python",
   "pygments_lexer": "ipython3",
   "version": "3.9.0"
  }
 },
 "nbformat": 4,
 "nbformat_minor": 5
}
