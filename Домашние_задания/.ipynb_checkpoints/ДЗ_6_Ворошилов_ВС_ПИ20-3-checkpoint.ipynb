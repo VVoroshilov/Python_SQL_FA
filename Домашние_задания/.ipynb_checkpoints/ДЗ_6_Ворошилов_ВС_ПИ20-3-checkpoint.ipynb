{
 "cells": [
  {
   "cell_type": "markdown",
   "id": "athletic-impact",
   "metadata": {},
   "source": [
    "# Домашняя работа\n",
    "## Ворошилов Владислав\n",
    "## Группа ПИ20-3\n",
    "## Подгруппа 2"
   ]
  },
  {
   "cell_type": "markdown",
   "id": "fb742d9f",
   "metadata": {},
   "source": [
    "1. Составьте список названий университетов с указанием суммарного количества аудиторных часов на изучение каждого предмета.\n",
    "\n",
    "2. Получите список названий университетов вместе с фамилиями и именами студентов, получающих максимальную для каждого университета стипендию.\n",
    "\n",
    "3. Напишите запрос для получения списка преподавателей, преподающих только один предмет. Отсортируйте результат по фамилии преподавателя. Результат должен содержать имя и фамилию преподавателя, название предмета.\n",
    "\n",
    "4. Напишите запрос для получения списка университетов вместе с фамилиями студентов, получивших хотя бы одну отличную оценку. Результат отсортируйте по названию университета.\n",
    "\n",
    "5. Напишите запрос, выполняющий вывод имен и фамилий преподавателей, проводящих занятия на первом курсе. Отсортируйте результат по фаимилии преподавателя.\n",
    "\n",
    "6. Напишите запрос, выполняющий вывод наименований предметов обучения, читаемых двумя или более преподавателями. Результат должен состоять из одного столбца названий предметов, без повторов, в алфавитном порядке по возрастанию."
   ]
  },
  {
   "cell_type": "code",
   "execution_count": 1,
   "id": "invalid-steps",
   "metadata": {},
   "outputs": [],
   "source": [
    "from sqlalchemy import MetaData, Table, create_engine, select, and_, or_, not_, text\n",
    "from sqlalchemy.sql import func, distinct, exists\n",
    "path_to_db = \"../Data/Students.db\"\n",
    "engine = create_engine(path_to_db)\n",
    "metadata_obj = MetaData() \n",
    "metadata_obj.reflect(bind=engine)\n",
    "exam_marks=Table(\"exam_marks\", metadata_obj, autoload=True, autoload_with=\"engine\")\n",
    "lecturer=Table(\"lecturer\", metadata_obj, autoload=True, autoload_with=\"engine\")\n",
    "student=Table(\"student\", metadata_obj, autoload=True, autoload_with=\"engine\")\n",
    "subj_lect=Table(\"subj_lect\", metadata_obj, autoload=True, autoload_with=\"engine\")\n",
    "subject=Table(\"subject\", metadata_obj, autoload=True, autoload_with=\"engine\")\n",
    "university=Table(\"university\", metadata_obj, autolad=True, autolad_with=\"engine\")\n",
    "conn=engine.connect()"
   ]
  },
  {
   "cell_type": "markdown",
   "id": "welcome-illinois",
   "metadata": {},
   "source": [
    "### 1. Составьте список названий университетов с указанием суммарного количества аудиторных часов на изучение каждого предмета."
   ]
  },
  {
   "cell_type": "code",
   "execution_count": 5,
   "id": "joined-amateur",
   "metadata": {},
   "outputs": [
    {
     "name": "stdout",
     "output_type": "stream",
     "text": [
      "22\n"
     ]
    },
    {
     "data": {
      "text/plain": [
       "[('ВГУ', 'Программирование на языках Python и SQL', 34),\n",
       " ('ВГУ', 'Анализ данных', 42),\n",
       " ('ВГУ', 'ОБЖ', 34),\n",
       " ('ВГУ', 'Физика', 34),\n",
       " ('ВГУ', 'Теория вероятностей и математическая статистика', 72),\n",
       " ('ВГУ', 'История', 68),\n",
       " ('НГУ', 'Программирование на языках Python и SQL', 34),\n",
       " ('ТГУ', 'Информатика', 112),\n",
       " ('ТГУ', 'Физкультура', 34),\n",
       " ('МГУ', 'Информатика', 56)]"
      ]
     },
     "execution_count": 5,
     "metadata": {},
     "output_type": "execute_result"
    }
   ],
   "source": [
    "\n",
    "stmt = select(university.c.univ_name, subject.c.subj_name, func.sum(subject.c.hour))\n",
    "stmt = stmt.select_from(university)\n",
    "stmt = stmt.join(lecturer, lecturer.c.univ_id == university.c.univ_id)\n",
    "stmt = stmt.join(subj_lect, subj_lect.c.lecturer_id == lecturer.c.lecturer_id)\n",
    "stmt = stmt.join(subject, subject.c.subj_id == subj_lect.c.subj_id)\n",
    "stmt = stmt.group_by(university.c.univ_id, subject.c.subj_id)\n",
    "\n",
    "result = conn.execute(stmt).fetchall()\n",
    "print(len(result))\n",
    "result[:10]"
   ]
  },
  {
   "cell_type": "markdown",
   "id": "domestic-standing",
   "metadata": {},
   "source": [
    "### 2. Получите список названий университетов вместе с фамилиями и именами студентов, получающих максимальную для каждого университета стипендию."
   ]
  },
  {
   "cell_type": "code",
   "execution_count": 10,
   "id": "hired-equipment",
   "metadata": {},
   "outputs": [
    {
     "name": "stdout",
     "output_type": "stream",
     "text": [
      "24\n"
     ]
    },
    {
     "data": {
      "text/plain": [
       "[('ВГУ', 'Зайцева', 'Ольга', 250),\n",
       " ('ВГУ', 'Белкин', 'Вадим', 250),\n",
       " ('ВГУ', 'Некрасова', 'Вероника', 250),\n",
       " ('НГУ', 'Трофимов', 'Владислав', 250),\n",
       " ('БГУ', 'Суханов', 'Константин', 250),\n",
       " ('БГУ', 'Вячеслав', 'Пахомов', 250),\n",
       " ('БГУ', 'Петрова', 'Екатерина', 250),\n",
       " ('ТГУ', 'Мельникова', 'Светлана', 250),\n",
       " ('ВГМА', 'Кондрат', 'Синицин', 200),\n",
       " ('ВГМА', 'Валерия', 'Овчинникова', 200)]"
      ]
     },
     "execution_count": 10,
     "metadata": {},
     "output_type": "execute_result"
    }
   ],
   "source": [
    "s1 = student.alias(\"s1\")\n",
    "s2 = student.alias(\"s2\")\n",
    "\n",
    "subq = select(func.max(s2.c.stipend))\n",
    "subq = subq.where(s2.c.univ_id == university.c.univ_id).scalar_subquery()\n",
    "\n",
    "stmt = select(university.c.univ_name, s1.c.surname, s1.c.name, s1.c.stipend)\n",
    "stmt = stmt.select_from(university)\n",
    "stmt = stmt.join(s1, s1.c.univ_id == university.c.univ_id)\n",
    "stmt = stmt.where(s1.c.stipend == subq)\n",
    "stmt = stmt.order_by(university.c.univ_id)\n",
    "\n",
    "\n",
    "result = conn.execute(stmt).fetchall()\n",
    "print(len(result))\n",
    "result[:10]"
   ]
  },
  {
   "cell_type": "markdown",
   "id": "brutal-murray",
   "metadata": {},
   "source": [
    "### 3. Напишите запрос для получения списка преподавателей, преподающих только один предмет. Отсортируйте результат по фамилии преподавателя. Результат должен содержать имя и фамилию преподавателя, название предмета."
   ]
  },
  {
   "cell_type": "code",
   "execution_count": 13,
   "id": "administrative-identity",
   "metadata": {},
   "outputs": [
    {
     "name": "stdout",
     "output_type": "stream",
     "text": [
      "12\n"
     ]
    },
    {
     "data": {
      "text/plain": [
       "[('Алексеев', 'Елисей', 'ОБЖ'),\n",
       " ('Беляков', 'Мефодий', 'Информатика'),\n",
       " ('Брагина', 'Нинель', 'ОБЖ'),\n",
       " ('Дорофеев', 'Прокофий', 'Программирование на языках Python и SQL'),\n",
       " ('Зимин', 'Юлиан', 'Программирование на языках Python и SQL'),\n",
       " ('Колесников', 'Борис', 'Физика'),\n",
       " ('Кудрявцева', 'Анна', 'Информатика'),\n",
       " ('Лагутин', 'Павел', 'Английский язык'),\n",
       " ('Мамонтова', 'Акулина', 'Программирование на языках Python и SQL'),\n",
       " ('Никонов', 'Иван', 'История')]"
      ]
     },
     "execution_count": 13,
     "metadata": {},
     "output_type": "execute_result"
    }
   ],
   "source": [
    "sl_1 = subj_lect.alias(\"sl_1\")\n",
    "sl_2 = subj_lect.alias(\"sl_2\")\n",
    "\n",
    "subq = select(func.count(sl_2.c.subj_id))\n",
    "subq = subq.where(sl_2.c.lecturer_id == lecturer.c.lecturer_id).scalar_subquery()\n",
    "\n",
    "stmt = select(lecturer.c.surname, lecturer.c.name, subject.c.subj_name)\n",
    "stmt = stmt.select_from(lecturer)\n",
    "stmt = stmt.join(sl_1, sl_1.c.lecturer_id == lecturer.c.lecturer_id)\n",
    "stmt = stmt.join(subject, subject.c.subj_id == sl_1.c.subj_id)\n",
    "stmt = stmt.where(subq == 1)\n",
    "stmt = stmt.order_by(lecturer.c.surname)\n",
    "\n",
    "result = conn.execute(stmt).fetchall()\n",
    "print(len(result))\n",
    "result[:10]"
   ]
  },
  {
   "cell_type": "markdown",
   "id": "convertible-coaching",
   "metadata": {},
   "source": [
    "### 4. Напишите запрос для получения списка университетов вместе с фамилиями студентов, получивших хотя бы одну отличную оценку. Результат отсортируйте по названию университета."
   ]
  },
  {
   "cell_type": "markdown",
   "id": "municipal-mainland",
   "metadata": {},
   "source": [
    "#### Я сделал два разных решения, что попрактиковаться в использовании оператора exists()"
   ]
  },
  {
   "cell_type": "code",
   "execution_count": 16,
   "id": "palestinian-mercy",
   "metadata": {},
   "outputs": [
    {
     "name": "stdout",
     "output_type": "stream",
     "text": [
      "10\n"
     ]
    },
    {
     "data": {
      "text/plain": [
       "[('ВГУ', 'Кузнецов', 'Борис'),\n",
       " ('ВГУ', 'Зайцева', 'Ольга'),\n",
       " ('ВГУ', 'Белкин', 'Вадим'),\n",
       " ('ВГУ', 'Жданова', 'Ирина'),\n",
       " ('ВГУ', 'Борисова', 'Марина'),\n",
       " ('МГТУ им. Баумана', 'Лапина', 'Элеонора'),\n",
       " ('МГУ', 'Блохина', 'Ираида'),\n",
       " ('ТГУ', 'Пак', 'Ирина'),\n",
       " ('ТГУ', 'Мельникова', 'Светлана'),\n",
       " ('ФГБОУ \"Политех\"', 'Васильев', 'Матвей')]"
      ]
     },
     "execution_count": 16,
     "metadata": {},
     "output_type": "execute_result"
    }
   ],
   "source": [
    "subq = exists().where(and_(exam_marks.c.student_id == student.c.student_id, exam_marks.c.mark == 5))\n",
    "\n",
    "stmt = select(university.c.univ_name, student.c.surname, student.c.name)\n",
    "stmt = stmt.select_from(university)\n",
    "stmt = stmt.join(student, student.c.univ_id == university.c.univ_id)\n",
    "stmt = stmt.where(subq)\n",
    "stmt = stmt.order_by(university.c.univ_name)\n",
    "\n",
    "\n",
    "result = conn.execute(stmt).fetchall()\n",
    "print(len(result))\n",
    "result[:10]"
   ]
  },
  {
   "cell_type": "code",
   "execution_count": 20,
   "id": "mature-match",
   "metadata": {},
   "outputs": [
    {
     "name": "stdout",
     "output_type": "stream",
     "text": [
      "10\n"
     ]
    },
    {
     "data": {
      "text/plain": [
       "[('ВГУ', 'Жданова', 'Ирина'),\n",
       " ('ВГУ', 'Борисова', 'Марина'),\n",
       " ('ВГУ', 'Кузнецов', 'Борис'),\n",
       " ('ВГУ', 'Белкин', 'Вадим'),\n",
       " ('ВГУ', 'Зайцева', 'Ольга'),\n",
       " ('МГТУ им. Баумана', 'Лапина', 'Элеонора'),\n",
       " ('МГУ', 'Блохина', 'Ираида'),\n",
       " ('ТГУ', 'Мельникова', 'Светлана'),\n",
       " ('ТГУ', 'Пак', 'Ирина'),\n",
       " ('ФГБОУ \"Политех\"', 'Васильев', 'Матвей')]"
      ]
     },
     "execution_count": 20,
     "metadata": {},
     "output_type": "execute_result"
    }
   ],
   "source": [
    "em_1 = exam_marks.alias(\"em_1\")\n",
    "em_2 = exam_marks.alias(\"em_2\")\n",
    "\n",
    "subq = select(func.max(em_2.c.mark))\n",
    "subq = subq.where(em_2.c.student_id == student.c.student_id).scalar_subquery()\n",
    "\n",
    "stmt = select(university.c.univ_name, student.c.surname, student.c.name).distinct()\n",
    "stmt = stmt.select_from(university)\n",
    "stmt = stmt.join(student, student.c.univ_id == university.c.univ_id)\n",
    "stmt = stmt.join(em_1, em_1.c.student_id == student.c.student_id)\n",
    "stmt = stmt.where(subq == 5)\n",
    "stmt = stmt.order_by(university.c.univ_name)\n",
    "\n",
    "\n",
    "result = conn.execute(stmt).fetchall()\n",
    "print(len(result))\n",
    "result[:10]"
   ]
  },
  {
   "cell_type": "markdown",
   "id": "respiratory-shade",
   "metadata": {},
   "source": [
    "### 5. Напишите запрос, выполняющий вывод имен и фамилий преподавателей, проводящих занятия на первом курсе. Отсортируйте результат по фаимилии преподавателя."
   ]
  },
  {
   "cell_type": "code",
   "execution_count": 30,
   "id": "applicable-marking",
   "metadata": {},
   "outputs": [
    {
     "name": "stdout",
     "output_type": "stream",
     "text": [
      "14\n"
     ]
    },
    {
     "data": {
      "text/plain": [
       "[('Алексеев', 'Елисей'),\n",
       " ('Беляков', 'Мефодий'),\n",
       " ('Беспалов', 'Юлиан'),\n",
       " ('Брагина', 'Нинель'),\n",
       " ('Волков', 'Михаил'),\n",
       " ('Дорофеев', 'Прокофий'),\n",
       " ('Зимин', 'Юлиан'),\n",
       " ('Колесников', 'Борис'),\n",
       " ('Кудрявцева', 'Анна'),\n",
       " ('Куликова', 'Ираида')]"
      ]
     },
     "execution_count": 30,
     "metadata": {},
     "output_type": "execute_result"
    }
   ],
   "source": [
    "stmt = select(lecturer.c.surname, lecturer.c.name)\n",
    "stmt = stmt.select_from(lecturer)\n",
    "stmt = stmt.join(subj_lect, subj_lect.c.lecturer_id == lecturer.c.lecturer_id)\n",
    "stmt = stmt.join(subject, subject.c.subj_id == subj_lect.c.subj_id)\n",
    "stmt = stmt.where(subject.c.semester.in_([1, 2]))\n",
    "stmt = stmt.group_by(lecturer.c.lecturer_id)\n",
    "stmt = stmt.order_by(lecturer.c.surname)\n",
    "\n",
    "result = conn.execute(stmt).fetchall()\n",
    "print(len(result))\n",
    "result[:10]"
   ]
  },
  {
   "cell_type": "markdown",
   "id": "combined-fisher",
   "metadata": {},
   "source": [
    "### 6. Напишите запрос, выполняющий вывод наименований предметов обучения, читаемых двумя или более преподавателями. Результат должен состоять из одного столбца названий предметов, без повторов, в алфавитном порядке по возрастанию."
   ]
  },
  {
   "cell_type": "code",
   "execution_count": 34,
   "id": "magnetic-sierra",
   "metadata": {},
   "outputs": [
    {
     "name": "stdout",
     "output_type": "stream",
     "text": [
      "5\n"
     ]
    },
    {
     "data": {
      "text/plain": [
       "[('Английский язык',),\n",
       " ('Информатика',),\n",
       " ('История',),\n",
       " ('ОБЖ',),\n",
       " ('Программирование на языках Python и SQL',)]"
      ]
     },
     "execution_count": 34,
     "metadata": {},
     "output_type": "execute_result"
    }
   ],
   "source": [
    "sl_1 = subj_lect.alias(\"sl_1\")\n",
    "sl_2 = subj_lect.alias(\"sl_2\")\n",
    "\n",
    "subq = select(func.count(sl_2.c.lecturer_id))\n",
    "subq = subq.where(sl_2.c.subj_id == subject.c.subj_id).scalar_subquery()\n",
    "\n",
    "stmt = select(subject.c.subj_name).distinct()\n",
    "stmt = stmt.select_from(subject)\n",
    "stmt = stmt.join(sl_1, sl_1.c.subj_id == subject.c.subj_id)\n",
    "stmt = stmt.join(lecturer, lecturer.c.lecturer_id == sl_1.c.lecturer_id)\n",
    "stmt = stmt.where(subq > 1)\n",
    "stmt = stmt.order_by(subject.c.subj_name)\n",
    "\n",
    "\n",
    "result = conn.execute(stmt).fetchall()\n",
    "print(len(result))\n",
    "result[:10]"
   ]
  }
 ],
 "metadata": {
  "kernelspec": {
   "display_name": "Python 3",
   "language": "python",
   "name": "python3"
  },
  "language_info": {
   "codemirror_mode": {
    "name": "ipython",
    "version": 3
   },
   "file_extension": ".py",
   "mimetype": "text/x-python",
   "name": "python",
   "nbconvert_exporter": "python",
   "pygments_lexer": "ipython3",
   "version": "3.9.0"
  }
 },
 "nbformat": 4,
 "nbformat_minor": 5
}
