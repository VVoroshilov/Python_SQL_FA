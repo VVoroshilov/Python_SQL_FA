{
 "cells": [
  {
   "cell_type": "markdown",
   "id": "prepared-clause",
   "metadata": {},
   "source": [
    "# Домашняя работа \n",
    "## Ворошилов Владислав\n",
    "## Группа ПИ20-3\n",
    "## Подгруппа 2"
   ]
  },
  {
   "cell_type": "code",
   "execution_count": 30,
   "id": "secondary-scratch",
   "metadata": {},
   "outputs": [],
   "source": [
    "# Путь до базы данных\n",
    "path_to_db = '../Data/Students.db'\n",
    "path_to_db = 'sqlite+pysqlite:///' + path_to_db"
   ]
  },
  {
   "cell_type": "code",
   "execution_count": null,
   "id": "micro-round",
   "metadata": {},
   "outputs": [],
   "source": [
    "from sqlalchemy import MetaData, Table, create_engine, select, and_, or_, not_\n",
    "from sqlalchemy.sql import func, exists\n",
    "engine = create_engine(path_to_db)\n",
    "conn = engine.connect()\n",
    "metadata = MetaData() \n",
    "metadata.reflect(bind=engine)\n",
    "exam_marks=Table(\"exam_marks\", metadata, autoload=True, autoload_with=\"engine\")\n",
    "lecturer=Table(\"lecturer\", metadata, autoload=True, autoload_with=\"engine\")\n",
    "student=Table(\"student\", metadata, autoload=True, autoload_with=\"engine\")\n",
    "subj_lect=Table(\"subj_lect\", metadata, autoload=True, autoload_with=\"engine\")\n",
    "subject=Table(\"subject\", metadata, autoload=True, autoload_with=\"engine\")\n",
    "university=Table(\"university\", metadata, autolad=True, autolad_with=\"engine\")"
   ]
  },
  {
   "cell_type": "markdown",
   "id": "limiting-bracelet",
   "metadata": {},
   "source": [
    "# Блок заданий с EXISTS"
   ]
  },
  {
   "cell_type": "markdown",
   "id": "dramatic-passing",
   "metadata": {},
   "source": [
    "## 1. Напишите запрос с EXISTS, позволяющий вывести данные обо всех студентах обучающихся в вузах, имеющих рейтинг выше 300."
   ]
  },
  {
   "cell_type": "code",
   "execution_count": 31,
   "id": "affecting-republic",
   "metadata": {},
   "outputs": [
    {
     "name": "stdout",
     "output_type": "stream",
     "text": [
      "SELECT student.student_id, student.surname, student.name, student.stipend, student.kurs, student.city, student.birthday, student.univ_id \n",
      "FROM student \n",
      "WHERE EXISTS (SELECT * \n",
      "FROM university \n",
      "WHERE student.univ_id = university.univ_id AND university.rating > :rating_1)\n",
      "63\n"
     ]
    },
    {
     "data": {
      "text/plain": [
       "[(6, 'Сидоров', 'Вадим', 150, 4, 'Москва', datetime.datetime(1999, 6, 7, 0, 0), 22),\n",
       " (15, 'Ордуханян', 'Рафаэль', 120, 1, 'Липецк', datetime.datetime(2003, 6, 1, 0, 0), 18),\n",
       " (32, 'Котов', 'Павел', 150, 5, 'Белгород', datetime.datetime(2001, 2, 28, 0, 0), 14),\n",
       " (57, 'Кудряшова', 'Вера', 100, 5, 'Нижневартовск', datetime.datetime(2002, 2, 18, 0, 0), 14),\n",
       " (58, 'Журавлева', 'Вера', 0, 4, 'Новосибирск', datetime.datetime(2003, 6, 14, 0, 0), 11),\n",
       " (61, 'Соколова', 'Ия', 100, 1, 'Колпашево', datetime.datetime(2002, 6, 25, 0, 0), 18),\n",
       " (63, 'Пак', 'Ирина', 100, 1, 'Магадан', datetime.datetime(2000, 8, 22, 0, 0), 15),\n",
       " (68, 'Казакова', 'Ольга', 250, 4, 'Кемерово', datetime.datetime(2000, 3, 29, 0, 0), 44),\n",
       " (69, 'Шубина', 'Елена', 0, 2, 'Камень-на-Оби', datetime.datetime(2002, 8, 24, 0, 0), 45),\n",
       " (70, 'Миронова', 'Анна', 200, 2, 'Владикавказ', datetime.datetime(2000, 10, 8, 0, 0), 46)]"
      ]
     },
     "execution_count": 31,
     "metadata": {},
     "output_type": "execute_result"
    }
   ],
   "source": [
    "subq = exists().where(and_(student.c.univ_id == university.c.univ_id, university.c.rating > 300))\n",
    "\n",
    "s = select(student)\n",
    "s = s.where(subq)\n",
    "\n",
    "print(s)\n",
    "result = conn.execute(s).fetchall()\n",
    "print(len(result))\n",
    "result[:10]"
   ]
  },
  {
   "cell_type": "markdown",
   "id": "subsequent-liechtenstein",
   "metadata": {},
   "source": [
    "## 2. Напишите предыдущий запрос, используя соединения."
   ]
  },
  {
   "cell_type": "code",
   "execution_count": 37,
   "id": "varying-mercury",
   "metadata": {
    "scrolled": true
   },
   "outputs": [
    {
     "name": "stdout",
     "output_type": "stream",
     "text": [
      "SELECT student.student_id, student.surname, student.name, student.stipend, student.kurs, student.city, student.birthday, student.univ_id \n",
      "FROM student JOIN university ON student.univ_id = university.univ_id \n",
      "WHERE university.rating > :rating_1\n",
      "63\n"
     ]
    },
    {
     "data": {
      "text/plain": [
       "[(6, 'Сидоров', 'Вадим', 150, 4, 'Москва', datetime.datetime(1999, 6, 7, 0, 0), 22),\n",
       " (15, 'Ордуханян', 'Рафаэль', 120, 1, 'Липецк', datetime.datetime(2003, 6, 1, 0, 0), 18),\n",
       " (32, 'Котов', 'Павел', 150, 5, 'Белгород', datetime.datetime(2001, 2, 28, 0, 0), 14),\n",
       " (57, 'Кудряшова', 'Вера', 100, 5, 'Нижневартовск', datetime.datetime(2002, 2, 18, 0, 0), 14),\n",
       " (58, 'Журавлева', 'Вера', 0, 4, 'Новосибирск', datetime.datetime(2003, 6, 14, 0, 0), 11),\n",
       " (61, 'Соколова', 'Ия', 100, 1, 'Колпашево', datetime.datetime(2002, 6, 25, 0, 0), 18),\n",
       " (63, 'Пак', 'Ирина', 100, 1, 'Магадан', datetime.datetime(2000, 8, 22, 0, 0), 15),\n",
       " (68, 'Казакова', 'Ольга', 250, 4, 'Кемерово', datetime.datetime(2000, 3, 29, 0, 0), 44),\n",
       " (69, 'Шубина', 'Елена', 0, 2, 'Камень-на-Оби', datetime.datetime(2002, 8, 24, 0, 0), 45),\n",
       " (70, 'Миронова', 'Анна', 200, 2, 'Владикавказ', datetime.datetime(2000, 10, 8, 0, 0), 46)]"
      ]
     },
     "execution_count": 37,
     "metadata": {},
     "output_type": "execute_result"
    }
   ],
   "source": [
    "# Для этого задания импортируем оператор JOIN \n",
    "from sqlalchemy.sql import join\n",
    "s = select(student)\n",
    "s = s.join(university, student.c.univ_id == university.c.univ_id)\n",
    "s = s.where(university.c.rating > 300)\n",
    "\n",
    "print(s)\n",
    "result = conn.execute(s).fetchall()\n",
    "print(len(result))\n",
    "result[:10]"
   ]
  },
  {
   "cell_type": "markdown",
   "id": "about-missile",
   "metadata": {},
   "source": [
    "## 3. Напишите запрос с EXISTS, выбирающий сведения о каждом студенте, для которого в городе его проживания имеется хотя бы один университет, в котором он не учится."
   ]
  },
  {
   "cell_type": "code",
   "execution_count": 26,
   "id": "packed-speaking",
   "metadata": {
    "scrolled": true
   },
   "outputs": [
    {
     "name": "stdout",
     "output_type": "stream",
     "text": [
      "SELECT student.student_id, student.surname, student.name, student.stipend, student.kurs, student.city, student.birthday, student.univ_id \n",
      "FROM student \n",
      "WHERE EXISTS (SELECT * \n",
      "FROM university \n",
      "WHERE student.city = university.city AND student.univ_id != university.univ_id)\n",
      "8\n"
     ]
    },
    {
     "data": {
      "text/plain": [
       "[(6, 'Сидоров', 'Вадим', 150, 4, 'Москва', datetime.datetime(1999, 6, 7, 0, 0), 22),\n",
       " (55, 'Белкин', 'Вадим', 250, 5, 'Воронеж', datetime.datetime(2000, 1, 7, 0, 0), 10),\n",
       " (75, 'Игнатова', 'Зинаида', 100, 5, 'Ростов', datetime.datetime(2000, 9, 26, 0, 0), 22),\n",
       " (200, 'Баранов', 'Александр', 220, 2, 'Москва', datetime.datetime(2001, 8, 18, 0, 0), 44),\n",
       " (207, 'Миронова', 'Федор', 200, 3, 'Москва', datetime.datetime(2002, 4, 15, 0, 0), 45),\n",
       " (265, 'Павлов', 'Андрей', 0, 3, 'Воронеж', datetime.datetime(2000, 11, 5, 0, 0), 10),\n",
       " (276, 'Петров', 'Антон', 200, 4, 'Ульяновск', datetime.datetime(2001, 8, 5, 0, 0), 22),\n",
       " (654, 'Лукин', 'Артем', 200, 3, 'Воронеж', datetime.datetime(2001, 12, 1, 0, 0), 10)]"
      ]
     },
     "execution_count": 26,
     "metadata": {},
     "output_type": "execute_result"
    }
   ],
   "source": [
    "subq = exists().where(and_(student.c.city == university.c.city, student.c.univ_id != university.c.univ_id))\n",
    "\n",
    "s = select(student)\n",
    "s = s.where(subq)\n",
    "\n",
    "print(s)\n",
    "result = conn.execute(s).fetchall()\n",
    "print(len(result))\n",
    "result[:10]"
   ]
  },
  {
   "cell_type": "markdown",
   "id": "chicken-combine",
   "metadata": {},
   "source": [
    "## 4. Напишите запрос, выбирающий из таблицы SUBJECT данные о названиях предметов обучения, экзамены по которым сданы более чем одним студентом."
   ]
  },
  {
   "cell_type": "code",
   "execution_count": 55,
   "id": "artificial-recruitment",
   "metadata": {},
   "outputs": [
    {
     "name": "stdout",
     "output_type": "stream",
     "text": [
      "SELECT subject.subj_id, subject.subj_name, subject.hour, subject.semester \n",
      "FROM subject \n",
      "WHERE EXISTS (SELECT exam_marks.exam_id, exam_marks.student_id, exam_marks.subj_id, exam_marks.mark, exam_marks.exam_date \n",
      "FROM exam_marks \n",
      "WHERE subject.subj_id = exam_marks.subj_id GROUP BY exam_marks.subj_id \n",
      "HAVING count(exam_marks.exam_id) > :count_1)\n",
      "9\n"
     ]
    },
    {
     "data": {
      "text/plain": [
       "[(10, 'Информатика', 56, 1),\n",
       " (11, 'Программирование на языках Python и SQL', 34, 2),\n",
       " (12, 'Анализ данных', 42, 1),\n",
       " (13, 'ОБЖ', 34, 2),\n",
       " (22, 'Физика', 34, 1),\n",
       " (43, 'Математика', 56, 2),\n",
       " (56, 'История', 34, 4),\n",
       " (73, 'Физкультура', 34, 5),\n",
       " (94, 'Английский язык', 56, 3)]"
      ]
     },
     "execution_count": 55,
     "metadata": {},
     "output_type": "execute_result"
    }
   ],
   "source": [
    "subq = select(exam_marks)\n",
    "subq = subq.where(subject.c.subj_id == exam_marks.c.subj_id)\n",
    "subq = subq.group_by(exam_marks.c.subj_id)\n",
    "subq = subq.having(func.count(exam_marks.c.exam_id) > 1)\n",
    "\n",
    "subq = exists(subq)\n",
    "\n",
    "s = select(subject)\n",
    "s = s.where(subq)\n",
    "\n",
    "print(s)\n",
    "result = conn.execute(s).fetchall()\n",
    "print(len(result))\n",
    "result[:10]"
   ]
  },
  {
   "cell_type": "markdown",
   "id": "reserved-cookie",
   "metadata": {},
   "source": [
    "## 5. Напишите запрос для получения списка городов проживания студентов, в которых есть хотя бы один университет."
   ]
  },
  {
   "cell_type": "code",
   "execution_count": 60,
   "id": "understanding-disposal",
   "metadata": {},
   "outputs": [
    {
     "name": "stdout",
     "output_type": "stream",
     "text": [
      "SELECT distinct(student.city) AS distinct_1 \n",
      "FROM student \n",
      "WHERE EXISTS (SELECT * \n",
      "FROM university \n",
      "WHERE student.city = university.city)\n",
      "6\n"
     ]
    },
    {
     "data": {
      "text/plain": [
       "[('Москва',),\n",
       " ('Белгород',),\n",
       " ('Воронеж',),\n",
       " ('Новосибирск',),\n",
       " ('Ростов',),\n",
       " ('Ульяновск',)]"
      ]
     },
     "execution_count": 60,
     "metadata": {},
     "output_type": "execute_result"
    }
   ],
   "source": [
    "subq = exists().where(student.c.city == university.c.city)\n",
    "\n",
    "s = select(func.distinct(student.c.city))\n",
    "s = s.where(subq)\n",
    "\n",
    "print(s)\n",
    "result = conn.execute(s).fetchall()\n",
    "print(len(result))\n",
    "result[:10]"
   ]
  }
 ],
 "metadata": {
  "kernelspec": {
   "display_name": "Python 3",
   "language": "python",
   "name": "python3"
  },
  "language_info": {
   "codemirror_mode": {
    "name": "ipython",
    "version": 3
   },
   "file_extension": ".py",
   "mimetype": "text/x-python",
   "name": "python",
   "nbconvert_exporter": "python",
   "pygments_lexer": "ipython3",
   "version": "3.9.0"
  }
 },
 "nbformat": 4,
 "nbformat_minor": 5
}
