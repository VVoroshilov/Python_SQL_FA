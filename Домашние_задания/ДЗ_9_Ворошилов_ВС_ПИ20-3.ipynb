{
 "cells": [
  {
   "cell_type": "code",
   "execution_count": 1,
   "id": "realistic-relations",
   "metadata": {},
   "outputs": [],
   "source": [
    "from sqlalchemy import MetaData, Table, create_engine, select, and_, or_, not_, text, desc\n",
    "from sqlalchemy.sql import func, distinct, exists\n",
    "from sqlalchemy import union, union_all\n",
    "\n",
    "engine = create_engine('sqlite+pysqlite:////Users/vladislavvorosilov/Desktop/Python_SQL/Python_SQL_PI_2021_22_s2/Data/Students.db')\n",
    "metadata_obj = MetaData()\n",
    "metadata_obj.reflect(bind=engine) \n",
    "exam_marks=Table(\"exam_marks\", metadata_obj, autoload=True, autoload_with=\"engine\")\n",
    "lecturer=Table(\"lecturer\", metadata_obj, autoload=True, autoload_with=\"engine\")\n",
    "student=Table(\"student\", metadata_obj, autoload=True, autoload_with=\"engine\")\n",
    "subj_lect=Table(\"subj_lect\", metadata_obj, autoload=True, autoload_with=\"engine\")\n",
    "subject=Table(\"subject\", metadata_obj, autoload=True, autoload_with=\"engine\")\n",
    "university=Table(\"university\", metadata_obj, autolad=True, autolad_with=\"engine\")\n",
    "conn=engine.connect()\n"
   ]
  },
  {
   "cell_type": "markdown",
   "id": "enclosed-newton",
   "metadata": {},
   "source": [
    "## 1. Студентам, обучающимся в ВГУ, присвойте порядковый номер, упорядочив по фамилии и имени."
   ]
  },
  {
   "cell_type": "code",
   "execution_count": 7,
   "id": "bright-wisdom",
   "metadata": {},
   "outputs": [
    {
     "name": "stdout",
     "output_type": "stream",
     "text": [
      "SELECT row_number() OVER (ORDER BY student.surname, student.name) AS anon_1, student.student_id, student.surname, student.name, student.stipend, student.kurs, student.city, student.birthday, student.univ_id \n",
      "FROM student \n",
      "WHERE student.univ_id = (SELECT university.univ_id \n",
      "FROM university \n",
      "WHERE university.univ_name = :univ_name_1)\n",
      "16\n"
     ]
    },
    {
     "data": {
      "text/plain": [
       "[(1, 78, 'Агафонов', 'Василий', 150, 1, 'Грозный', datetime.datetime(1994, 10, 29, 0, 0), 10),\n",
       " (2, 113, 'Аксенов', 'Валерий', 150, 1, 'Мурманск', datetime.datetime(1994, 10, 27, 0, 0), 10),\n",
       " (3, 55, 'Белкин', 'Вадим', 250, 5, 'Воронеж', datetime.datetime(2000, 1, 7, 0, 0), 10),\n",
       " (4, 99, 'Борисова', 'Марина', 150, 1, 'Рославль', datetime.datetime(1995, 8, 7, 0, 0), 10),\n",
       " (5, 88, 'Жданова', 'Ирина', 200, 3, 'Тверь', datetime.datetime(2002, 3, 2, 0, 0), 10),\n",
       " (6, 12, 'Зайцева', 'Ольга', 250, 2, 'Липецк', datetime.datetime(2001, 5, 1, 0, 0), 10),\n",
       " (7, 1, 'Иванов', 'Иван', 150, 1, 'Орел', datetime.datetime(2002, 12, 3, 0, 0), 10),\n",
       " (8, 10, 'Кузнецов', 'Борис', 0, 2, 'Брянск', datetime.datetime(2001, 12, 8, 0, 0), 10),\n",
       " (9, 654, 'Лукин', 'Артем', 200, 3, 'Воронеж', datetime.datetime(2001, 12, 1, 0, 0), 10),\n",
       " (10, 76, 'Мельникова', 'Дарья', 100, 5, 'Архангельск', datetime.datetime(2002, 8, 1, 0, 0), 10)]"
      ]
     },
     "execution_count": 7,
     "metadata": {},
     "output_type": "execute_result"
    }
   ],
   "source": [
    "subq = select(university.c.univ_id)\n",
    "subq = subq.where(university.c.univ_name == \"ВГУ\").scalar_subquery()\n",
    "\n",
    "stmt = select(func.row_number().over(order_by=(student.c.surname, student.c.name)), student)\n",
    "stmt = stmt.select_from(student)\n",
    "stmt = stmt.where(student.c.univ_id == subq)\n",
    "\n",
    "print(stmt)\n",
    "result = conn.execute(stmt).fetchall()\n",
    "print(len(result))\n",
    "result[:10]"
   ]
  },
  {
   "cell_type": "markdown",
   "id": "friendly-occupation",
   "metadata": {},
   "source": [
    "## 2. Предметы, по которым сдавались экзамены, ранжируйте по среднему баллу, полученному на экзаменах. Результат должен содержать название предмета, средний балл, номер ранга без пропусков. Предметам с большим значением среднего балла присвойте меньшее значение ранга. Значение среднего балла округлите до двух десятичных знаков."
   ]
  },
  {
   "cell_type": "code",
   "execution_count": 21,
   "id": "coordinate-indonesian",
   "metadata": {},
   "outputs": [
    {
     "name": "stdout",
     "output_type": "stream",
     "text": [
      "SELECT subject.subj_name, round((SELECT avg(exam_marks.mark) AS avg_mark \n",
      "FROM exam_marks \n",
      "WHERE exam_marks.subj_id = subject.subj_id), :round_1) AS avg_mark, dense_rank() OVER (ORDER BY (SELECT avg(exam_marks.mark) AS avg_mark \n",
      "FROM exam_marks \n",
      "WHERE exam_marks.subj_id = subject.subj_id) DESC) AS rank \n",
      "FROM subject \n",
      "WHERE (SELECT avg(exam_marks.mark) AS avg_mark \n",
      "FROM exam_marks \n",
      "WHERE exam_marks.subj_id = subject.subj_id) IS NOT NULL\n",
      "10\n",
      "rank: 1, subject: Обработка данных и моделирование в Excel, avg_mark: 4.0\n",
      "rank: 2, subject: Английский язык, avg_mark: 3.75\n",
      "rank: 3, subject: Информатика, avg_mark: 3.33\n",
      "rank: 3, subject: Программирование на языках Python и SQL, avg_mark: 3.33\n",
      "rank: 4, subject: История, avg_mark: 3.14\n",
      "rank: 5, subject: Физкультура, avg_mark: 3.0\n",
      "rank: 6, subject: Физика, avg_mark: 2.83\n",
      "rank: 7, subject: ОБЖ, avg_mark: 2.5\n",
      "rank: 8, subject: Анализ данных, avg_mark: 2.0\n",
      "rank: 8, subject: Математика, avg_mark: 2.0\n"
     ]
    }
   ],
   "source": [
    "subq = select(func.avg(exam_marks.c.mark).label(\"avg_mark\"))\n",
    "subq = subq.where(exam_marks.c.subj_id == subject.c.subj_id).scalar_subquery()\n",
    "\n",
    "stmt = select(subject.c.subj_name, func.round(subq, 2).label(\"avg_mark\"), func.dense_rank().over(order_by=desc(subq)).label(\"rank\"))\n",
    "stmt = stmt.where(subq != None)\n",
    "print(stmt)\n",
    "result = conn.execute(stmt).fetchall()\n",
    "print(len(result))\n",
    "\n",
    "for row in result:\n",
    "    print(f\"rank: {row.rank}, subject: {row.subj_name}, avg_mark: {row.avg_mark}\")\n",
    "    "
   ]
  },
  {
   "cell_type": "markdown",
   "id": "stable-moisture",
   "metadata": {},
   "source": [
    "## 3. Ранжируйте преподавателей (без пропуска значений ранга) по количеству преподаваемых ими предметов."
   ]
  },
  {
   "cell_type": "code",
   "execution_count": 29,
   "id": "respective-shore",
   "metadata": {},
   "outputs": [
    {
     "name": "stdout",
     "output_type": "stream",
     "text": [
      "SELECT lecturer.surname, lecturer.name, (SELECT count(subj_lect.subj_id) AS subj_amt \n",
      "FROM subj_lect \n",
      "WHERE subj_lect.lecturer_id = lecturer.lecturer_id) AS subj_amt, dense_rank() OVER (ORDER BY (SELECT count(subj_lect.subj_id) AS subj_amt \n",
      "FROM subj_lect \n",
      "WHERE subj_lect.lecturer_id = lecturer.lecturer_id) DESC) AS rank \n",
      "FROM lecturer \n",
      "WHERE (SELECT count(subj_lect.subj_id) AS subj_amt \n",
      "FROM subj_lect \n",
      "WHERE subj_lect.lecturer_id = lecturer.lecturer_id) IS NOT NULL\n",
      "29\n",
      "rank: 1, lecturer: Зайцева Юлия, subj_amt: 2\n",
      "rank: 1, lecturer: Максимова Иванна, subj_amt: 2\n",
      "rank: 1, lecturer: Куликова Ираида, subj_amt: 2\n",
      "rank: 1, lecturer: Волков Михаил, subj_amt: 2\n",
      "rank: 1, lecturer: Беспалов Юлиан, subj_amt: 2\n",
      "rank: 1, lecturer: Струков Николай, subj_amt: 2\n",
      "rank: 2, lecturer: Сафонова Лукия, subj_amt: 1\n",
      "rank: 2, lecturer: Мамонтова Акулина, subj_amt: 1\n",
      "rank: 2, lecturer: Брагина Нинель, subj_amt: 1\n",
      "rank: 2, lecturer: Кудрявцева Анна, subj_amt: 1\n",
      "rank: 2, lecturer: Дорофеев Прокофий, subj_amt: 1\n",
      "rank: 2, lecturer: Зимин Юлиан, subj_amt: 1\n",
      "rank: 2, lecturer: Алексеев Елисей, subj_amt: 1\n",
      "rank: 2, lecturer: Тихонов Ладомир, subj_amt: 1\n",
      "rank: 2, lecturer: Беляков Мефодий, subj_amt: 1\n",
      "rank: 2, lecturer: Колесников Борис, subj_amt: 1\n",
      "rank: 2, lecturer: Никонов Иван, subj_amt: 1\n",
      "rank: 2, lecturer: Лагутин Павел, subj_amt: 1\n",
      "rank: 3, lecturer: Богданова Оксана, subj_amt: 0\n",
      "rank: 3, lecturer: Дмитриева Оксана, subj_amt: 0\n",
      "rank: 3, lecturer: Ситникова Светлана, subj_amt: 0\n",
      "rank: 3, lecturer: Крюкова Людмила, subj_amt: 0\n",
      "rank: 3, lecturer: Артемьева Майя, subj_amt: 0\n",
      "rank: 3, lecturer: Зыкова Оксана, subj_amt: 0\n",
      "rank: 3, lecturer: Стрелков Руслан, subj_amt: 0\n",
      "rank: 3, lecturer: Сафонов Будимир, subj_amt: 0\n",
      "rank: 3, lecturer: Елисеев Виссарион, subj_amt: 0\n",
      "rank: 3, lecturer: Николаев Виктор, subj_amt: 0\n",
      "rank: 3, lecturer: Сорокин Андрей, subj_amt: 0\n"
     ]
    }
   ],
   "source": [
    "subq = select(func.count(subj_lect.c.subj_id).label(\"subj_amt\"))\n",
    "subq = subq.where(subj_lect.c.lecturer_id == lecturer.c.lecturer_id).scalar_subquery()\n",
    "\n",
    "stmt = select(lecturer.c.surname, lecturer.c.name, subq.label(\"subj_amt\"), func.dense_rank().over(order_by=desc(subq)).label(\"rank\"))\n",
    "stmt = stmt.where(subq != None)\n",
    "print(stmt)\n",
    "result = conn.execute(stmt).fetchall()\n",
    "print(len(result))\n",
    "\n",
    "for row in result:\n",
    "    print(f\"rank: {row.rank}, lecturer: {row.surname + ' ' + row.name}, subj_amt: {row.subj_amt}\")\n",
    "\n",
    "    "
   ]
  },
  {
   "cell_type": "markdown",
   "id": "absolute-oklahoma",
   "metadata": {},
   "source": [
    "## 4. Ранжируйте семестры по количеству учебных часов."
   ]
  },
  {
   "cell_type": "code",
   "execution_count": 13,
   "id": "absent-population",
   "metadata": {},
   "outputs": [
    {
     "name": "stdout",
     "output_type": "stream",
     "text": [
      "SELECT DISTINCT sj2.semester, (SELECT sum(sj1.hour) AS ttl_hour \n",
      "FROM subject AS sj1 \n",
      "WHERE sj1.semester = sj2.semester) AS ttl_hour, dense_rank() OVER (ORDER BY (SELECT sum(sj1.hour) AS ttl_hour \n",
      "FROM subject AS sj1 \n",
      "WHERE sj1.semester = sj2.semester) DESC) AS rank \n",
      "FROM subject AS sj2 \n",
      "WHERE (SELECT sum(sj1.hour) AS ttl_hour \n",
      "FROM subject AS sj1 \n",
      "WHERE sj1.semester = sj2.semester) IS NOT NULL\n",
      "5\n",
      "rank: 1, semester: 4, total_hours: 138\n",
      "rank: 2, semester: 1, total_hours: 132\n",
      "rank: 3, semester: 2, total_hours: 124\n",
      "rank: 4, semester: 3, total_hours: 92\n",
      "rank: 5, semester: 5, total_hours: 34\n"
     ]
    }
   ],
   "source": [
    "sj1 = subject.alias(\"sj1\")\n",
    "sj2 = subject.alias(\"sj2\")\n",
    "\n",
    "subq = select(func.sum(sj1.c.hour).label(\"ttl_hour\"))\n",
    "subq = subq.where(sj1.c.semester == sj2.c.semester).scalar_subquery()\n",
    "\n",
    "stmt = select(sj2.c.semester.distinct(), subq.label(\"ttl_hour\"), func.dense_rank().over(order_by=desc(subq)).label(\"rank\"))\n",
    "stmt = stmt.where(subq != None)\n",
    "print(stmt)\n",
    "result = conn.execute(stmt).fetchall()\n",
    "print(len(result))\n",
    "\n",
    "for row in result:\n",
    "    print(f\"rank: {row.rank}, semester: {row.semester}, total_hours: {row.ttl_hour}\")\n",
    "\n",
    "\n",
    "    "
   ]
  },
  {
   "cell_type": "markdown",
   "id": "hairy-cemetery",
   "metadata": {},
   "source": [
    "## 5. Рассчитайте относительный прирост суммарного количества учебных часов предметов семестра по мере увеличения номера семестра."
   ]
  },
  {
   "cell_type": "code",
   "execution_count": 19,
   "id": "mineral-consideration",
   "metadata": {},
   "outputs": [
    {
     "name": "stdout",
     "output_type": "stream",
     "text": [
      "SELECT anon_1.semester, anon_1.ttl_hour, round(((anon_1.ttl_hour * :ttl_hour_1) / lag(anon_1.ttl_hour) OVER (ORDER BY anon_1.semester) - :param_1) * :param_2, :round_1) AS diff \n",
      "FROM (SELECT DISTINCT sj2.semester AS semester, (SELECT sum(sj1.hour) AS ttl_hour \n",
      "FROM subject AS sj1 \n",
      "WHERE sj1.semester = sj2.semester) AS ttl_hour \n",
      "FROM subject AS sj2 \n",
      "WHERE (SELECT sum(sj1.hour) AS ttl_hour \n",
      "FROM subject AS sj1 \n",
      "WHERE sj1.semester = sj2.semester) IS NOT NULL) AS anon_1\n",
      "5\n",
      "semester: 1, total_hours: 132,  growth: None %\n",
      "semester: 2, total_hours: 124,  growth: -6.06 %\n",
      "semester: 3, total_hours: 92,  growth: -25.81 %\n",
      "semester: 4, total_hours: 138,  growth: 50.0 %\n",
      "semester: 5, total_hours: 34,  growth: -75.36 %\n"
     ]
    }
   ],
   "source": [
    "sj1 = subject.alias(\"sj1\")\n",
    "sj2 = subject.alias(\"sj2\")\n",
    "\n",
    "subq = select(func.sum(sj1.c.hour).label(\"ttl_hour\"))\n",
    "subq = subq.where(sj1.c.semester == sj2.c.semester).scalar_subquery()\n",
    "\n",
    "stmt_subq = select(sj2.c.semester.distinct().label(\"semester\"), subq.label(\"ttl_hour\"))\n",
    "stmt_subq = stmt_subq.where(subq != None).subquery()\n",
    "\n",
    "\n",
    "stmt = select(stmt_subq.c.semester, stmt_subq.c.ttl_hour, func.round(((stmt_subq.c.ttl_hour*1.0 / func.lag(stmt_subq.c.ttl_hour).over(order_by = stmt_subq.c.semester) - 1)*100.0), 2).label(\"diff\"))\n",
    "stmt = stmt.select_from(stmt_subq)\n",
    "\n",
    "print(stmt)\n",
    "result = conn.execute(stmt).fetchall()\n",
    "print(len(result))\n",
    "\n",
    "for row in result:\n",
    "    print(f\"semester: {row.semester}, total_hours: {row.ttl_hour},  growth: {row.diff} %\")\n"
   ]
  },
  {
   "cell_type": "markdown",
   "id": "first-circulation",
   "metadata": {},
   "source": [
    "## 6. Для каждого студента университета, обучающегося в своём городе, рассчитайте разницу в возрасте в днях с самым старшим студентом своего университета."
   ]
  },
  {
   "cell_type": "markdown",
   "id": "expressed-olive",
   "metadata": {},
   "source": [
    "### Решение с оконными функциями"
   ]
  },
  {
   "cell_type": "code",
   "execution_count": 8,
   "id": "abandoned-elimination",
   "metadata": {},
   "outputs": [
    {
     "name": "stdout",
     "output_type": "stream",
     "text": [
      "SELECT anon_1.surname, anon_1.name, anon_1.std_city, anon_1.univ_city, anon_1.anon_2 \n",
      "FROM (SELECT student.surname AS surname, student.name AS name, student.city AS std_city, university.city AS univ_city, julianday(date(student.birthday)) - julianday(min(date(student.birthday)) OVER (PARTITION BY student.univ_id)) AS anon_2 \n",
      "FROM student JOIN university ON university.univ_id = student.univ_id) AS anon_1 \n",
      "WHERE anon_1.std_city = anon_1.univ_city\n",
      "9\n"
     ]
    },
    {
     "data": {
      "text/plain": [
       "[('Белкин', 'Вадим', 'Воронеж', 'Воронеж', 1898.0),\n",
       " ('Павлов', 'Андрей', 'Воронеж', 'Воронеж', 2201.0),\n",
       " ('Лукин', 'Артем', 'Воронеж', 'Воронеж', 2592.0),\n",
       " ('Журавлева', 'Вера', 'Новосибирск', 'Новосибирск', 3004.0),\n",
       " ('Котов', 'Павел', 'Белгород', 'Белгород', 2055.0),\n",
       " ('Петрова', 'Екатерина', 'Белгород', 'Белгород', 2137.0),\n",
       " ('Сидоров', 'Вадим', 'Москва', 'Москва', 1103.0),\n",
       " ('Баранов', 'Александр', 'Москва', 'Москва', 808.0),\n",
       " ('Миронова', 'Федор', 'Москва', 'Москва', 2602.0)]"
      ]
     },
     "execution_count": 8,
     "metadata": {},
     "output_type": "execute_result"
    }
   ],
   "source": [
    "stmt = select(student.c.surname, student.c.name, student.c.city.label(\"std_city\"), university.c.city.label(\"univ_city\"), func.julianday(func.date(student.c.birthday)) - func.julianday(func.min(func.date(student.c.birthday)).over(partition_by=student.c.univ_id)))\n",
    "stmt = stmt.select_from(student)\n",
    "stmt = stmt.join(university, university.c.univ_id ==  student.c.univ_id).subquery()\n",
    "\n",
    "stmt = select(stmt).where(stmt.c.std_city == stmt.c.univ_city)\n",
    "print(stmt)\n",
    "result = conn.execute(stmt).fetchall()\n",
    "print(len(result))\n",
    "result"
   ]
  },
  {
   "cell_type": "markdown",
   "id": "friendly-gabriel",
   "metadata": {},
   "source": [
    "### Решение без оконных функций "
   ]
  },
  {
   "cell_type": "code",
   "execution_count": 7,
   "id": "incorrect-entry",
   "metadata": {},
   "outputs": [
    {
     "name": "stdout",
     "output_type": "stream",
     "text": [
      "SELECT s1.surname, s1.name, university.univ_name, julianday(date(s1.birthday)) - julianday((SELECT date(min(s2.birthday)) AS date_1 \n",
      "FROM student AS s2 GROUP BY s2.univ_id \n",
      "HAVING s2.univ_id = university.univ_id)) AS anon_1 \n",
      "FROM student AS s1 JOIN university ON university.univ_id = s1.univ_id \n",
      "WHERE s1.city = university.city\n",
      "9\n"
     ]
    },
    {
     "data": {
      "text/plain": [
       "[('Сидоров', 'Вадим', 'МГУ', 1103.0),\n",
       " ('Котов', 'Павел', 'БГУ', 2055.0),\n",
       " ('Белкин', 'Вадим', 'ВГУ', 1898.0),\n",
       " ('Журавлева', 'Вера', 'НГУ', 3004.0),\n",
       " ('Баранов', 'Александр', 'ФинУ', 808.0),\n",
       " ('Петрова', 'Екатерина', 'БГУ', 2137.0),\n",
       " ('Миронова', 'Федор', 'МГТУ им. Баумана', 2602.0),\n",
       " ('Павлов', 'Андрей', 'ВГУ', 2201.0),\n",
       " ('Лукин', 'Артем', 'ВГУ', 2592.0)]"
      ]
     },
     "execution_count": 7,
     "metadata": {},
     "output_type": "execute_result"
    }
   ],
   "source": [
    "s1 = student.alias(\"s1\")\n",
    "s2 = student.alias(\"s2\")\n",
    "\n",
    "subq = select(func.date(func.min(s2.c.birthday)))\n",
    "subq = subq.group_by(s2.c.univ_id)\n",
    "subq = subq.having(s2.c.univ_id == university.c.univ_id).scalar_subquery()\n",
    "\n",
    "\n",
    "stmt = select(s1.c.surname, s1.c.name, university.c.univ_name, func.julianday(func.date(s1.c.birthday)) - func.julianday(subq))\n",
    "stmt = stmt.select_from(s1)\n",
    "stmt = stmt.join(university, university.c.univ_id == s1.c.univ_id)\n",
    "stmt = stmt.where(s1.c.city == university.c.city)\n",
    "\n",
    "\n",
    "print(stmt)\n",
    "result = conn.execute(stmt).fetchall()\n",
    "print(len(result))\n",
    "\n",
    "result[:10]\n"
   ]
  }
 ],
 "metadata": {
  "kernelspec": {
   "display_name": "Python 3",
   "language": "python",
   "name": "python3"
  },
  "language_info": {
   "codemirror_mode": {
    "name": "ipython",
    "version": 3
   },
   "file_extension": ".py",
   "mimetype": "text/x-python",
   "name": "python",
   "nbconvert_exporter": "python",
   "pygments_lexer": "ipython3",
   "version": "3.9.0"
  }
 },
 "nbformat": 4,
 "nbformat_minor": 5
}
