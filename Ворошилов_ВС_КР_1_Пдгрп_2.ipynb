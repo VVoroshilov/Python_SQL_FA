{
 "cells": [
  {
   "cell_type": "markdown",
   "id": "eb112363",
   "metadata": {},
   "source": [
    "<img src=\"../Img/Python_SQL_PI.png\" style=\"width:100%\">\n",
    "\n",
    "\n",
    "<p style=\"font-size:22px;text-align:center\">Контрольная работа 1</p>\n",
    "\n",
    "<a id = Home></a>\n",
    "\n",
    "7 апреля 2022 года, пн<br>\n",
    "ПИ20-1, ПИ20-2, ПИ20-3, ПИ20-4, ПИ20-5, ПИ20-6 (2 подгруппа) <br>"
   ]
  },
  {
   "cell_type": "markdown",
   "id": "e5100ec2",
   "metadata": {},
   "source": [
    "База данных \"Студенты\"\n",
    "\n",
    "```\n",
    "STUDENT\n",
    "STUDENT_ID — числовой код, идентифицирующий студента (идентификатор студента),\n",
    "SURNAME — фамилия студента,\n",
    "NAME — имя студента,\n",
    "STIPEND — стипендия, которую получает студент,\n",
    "KURS — курс, на котором учится студент,\n",
    "CITY — город, в котором живет студент,\n",
    "BIRTHDAY — дата рождения студента,\n",
    "UNIV_ID — идентификатор университета, в котором учится студент.\n",
    "\n",
    "LECTURER\n",
    "LECTURER_ID — идентификатор преподавателя,\n",
    "SURNAME — фамилия преподавателя,\n",
    "NAME — имя преподавателя,\n",
    "CITY — город, в котором живет преподаватель,\n",
    "UNIV_ID — идентификатор университета, в котором работает преподаватель\n",
    "\n",
    "SUBJECT\n",
    "SUBJ_ID — идентификатор предмета обучения,\n",
    "SUBJ_NAME — наименование предмета обучения,\n",
    "HOUR — количество часов, отводимых на изучение предмета,\n",
    "SEMESTER — семестр, в котором изучается данный предмет.\n",
    "\n",
    "UNIVERSITY\n",
    "UNIV_ID — идентификатор университета,\n",
    "UNIV_NAME — название университета,\n",
    "RATING — рейтинг университета,\n",
    "CITY — город, в котором расположен университет.\n",
    "\n",
    "EXAM_MARKS\n",
    "EXAM_ID — идентификатор экзамена,\n",
    "STUDENT_ID — идентификатор студента,\n",
    "SUBJ_ID — идентификатор предмета обучения,\n",
    "MARK — экзаменационная оценка,\n",
    "EXAM_DATE — дата экзамена.\n",
    "\n",
    "SUBJ_LECT\n",
    "LECTURER_ID — идентификатор преподавателя,\n",
    "SUBJ_ID — идентификатор предмета обучения.\n",
    "```\n",
    "\n",
    "<img src=\"../Img/Students_Schema.png\" style=\"width:79%\">"
   ]
  },
  {
   "cell_type": "code",
   "execution_count": 1,
   "id": "c094fda0",
   "metadata": {},
   "outputs": [],
   "source": [
    "from sqlalchemy import MetaData, Table, create_engine, select, and_, or_, not_\n",
    "from sqlalchemy.sql import func, distinct, exists"
   ]
  },
  {
   "cell_type": "code",
   "execution_count": 7,
   "id": "mediterranean-making",
   "metadata": {},
   "outputs": [
    {
     "data": {
      "text/plain": [
       "['__bool__',\n",
       " '__class__',\n",
       " '__class_getitem__',\n",
       " '__delattr__',\n",
       " '__dict__',\n",
       " '__dir__',\n",
       " '__doc__',\n",
       " '__eq__',\n",
       " '__format__',\n",
       " '__ge__',\n",
       " '__getattribute__',\n",
       " '__getstate__',\n",
       " '__gt__',\n",
       " '__hash__',\n",
       " '__init__',\n",
       " '__init_subclass__',\n",
       " '__invert__',\n",
       " '__le__',\n",
       " '__lt__',\n",
       " '__module__',\n",
       " '__ne__',\n",
       " '__new__',\n",
       " '__nonzero__',\n",
       " '__reduce__',\n",
       " '__reduce_ex__',\n",
       " '__repr__',\n",
       " '__setattr__',\n",
       " '__sizeof__',\n",
       " '__slots__',\n",
       " '__str__',\n",
       " '__subclasshook__',\n",
       " '__visit_name__',\n",
       " '__weakref__',\n",
       " '_add_context_option',\n",
       " '_all_selected_columns',\n",
       " '_annotate',\n",
       " '_annotations',\n",
       " '_annotations_cache_key',\n",
       " '_assert_no_memoizations',\n",
       " '_attributes',\n",
       " '_auto_correlate',\n",
       " '_bind',\n",
       " '_cache_key_traversal',\n",
       " '_clone',\n",
       " '_clone_annotations_traverse_internals',\n",
       " '_cloned_set',\n",
       " '_compile_options',\n",
       " '_compile_state_factory',\n",
       " '_compile_state_plugin',\n",
       " '_compile_w_cache',\n",
       " '_compiler',\n",
       " '_compiler_dispatch',\n",
       " '_constructor',\n",
       " '_copy_internals',\n",
       " '_correlate',\n",
       " '_correlate_except',\n",
       " '_create',\n",
       " '_create_future_select',\n",
       " '_create_raw_select',\n",
       " '_create_select',\n",
       " '_create_select_from_fromclause',\n",
       " '_deannotate',\n",
       " '_distinct',\n",
       " '_distinct_on',\n",
       " '_effective_plugin_target',\n",
       " '_ensure_disambiguated_names',\n",
       " '_executable_traverse_internals',\n",
       " '_execute_on_connection',\n",
       " '_execution_options',\n",
       " '_fetch_clause',\n",
       " '_fetch_clause_options',\n",
       " '_filter_by_zero',\n",
       " '_for_update_arg',\n",
       " '_from_obj',\n",
       " '_from_objects',\n",
       " '_gen_cache_key',\n",
       " '_generate',\n",
       " '_generate_cache_attrs',\n",
       " '_generate_cache_key',\n",
       " '_generate_cache_key_for_object',\n",
       " '_generate_columns_plus_names',\n",
       " '_generate_fromclause_column_proxies',\n",
       " '_group_by_clause',\n",
       " '_group_by_clauses',\n",
       " '_has_ctes_traverse_internals',\n",
       " '_has_hints_traverse_internals',\n",
       " '_has_prefixes_traverse_internals',\n",
       " '_has_row_limiting_clause',\n",
       " '_has_suffixes_traverse_internals',\n",
       " '_having_criteria',\n",
       " '_hierarchy_supports_caching',\n",
       " '_hints',\n",
       " '_implicit_subquery',\n",
       " '_independent_ctes',\n",
       " '_is_bind_parameter',\n",
       " '_is_clause_list',\n",
       " '_is_clone_of',\n",
       " '_is_from_clause',\n",
       " '_is_from_container',\n",
       " '_is_has_cache_key',\n",
       " '_is_immutable',\n",
       " '_is_lambda_element',\n",
       " '_is_lateral',\n",
       " '_is_returns_rows',\n",
       " '_is_select_container',\n",
       " '_is_select_statement',\n",
       " '_is_singleton_constant',\n",
       " '_is_text_clause',\n",
       " '_is_textual',\n",
       " '_iterate_from_elements',\n",
       " '_label_style',\n",
       " '_legacy_setup_joins',\n",
       " '_limit',\n",
       " '_limit_clause',\n",
       " '_memoized_keys',\n",
       " '_memoized_select_entities',\n",
       " '_needs_parens_for_grouping',\n",
       " '_negate',\n",
       " '_negate_in_binary',\n",
       " '_offset',\n",
       " '_offset_clause',\n",
       " '_offset_or_limit_clause',\n",
       " '_offset_or_limit_clause_asint',\n",
       " '_order_by_clause',\n",
       " '_order_by_clauses',\n",
       " '_order_by_label_element',\n",
       " '_original_compiler_dispatch',\n",
       " '_prefixes',\n",
       " '_propagate_attrs',\n",
       " '_raw_columns',\n",
       " '_refresh_for_new_column',\n",
       " '_replace_params',\n",
       " '_reset_memoizations',\n",
       " '_role_name',\n",
       " '_scalar_type',\n",
       " '_set_compile_options',\n",
       " '_set_entities',\n",
       " '_set_memoized_attribute',\n",
       " '_set_propagate_attrs',\n",
       " '_setup_joins',\n",
       " '_setup_prefixes',\n",
       " '_setup_suffixes',\n",
       " '_simple_int_clause',\n",
       " '_statement_hints',\n",
       " '_suffixes',\n",
       " '_traverse_internals',\n",
       " '_ungroup',\n",
       " '_update_compile_options',\n",
       " '_where_criteria',\n",
       " '_whereclause',\n",
       " '_with_annotations',\n",
       " '_with_binary_element_type',\n",
       " '_with_context_options',\n",
       " '_with_options',\n",
       " 'add_columns',\n",
       " 'add_cte',\n",
       " 'alias',\n",
       " 'allows_lambda',\n",
       " 'append_column',\n",
       " 'append_correlation',\n",
       " 'append_from',\n",
       " 'append_group_by',\n",
       " 'append_having',\n",
       " 'append_order_by',\n",
       " 'append_prefix',\n",
       " 'append_whereclause',\n",
       " 'apply_labels',\n",
       " 'as_scalar',\n",
       " 'bind',\n",
       " 'c',\n",
       " 'column',\n",
       " 'column_descriptions',\n",
       " 'columns',\n",
       " 'columns_clause_froms',\n",
       " 'compare',\n",
       " 'compile',\n",
       " 'correlate',\n",
       " 'correlate_except',\n",
       " 'corresponding_column',\n",
       " 'create_legacy_select',\n",
       " 'cte',\n",
       " 'description',\n",
       " 'distinct',\n",
       " 'entity_namespace',\n",
       " 'except_',\n",
       " 'except_all',\n",
       " 'execute',\n",
       " 'execution_options',\n",
       " 'exists',\n",
       " 'exported_columns',\n",
       " 'fetch',\n",
       " 'filter',\n",
       " 'filter_by',\n",
       " 'from_statement',\n",
       " 'froms',\n",
       " 'get_children',\n",
       " 'get_execution_options',\n",
       " 'get_final_froms',\n",
       " 'get_label_style',\n",
       " 'group_by',\n",
       " 'having',\n",
       " 'inherit_cache',\n",
       " 'inner_columns',\n",
       " 'intersect',\n",
       " 'intersect_all',\n",
       " 'is_clause_element',\n",
       " 'is_delete',\n",
       " 'is_derived_from',\n",
       " 'is_dml',\n",
       " 'is_insert',\n",
       " 'is_select',\n",
       " 'is_selectable',\n",
       " 'is_text',\n",
       " 'is_update',\n",
       " 'join',\n",
       " 'join_from',\n",
       " 'label',\n",
       " 'lateral',\n",
       " 'limit',\n",
       " 'memoized_attribute',\n",
       " 'memoized_instancemethod',\n",
       " 'offset',\n",
       " 'options',\n",
       " 'order_by',\n",
       " 'outerjoin',\n",
       " 'outerjoin_from',\n",
       " 'params',\n",
       " 'prefix_with',\n",
       " 'reduce_columns',\n",
       " 'replace_selectable',\n",
       " 'scalar',\n",
       " 'scalar_subquery',\n",
       " 'select',\n",
       " 'select_from',\n",
       " 'selectable',\n",
       " 'selected_columns',\n",
       " 'self_group',\n",
       " 'set_label_style',\n",
       " 'slice',\n",
       " 'stringify_dialect',\n",
       " 'subquery',\n",
       " 'suffix_with',\n",
       " 'supports_execution',\n",
       " 'union',\n",
       " 'union_all',\n",
       " 'unique_params',\n",
       " 'uses_inspection',\n",
       " 'where',\n",
       " 'whereclause',\n",
       " 'with_for_update',\n",
       " 'with_hint',\n",
       " 'with_only_columns',\n",
       " 'with_statement_hint']"
      ]
     },
     "execution_count": 7,
     "metadata": {},
     "output_type": "execute_result"
    }
   ],
   "source": [
    "s = select()\n",
    "dir(s)"
   ]
  },
  {
   "cell_type": "code",
   "execution_count": 2,
   "id": "9a4a10a2",
   "metadata": {
    "scrolled": true
   },
   "outputs": [],
   "source": [
    "# ../Data/Students.db\n",
    "engine = create_engine('sqlite+pysqlite:////Users/vladislavvorosilov/Desktop/Python_SQL/Python_SQL_PI_2021_22_s2/Data/Students.db')\n",
    "conn = engine.connect()"
   ]
  },
  {
   "cell_type": "code",
   "execution_count": 3,
   "id": "9c2121c3",
   "metadata": {},
   "outputs": [],
   "source": [
    "metadata = MetaData() # Объект-контейнер, содержит информацию о схеме данных\n",
    "metadata.reflect(bind=engine) # Отображение БД"
   ]
  },
  {
   "cell_type": "code",
   "execution_count": 4,
   "id": "fffd9d89",
   "metadata": {},
   "outputs": [
    {
     "data": {
      "text/plain": [
       "dict_keys(['city', 'exam_marks', 'student', 'university', 'subject', 'lecturer', 'subj_lect'])"
      ]
     },
     "execution_count": 4,
     "metadata": {},
     "output_type": "execute_result"
    }
   ],
   "source": [
    "# Таблицы в БД\n",
    "metadata.tables.keys()"
   ]
  },
  {
   "cell_type": "code",
   "execution_count": 5,
   "id": "5430b4a6",
   "metadata": {},
   "outputs": [],
   "source": [
    "exam_marks=Table(\"exam_marks\", metadata, autoload=True, autoload_with=\"engine\")\n",
    "lecturer=Table(\"lecturer\", metadata, autoload=True, autoload_with=\"engine\")\n",
    "student=Table(\"student\", metadata, autoload=True, autoload_with=\"engine\")\n",
    "subj_lect=Table(\"subj_lect\", metadata, autoload=True, autoload_with=\"engine\")\n",
    "subject=Table(\"subject\", metadata, autoload=True, autoload_with=\"engine\")\n",
    "university=Table(\"university\", metadata, autolad=True, autolad_with=\"engine\")"
   ]
  },
  {
   "cell_type": "markdown",
   "id": "7d14ade3",
   "metadata": {},
   "source": [
    "<img src=../Img/pencil.png style=\"width:190px;height:190px\">\n",
    "<p style=\"background-color:powderblue; font-size:125%; color: rebeccapurple;\">Выполните задания</p>\n",
    "<p>Выполните задания c помощью Jupyter Notebook и библиотеки SQLAlchemy</p>\n",
    "\n",
    "1. Напишите запрос для получения идентификаторов, имён, фамилий и городов студентов без определенного места жительства.\n",
    "2. Напишите запрос для получения списка учебных заведений, названия которых состоят как минимум из трех слов.\n",
    "3. Напишите запрос, выполняющий вывод количества экзаменов, сдававшихся (вне зависимости от оценки) студентами 12, 32, 55. Результат должен содержать идентификатор студента и количество сданных им экзаменов. Результат упорядочить по убыванию количества экзаменов.\n",
    "4. Для каждого дня сдачи экзаменов, сдававшихся в мае, напишите запрос, выводящий максимальные оценки, полученные по каждому предмету.\n",
    "5. Для каждого предмета напишите запрос, выводящий количество преподавателей, ведущих по нему занятия. Результат должен содержать название предмета и число преподавателей.\n",
    "6. С помощью подзапроса напишите запрос, выполняющий вывод результатов экзаменов, сданных (оценка больше двух) по предметам первого семестра. Результат должен содержать идентификатор экзамена, идентификатор предмета, дату в формате YYYY-MM-DD.\n",
    "7. Отредактируйте следующий запрос с подзапросом, чтобы найти всех студентов, имеющих только отличные оценки.\n",
    "```\n",
    "s = \"\"\"\n",
    "SELECT DISTINCT student_id, surname, name\n",
    "FROM student st\n",
    "WHERE 4 < (\n",
    "    SELECT min(mark) FROM exam_marks em WHERE ...\n",
    ")\n",
    "\"\"\"\n",
    "```\n",
    "8. Напишите запрос, выполняющий вывод идентификаторов, фамилий, имён студентов, средняя оценка которых превышает 3 балла на экзаменах по предметам 3 семестра.\n",
    "9. Напишите запрос, выполняющий вывод списка идентификаторов, фамилий, имён, городов студентов, имеющих только отличные оценки и проживающих в городе, не совпадающем с городом их университета.\n",
    "10. Покажите ИД экзамена, ИД студента, ИД предмета, оценку, дату для всех экзаменов, сдававшихся студентами ВГУ.\n",
    "11. Напишите запрос, показывающий, сколько круглых отличников в каждом университете. Результат должен содержать название университета и число круглых отличников в нём.\n",
    "12. Напишите запрос, который выполняет выборку имен и фамилий всех студентов, имеющих по предмету c идентификатором 10 балл ниже общего среднего балла.\n",
    "13. С помощью EXISTS Напишите запрос, выполняющий вывод количества студентов, имеющих хотя бы одну неудовлетворительную оценку и проживающих в городе, не совпадающем с городом их университета.\n",
    "14. С помощью EXISTS Напишите запрос, выполняющий вывод количества студентов, не имеющих ни одной оценки.\n",
    "15.  Напишите запрос, показывающий дату первого экзамена в 2020 году, дату последнего экзамена в 2020 году, количество дней между первым и последним экзаменом в 2020 году. Подсказка: для установки фильтра на 2020 год можно использовать оператор LIKE, например `.where(func.date(exam_marks.c.exam_date).like(\"2020-%\"))`"
   ]
  },
  {
   "cell_type": "markdown",
   "id": "senior-power",
   "metadata": {},
   "source": [
    "### 1. Напишите запрос для получения идентификаторов, имён, фамилий и городов студентов без определенного места жительства.\n"
   ]
  },
  {
   "cell_type": "code",
   "execution_count": 7,
   "id": "dangerous-ceiling",
   "metadata": {},
   "outputs": [
    {
     "name": "stdout",
     "output_type": "stream",
     "text": [
      "SELECT student.student_id, student.name, student.surname, student.city \n",
      "FROM student \n",
      "WHERE student.city IS NULL\n",
      "2\n"
     ]
    },
    {
     "data": {
      "text/plain": [
       "[(65, 'Фёкла', 'Сергеева', None), (96, 'Фаина', 'Тимофеева', None)]"
      ]
     },
     "execution_count": 7,
     "metadata": {},
     "output_type": "execute_result"
    }
   ],
   "source": [
    "# Будем считать, что неопределённое место жительства - отсутсвие зачения столбца City\n",
    "s = select(student.c.student_id, student.c.name, student.c.surname, student.c.city)\n",
    "s = s.where(student.c.city == None)\n",
    "\n",
    "print(s)\n",
    "result = conn.execute(s).fetchall()\n",
    "print(len(result))\n",
    "result[:10]"
   ]
  },
  {
   "cell_type": "markdown",
   "id": "liked-soldier",
   "metadata": {},
   "source": [
    "### 2. Напишите запрос для получения списка учебных заведений, названия которых состоят как минимум из трех слов.\n"
   ]
  },
  {
   "cell_type": "code",
   "execution_count": 83,
   "id": "minute-series",
   "metadata": {},
   "outputs": [
    {
     "name": "stdout",
     "output_type": "stream",
     "text": [
      "SELECT university.univ_id, university.univ_name, university.rating, university.city \n",
      "FROM university \n",
      "WHERE university.univ_name LIKE :univ_name_1\n",
      "1\n"
     ]
    },
    {
     "data": {
      "text/plain": [
       "[(45, 'МГТУ им. Баумана', 372, 'Москва')]"
      ]
     },
     "execution_count": 83,
     "metadata": {},
     "output_type": "execute_result"
    }
   ],
   "source": [
    "s = select(university)\n",
    "s = s.where(university.c.univ_name.like('% % %'))\n",
    "\n",
    "print(s)\n",
    "result = conn.execute(s).fetchall()\n",
    "print(len(result))\n",
    "result[:10]"
   ]
  },
  {
   "cell_type": "markdown",
   "id": "mature-electronics",
   "metadata": {},
   "source": [
    "### 3. Напишите запрос, выполняющий вывод количества экзаменов, сдававшихся (вне зависимости от оценки) студентами 12, 32, 55. Результат должен содержать идентификатор студента и количество сданных им экзаменов. Результат упорядочить по убыванию количества экзаменов."
   ]
  },
  {
   "cell_type": "code",
   "execution_count": 20,
   "id": "prostate-kenya",
   "metadata": {},
   "outputs": [
    {
     "name": "stdout",
     "output_type": "stream",
     "text": [
      "SELECT student.student_id, count(exam_marks.exam_id) AS count_1 \n",
      "FROM student, exam_marks \n",
      "WHERE student.student_id IN (__[POSTCOMPILE_student_id_1]) AND student.student_id = exam_marks.student_id GROUP BY student.student_id ORDER BY count(exam_marks.exam_id) DESC\n",
      "3\n"
     ]
    },
    {
     "data": {
      "text/plain": [
       "[(12, 2), (55, 2), (32, 1)]"
      ]
     },
     "execution_count": 20,
     "metadata": {},
     "output_type": "execute_result"
    }
   ],
   "source": [
    "s = select(student.c.student_id, func.count(exam_marks.c.exam_id))\n",
    "s = s.where(and_(student.c.student_id.in_((12,32,55,)),  student.c.student_id == exam_marks.c.student_id))\n",
    "s = s.group_by(student.c.student_id)\n",
    "s = s.order_by(func.count(exam_marks.c.exam_id).desc())\n",
    "\n",
    "print(s)\n",
    "result = conn.execute(s).fetchall()\n",
    "print(len(result))\n",
    "result[:10]"
   ]
  },
  {
   "cell_type": "markdown",
   "id": "aware-person",
   "metadata": {},
   "source": [
    "### 4. Для каждого дня сдачи экзаменов, сдававшихся в мае, напишите запрос, выводящий максимальные оценки, полученные по каждому предмету."
   ]
  },
  {
   "cell_type": "code",
   "execution_count": 49,
   "id": "loved-image",
   "metadata": {},
   "outputs": [
    {
     "name": "stdout",
     "output_type": "stream",
     "text": [
      "SELECT subject.subj_name, max(exam_marks.mark) AS max_1 \n",
      "FROM subject, exam_marks \n",
      "WHERE date(exam_marks.exam_date) LIKE :date_1 AND subject.subj_id = exam_marks.subj_id GROUP BY exam_marks.subj_id, exam_marks.exam_date\n",
      "14\n"
     ]
    },
    {
     "data": {
      "text/plain": [
       "[('Информатика', 2),\n",
       " ('Информатика', 5),\n",
       " ('Информатика', 3),\n",
       " ('Программирование на языках Python и SQL', 1),\n",
       " ('Программирование на языках Python и SQL', 4),\n",
       " ('Анализ данных', 5),\n",
       " ('Анализ данных', 1),\n",
       " ('ОБЖ', 2),\n",
       " ('Физика', 4),\n",
       " ('История', 5)]"
      ]
     },
     "execution_count": 49,
     "metadata": {},
     "output_type": "execute_result"
    }
   ],
   "source": [
    "s = select(subject.c.subj_name, func.max(exam_marks.c.mark))\n",
    "s = s.where(and_(func.date(exam_marks.c.exam_date).like(\"%-05-%\")), subject.c.subj_id == exam_marks.c.subj_id)\n",
    "s = s.group_by(exam_marks.c.subj_id, exam_marks.c.exam_date)\n",
    "\n",
    "print(s)\n",
    "result = conn.execute(s).fetchall()\n",
    "print(len(result))\n",
    "result[:10]"
   ]
  },
  {
   "cell_type": "markdown",
   "id": "specified-proof",
   "metadata": {},
   "source": [
    "### 5. Для каждого предмета напишите запрос, выводящий количество преподавателей, ведущих по нему занятия. Результат должен содержать название предмета и число преподавателей."
   ]
  },
  {
   "cell_type": "code",
   "execution_count": 28,
   "id": "happy-ready",
   "metadata": {},
   "outputs": [
    {
     "name": "stdout",
     "output_type": "stream",
     "text": [
      "SELECT subject.subj_name, count(DISTINCT subj_lect.lecturer_id) AS count_1 \n",
      "FROM subject, subj_lect \n",
      "WHERE subject.subj_id = subj_lect.subj_id GROUP BY subject.subj_id\n",
      "10\n"
     ]
    },
    {
     "data": {
      "text/plain": [
       "[('Информатика', 5),\n",
       " ('Программирование на языках Python и SQL', 5),\n",
       " ('Анализ данных', 1),\n",
       " ('ОБЖ', 3),\n",
       " ('Физика', 1),\n",
       " ('Теория вероятностей и математическая статистика', 1),\n",
       " ('Математика', 1),\n",
       " ('История', 3),\n",
       " ('Физкультура', 1),\n",
       " ('Английский язык', 3)]"
      ]
     },
     "execution_count": 28,
     "metadata": {},
     "output_type": "execute_result"
    }
   ],
   "source": [
    "s = select(subject.c.subj_name, func.count(subj_lect.c.lecturer_id.distinct()))\n",
    "s = s.where(subject.c.subj_id == subj_lect.c.subj_id)\n",
    "s = s.group_by(subject.c.subj_id)\n",
    "\n",
    "print(s)\n",
    "result = conn.execute(s).fetchall()\n",
    "print(len(result))\n",
    "result[:10]"
   ]
  },
  {
   "cell_type": "markdown",
   "id": "moving-worship",
   "metadata": {},
   "source": [
    "### 6. С помощью подзапроса напишите запрос, выполняющий вывод результатов экзаменов, сданных (оценка больше двух) по предметам первого семестра. Результат должен содержать идентификатор экзамена, идентификатор предмета, дату в формате YYYY-MM-DD."
   ]
  },
  {
   "cell_type": "code",
   "execution_count": 32,
   "id": "ideal-salon",
   "metadata": {},
   "outputs": [
    {
     "name": "stdout",
     "output_type": "stream",
     "text": [
      "SELECT exam_marks.exam_id, exam_marks.subj_id, date(exam_marks.exam_date) AS date_1 \n",
      "FROM exam_marks \n",
      "WHERE exam_marks.subj_id IN (SELECT subject.subj_id \n",
      "FROM subject \n",
      "WHERE subject.semester = :semester_1) AND exam_marks.mark > :mark_1\n",
      "10\n"
     ]
    },
    {
     "data": {
      "text/plain": [
       "[(5, 10, '2020-05-26'),\n",
       " (9, 22, '2020-02-22'),\n",
       " (16, 10, '2019-05-29'),\n",
       " (22, 10, '2020-05-26'),\n",
       " (23, 22, '2019-05-29'),\n",
       " (28, 12, '2019-05-29'),\n",
       " (34, 10, '2000-01-23'),\n",
       " (43, 22, '2000-01-18'),\n",
       " (75, 10, '2000-01-23'),\n",
       " (238, 10, '2006-06-17')]"
      ]
     },
     "execution_count": 32,
     "metadata": {},
     "output_type": "execute_result"
    }
   ],
   "source": [
    "subq = select(subject.c.subj_id)\n",
    "subq = subq.where(subject.c.semester == 1).scalar_subquery()\n",
    "\n",
    "s = select(exam_marks.c.exam_id, exam_marks.c.subj_id, func.date(exam_marks.c.exam_date))\n",
    "s = s.where(and_(exam_marks.c.subj_id.in_(subq)), exam_marks.c.mark > 2)\n",
    "\n",
    "print(s)\n",
    "result = conn.execute(s).fetchall()\n",
    "print(len(result))\n",
    "result[:10]"
   ]
  },
  {
   "cell_type": "markdown",
   "id": "black-rainbow",
   "metadata": {},
   "source": [
    "### 7. Отредактируйте следующий запрос с подзапросом, чтобы найти всех студентов, имеющих только отличные оценки.\n",
    "```\n",
    "s = \"\"\"\n",
    "SELECT DISTINCT student_id, surname, name\n",
    "FROM student st\n",
    "WHERE 4 < (\n",
    "    SELECT min(mark) FROM exam_marks em WHERE ...\n",
    ")\n",
    "\"\"\"\n",
    "```"
   ]
  },
  {
   "cell_type": "code",
   "execution_count": 37,
   "id": "desirable-hindu",
   "metadata": {},
   "outputs": [
    {
     "name": "stdout",
     "output_type": "stream",
     "text": [
      "SELECT DISTINCT student.student_id, student.surname, student.name \n",
      "FROM student \n",
      "WHERE (SELECT min(exam_marks.mark) AS min_1 \n",
      "FROM exam_marks \n",
      "WHERE student.student_id = exam_marks.student_id) > :param_1\n",
      "7\n"
     ]
    },
    {
     "data": {
      "text/plain": [
       "[(10, 'Кузнецов', 'Борис'),\n",
       " (55, 'Белкин', 'Вадим'),\n",
       " (82, 'Лапина', 'Элеонора'),\n",
       " (88, 'Жданова', 'Ирина'),\n",
       " (91, 'Блохина', 'Ираида'),\n",
       " (92, 'Мельникова', 'Светлана'),\n",
       " (99, 'Борисова', 'Марина')]"
      ]
     },
     "execution_count": 37,
     "metadata": {},
     "output_type": "execute_result"
    }
   ],
   "source": [
    "subq = select(func.min(exam_marks.c.mark))\n",
    "subq = subq.where(student.c.student_id == exam_marks.c.student_id).scalar_subquery()\n",
    "\n",
    "s = select(student.c.student_id.distinct(), student.c.surname, student.c.name)\n",
    "s = s.where(subq > 4)\n",
    "\n",
    "\n",
    "print(s)\n",
    "result = conn.execute(s).fetchall()\n",
    "print(len(result))\n",
    "result[:10]"
   ]
  },
  {
   "cell_type": "markdown",
   "id": "composite-antique",
   "metadata": {},
   "source": [
    "### 8. Напишите запрос, выполняющий вывод идентификаторов, фамилий, имён студентов, средняя оценка которых превышает 3 балла на экзаменах по предметам 3 семестра."
   ]
  },
  {
   "cell_type": "code",
   "execution_count": 40,
   "id": "stock-prototype",
   "metadata": {},
   "outputs": [
    {
     "name": "stdout",
     "output_type": "stream",
     "text": [
      "SELECT student.student_id, student.surname, student.name \n",
      "FROM student \n",
      "WHERE (SELECT avg(exam_marks.mark) AS avg_1 \n",
      "FROM exam_marks \n",
      "WHERE student.student_id = exam_marks.student_id AND exam_marks.subj_id IN (SELECT subject.subj_id \n",
      "FROM subject \n",
      "WHERE subject.semester = :semester_1)) > :param_1\n",
      "2\n"
     ]
    },
    {
     "data": {
      "text/plain": [
       "[(62, 'Семенова', 'Вероника'), (99, 'Борисова', 'Марина')]"
      ]
     },
     "execution_count": 40,
     "metadata": {},
     "output_type": "execute_result"
    }
   ],
   "source": [
    "subq_1 = select(subject.c.subj_id)\n",
    "subq_1 = subq_1.where(subject.c.semester == 3).scalar_subquery()\n",
    "\n",
    "subq = select(func.avg(exam_marks.c.mark))\n",
    "subq = subq.where(and_(student.c.student_id == exam_marks.c.student_id), exam_marks.c.subj_id.in_(subq_1)).scalar_subquery()\n",
    "\n",
    "s = select(student.c.student_id, student.c.surname, student.c.name)\n",
    "s = s.where(subq > 3)\n",
    "\n",
    "\n",
    "print(s)\n",
    "result = conn.execute(s).fetchall()\n",
    "print(len(result))\n",
    "result[:10]"
   ]
  },
  {
   "cell_type": "markdown",
   "id": "associate-middle",
   "metadata": {},
   "source": [
    "### 9. Напишите запрос, выполняющий вывод списка идентификаторов, фамилий, имён, городов студентов, имеющих только отличные оценки и проживающих в городе, не совпадающем с городом их университета."
   ]
  },
  {
   "cell_type": "code",
   "execution_count": 41,
   "id": "residential-discharge",
   "metadata": {},
   "outputs": [
    {
     "name": "stdout",
     "output_type": "stream",
     "text": [
      "SELECT student.student_id, student.surname, student.name, student.city \n",
      "FROM student \n",
      "WHERE (SELECT min(exam_marks.mark) AS min_1 \n",
      "FROM exam_marks \n",
      "WHERE student.student_id = exam_marks.student_id) > :param_1 AND student.student_id IN (SELECT student.student_id \n",
      "FROM university \n",
      "WHERE student.city != university.city AND student.univ_id = university.univ_id)\n",
      "6\n"
     ]
    },
    {
     "data": {
      "text/plain": [
       "[(10, 'Кузнецов', 'Борис', 'Брянск'),\n",
       " (82, 'Лапина', 'Элеонора', 'Джубга'),\n",
       " (88, 'Жданова', 'Ирина', 'Тверь'),\n",
       " (91, 'Блохина', 'Ираида', 'Новый Уренгой'),\n",
       " (92, 'Мельникова', 'Светлана', 'Кропоткин (Краснод.)'),\n",
       " (99, 'Борисова', 'Марина', 'Рославль')]"
      ]
     },
     "execution_count": 41,
     "metadata": {},
     "output_type": "execute_result"
    }
   ],
   "source": [
    "subq_1 = select(student.c.student_id)\n",
    "subq_1 = subq_1.where(and_(student.c.city != university.c.city, student.c.univ_id == university.c.univ_id)).scalar_subquery()\n",
    "\n",
    "\n",
    "subq = select(func.min(exam_marks.c.mark))\n",
    "subq = subq.where(student.c.student_id == exam_marks.c.student_id).scalar_subquery()\n",
    "\n",
    "s = select(student.c.student_id, student.c.surname, student.c.name, student.c.city)\n",
    "s = s.where(and_(subq > 4, student.c.student_id.in_(subq_1)))\n",
    "\n",
    "\n",
    "print(s)\n",
    "result = conn.execute(s).fetchall()\n",
    "print(len(result))\n",
    "result[:10]"
   ]
  },
  {
   "cell_type": "markdown",
   "id": "indoor-string",
   "metadata": {},
   "source": [
    "### 10. Покажите ИД экзамена, ИД студента, ИД предмета, оценку, дату для всех экзаменов, сдававшихся студентами ВГУ."
   ]
  },
  {
   "cell_type": "code",
   "execution_count": 44,
   "id": "stylish-deviation",
   "metadata": {},
   "outputs": [
    {
     "name": "stdout",
     "output_type": "stream",
     "text": [
      "SELECT exam_marks.exam_id, exam_marks.student_id, exam_marks.subj_id, exam_marks.mark, date(exam_marks.exam_date) AS date_1 \n",
      "FROM exam_marks \n",
      "WHERE exam_marks.student_id IN (SELECT student.student_id \n",
      "FROM student, university \n",
      "WHERE student.univ_id = university.univ_id AND university.univ_name = :univ_name_1)\n",
      "14\n"
     ]
    },
    {
     "data": {
      "text/plain": [
       "[(8, 116, 12, 1, '2020-05-26'),\n",
       " (11, 76, 56, 2, '2020-05-27'),\n",
       " (12, 88, 56, 5, '2019-09-02'),\n",
       " (13, 76, 12, 2, '2020-02-10'),\n",
       " (15, 62, 94, 4, '2021-06-02'),\n",
       " (17, 99, 94, 5, '2020-05-26'),\n",
       " (28, 10, 12, 5, '2019-05-29'),\n",
       " (29, 1, 43, 1, '2020-10-24'),\n",
       " (32, 65, 73, 1, '2020-02-21'),\n",
       " (75, 55, 10, 5, '2000-01-23')]"
      ]
     },
     "execution_count": 44,
     "metadata": {},
     "output_type": "execute_result"
    }
   ],
   "source": [
    "subq = select(student.c.student_id)\n",
    "subq = subq.where(and_(student.c.univ_id == university.c.univ_id, university.c.univ_name == \"ВГУ\")).scalar_subquery()\n",
    "\n",
    "s = select(exam_marks.c.exam_id, exam_marks.c.student_id, exam_marks.c.subj_id, exam_marks.c.mark, func.date(exam_marks.c.exam_date))\n",
    "s = s.where(exam_marks.c.student_id.in_(subq))\n",
    "\n",
    "\n",
    "print(s)\n",
    "result = conn.execute(s).fetchall()\n",
    "print(len(result))\n",
    "result[:10]"
   ]
  },
  {
   "cell_type": "markdown",
   "id": "annoying-indianapolis",
   "metadata": {},
   "source": [
    "### 11. Напишите запрос, показывающий, сколько круглых отличников в каждом университете. Результат должен содержать название университета и число круглых отличников в нём."
   ]
  },
  {
   "cell_type": "code",
   "execution_count": 48,
   "id": "gothic-temperature",
   "metadata": {},
   "outputs": [
    {
     "name": "stdout",
     "output_type": "stream",
     "text": [
      "SELECT university.univ_name, count(student.student_id) AS count_1 \n",
      "FROM university, student \n",
      "WHERE student.univ_id = university.univ_id AND (SELECT min(exam_marks.mark) AS min_1 \n",
      "FROM exam_marks \n",
      "WHERE student.student_id = exam_marks.student_id) > :param_1 GROUP BY student.univ_id\n",
      "4\n"
     ]
    },
    {
     "data": {
      "text/plain": [
       "[('ВГУ', 4), ('ТГУ', 1), ('МГУ', 1), ('МГТУ им. Баумана', 1)]"
      ]
     },
     "execution_count": 48,
     "metadata": {},
     "output_type": "execute_result"
    }
   ],
   "source": [
    "subq = select(func.min(exam_marks.c.mark))\n",
    "subq = subq.where(student.c.student_id == exam_marks.c.student_id).scalar_subquery()\n",
    "\n",
    "s = select(university.c.univ_name, func.count(student.c.student_id))\n",
    "s = s.where(and_(student.c.univ_id == university.c.univ_id, subq >4))\n",
    "s = s.group_by(student.c.univ_id)\n",
    "\n",
    "\n",
    "print(s)\n",
    "result = conn.execute(s).fetchall()\n",
    "print(len(result))\n",
    "result[:10]"
   ]
  },
  {
   "cell_type": "markdown",
   "id": "miniature-harvard",
   "metadata": {},
   "source": [
    "### 12. Напишите запрос, который выполняет выборку имен и фамилий всех студентов, имеющих по предмету c идентификатором 10 балл ниже общего среднего балла."
   ]
  },
  {
   "cell_type": "code",
   "execution_count": 65,
   "id": "charitable-console",
   "metadata": {},
   "outputs": [
    {
     "name": "stdout",
     "output_type": "stream",
     "text": [
      "SELECT student.student_id, student.surname, student.name \n",
      "FROM student \n",
      "WHERE (SELECT exam_marks.mark \n",
      "FROM exam_marks \n",
      "WHERE exam_marks.student_id = student.student_id AND exam_marks.exam_id = :exam_id_1) < (SELECT avg(exam_marks.mark) AS avg_1 \n",
      "FROM exam_marks \n",
      "WHERE exam_marks.student_id = student.student_id)\n",
      "0\n"
     ]
    },
    {
     "data": {
      "text/plain": [
       "[]"
      ]
     },
     "execution_count": 65,
     "metadata": {},
     "output_type": "execute_result"
    }
   ],
   "source": [
    "# Я сделал запрос для среднего балла этого студента по всем предметам\n",
    "subq_total = select(func.avg(exam_marks.c.mark))\n",
    "subq_total = subq_total.where(exam_marks.c.student_id == student.c.student_id).scalar_subquery()\n",
    "\n",
    "subq = select(exam_marks.c.mark)\n",
    "subq = subq.where(and_(exam_marks.c.student_id == student.c.student_id, exam_marks.c.exam_id == 10)).scalar_subquery()\n",
    "\n",
    "\n",
    "s = select(student.c.student_id, student.c.surname, student.c.name)\n",
    "s = s.where(subq < subq_total)\n",
    "\n",
    "\n",
    "print(s)\n",
    "result = conn.execute(s).fetchall()\n",
    "print(len(result))\n",
    "result[:10]"
   ]
  },
  {
   "cell_type": "markdown",
   "id": "ruled-destination",
   "metadata": {},
   "source": [
    "### 13. С помощью EXISTS Напишите запрос, выполняющий вывод количества студентов, имеющих хотя бы одну неудовлетворительную оценку и проживающих в городе, не совпадающем с городом их университета."
   ]
  },
  {
   "cell_type": "code",
   "execution_count": 92,
   "id": "working-immunology",
   "metadata": {},
   "outputs": [
    {
     "name": "stdout",
     "output_type": "stream",
     "text": [
      "SELECT count(student.student_id) AS count_1 \n",
      "FROM student \n",
      "WHERE (EXISTS (SELECT * \n",
      "FROM university \n",
      "WHERE student.univ_id = university.univ_id AND university.city != student.city)) AND (SELECT min(exam_marks.mark) AS min_1 \n",
      "FROM exam_marks \n",
      "WHERE student.student_id = exam_marks.student_id) < :param_1\n",
      "1\n"
     ]
    },
    {
     "data": {
      "text/plain": [
       "[(17,)]"
      ]
     },
     "execution_count": 92,
     "metadata": {},
     "output_type": "execute_result"
    }
   ],
   "source": [
    "subq_1 = select(func.min(exam_marks.c.mark))\n",
    "subq_1 = subq_1.where(student.c.student_id == exam_marks.c.student_id).scalar_subquery()\n",
    "\n",
    "subq = exists().where(and_(student.c.univ_id == university.c.univ_id, university.c.city != student.c.city))\n",
    "\n",
    "s = select(func.count(student.c.student_id))\n",
    "s = s.where(and_(subq, subq_1 < 3))\n",
    "\n",
    "print(s)\n",
    "result = conn.execute(s).fetchall()\n",
    "print(len(result))\n",
    "result[:10]"
   ]
  },
  {
   "cell_type": "markdown",
   "id": "eleven-estimate",
   "metadata": {},
   "source": [
    "### 14. С помощью EXISTS Напишите запрос, выполняющий вывод количества студентов, не имеющих ни одной оценки."
   ]
  },
  {
   "cell_type": "code",
   "execution_count": 75,
   "id": "thermal-syntax",
   "metadata": {},
   "outputs": [
    {
     "name": "stdout",
     "output_type": "stream",
     "text": [
      "SELECT count(student.student_id) AS count_1 \n",
      "FROM student \n",
      "WHERE NOT (EXISTS (SELECT exam_marks.mark \n",
      "FROM exam_marks \n",
      "WHERE exam_marks.student_id = student.student_id))\n",
      "1\n"
     ]
    },
    {
     "data": {
      "text/plain": [
       "[(54,)]"
      ]
     },
     "execution_count": 75,
     "metadata": {},
     "output_type": "execute_result"
    }
   ],
   "source": [
    "subq = ~exists(exam_marks.c.mark).where(exam_marks.c.student_id == student.c.student_id)\n",
    "\n",
    "s = select(func.count(student.c.student_id))\n",
    "s = s.where(subq)\n",
    "\n",
    "print(s)\n",
    "result = conn.execute(s).fetchall()\n",
    "print(len(result))\n",
    "result[:10]"
   ]
  },
  {
   "cell_type": "markdown",
   "id": "stone-valentine",
   "metadata": {},
   "source": [
    "### 15.  Напишите запрос, показывающий дату первого экзамена в 2020 году, дату последнего экзамена в 2020 году, количество дней между первым и последним экзаменом в 2020 году. Подсказка: для установки фильтра на 2020 год можно использовать оператор LIKE, например `.where(func.date(exam_marks.c.exam_date).like(\"2020-%\"))`"
   ]
  },
  {
   "cell_type": "code",
   "execution_count": 82,
   "id": "vulnerable-preview",
   "metadata": {},
   "outputs": [
    {
     "name": "stdout",
     "output_type": "stream",
     "text": [
      "SELECT min(exam_marks.exam_date) AS min_1, max(exam_marks.exam_date) AS max_1, julianday(max(date(exam_marks.exam_date))) - julianday(min(date(exam_marks.exam_date))) AS anon_1 \n",
      "FROM exam_marks \n",
      "WHERE date(exam_marks.exam_date) LIKE :date_1\n",
      "1\n"
     ]
    },
    {
     "data": {
      "text/plain": [
       "[(datetime.datetime(2020, 2, 10, 0, 0), datetime.datetime(2020, 12, 3, 0, 0), 297.0)]"
      ]
     },
     "execution_count": 82,
     "metadata": {},
     "output_type": "execute_result"
    }
   ],
   "source": [
    "s = select(func.min(exam_marks.c.exam_date), func.max(exam_marks.c.exam_date), func.julianday(func.max(func.date(exam_marks.c.exam_date)))-func.julianday(func.min(func.date(exam_marks.c.exam_date))))\n",
    "s = s.where(func.date(exam_marks.c.exam_date).like(\"2020-%\"))\n",
    "\n",
    "print(s)\n",
    "result = conn.execute(s).fetchall()\n",
    "print(len(result))\n",
    "result[:10]"
   ]
  }
 ],
 "metadata": {
  "kernelspec": {
   "display_name": "Python 3",
   "language": "python",
   "name": "python3"
  },
  "language_info": {
   "codemirror_mode": {
    "name": "ipython",
    "version": 3
   },
   "file_extension": ".py",
   "mimetype": "text/x-python",
   "name": "python",
   "nbconvert_exporter": "python",
   "pygments_lexer": "ipython3",
   "version": "3.9.0"
  }
 },
 "nbformat": 4,
 "nbformat_minor": 5
}
